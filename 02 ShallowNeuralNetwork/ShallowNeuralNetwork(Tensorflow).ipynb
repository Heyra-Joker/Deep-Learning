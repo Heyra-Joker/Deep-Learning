{
 "cells": [
  {
   "cell_type": "markdown",
   "metadata": {},
   "source": [
    "# ShallowNeuralNetwork(Tensorflow)"
   ]
  },
  {
   "cell_type": "code",
   "execution_count": 1,
   "metadata": {},
   "outputs": [],
   "source": [
    "import tensorflow as tf\n",
    "import numpy as np\n",
    "import matplotlib.pyplot as plt\n",
    "from sklearn.model_selection import train_test_split\n",
    "from sklearn import datasets"
   ]
  },
  {
   "cell_type": "markdown",
   "metadata": {},
   "source": [
    "### 1 Load Data\n",
    "\n",
    "这里我们使用sklearn中的iris数据集."
   ]
  },
  {
   "cell_type": "code",
   "execution_count": 2,
   "metadata": {},
   "outputs": [],
   "source": [
    "def loadData_iris():\n",
    "    \"\"\"\n",
    "    Returns:\n",
    "    --------\n",
    "        X:have two dimensions (sepal length and width).\n",
    "        Y:labels.\n",
    "    \"\"\"\n",
    "    iris = datasets.load_iris()\n",
    "    X = iris.data[:100, :2]\n",
    "    Y = iris.target[:100]\n",
    "    return X,Y"
   ]
  },
  {
   "cell_type": "code",
   "execution_count": 3,
   "metadata": {
    "scrolled": true
   },
   "outputs": [
    {
     "name": "stdout",
     "output_type": "stream",
     "text": [
      "X shape is: (100, 2)\n",
      "y shape is: (100,)\n"
     ]
    }
   ],
   "source": [
    "X,y = loadData_iris()\n",
    "print('X shape is:',X.shape)\n",
    "print('y shape is:',y.shape)"
   ]
  },
  {
   "cell_type": "code",
   "execution_count": 4,
   "metadata": {},
   "outputs": [],
   "source": [
    "X_train, X_test, y_train, y_test = train_test_split(X, y, test_size=0.2, random_state=42)"
   ]
  },
  {
   "cell_type": "markdown",
   "metadata": {},
   "source": [
    "同样和Application中一样,我们将数据转置."
   ]
  },
  {
   "cell_type": "code",
   "execution_count": 5,
   "metadata": {},
   "outputs": [
    {
     "name": "stdout",
     "output_type": "stream",
     "text": [
      "X_train shape: (2, 80)\n",
      "X_test shape: (2, 20)\n",
      "y_train shape: (1, 80)\n",
      "y_test shape: (1, 20)\n"
     ]
    }
   ],
   "source": [
    "X_train = X_train.T\n",
    "X_test = X_test.T\n",
    "y_train = y_train.reshape(1,-1)\n",
    "y_test = y_test.reshape(1,-1)\n",
    "\n",
    "print('X_train shape:',X_train.shape)\n",
    "print('X_test shape:',X_test.shape)\n",
    "print('y_train shape:',y_train.shape)\n",
    "print('y_test shape:',y_test.shape)"
   ]
  },
  {
   "cell_type": "markdown",
   "metadata": {},
   "source": [
    "### 2 Initialization Parameters\n",
    "\n",
    "我们使用```tf.Variable```创建变量,其中$W$使用随机的标准正态分布数据,$b$初始化为0,并设置随机数种子```seed=1```"
   ]
  },
  {
   "cell_type": "code",
   "execution_count": 6,
   "metadata": {},
   "outputs": [],
   "source": [
    "def initial_parameters(layers):\n",
    "    \"\"\"\n",
    "    parameters:\n",
    "    ----------\n",
    "        layers: L layers dim.\n",
    "    Return:\n",
    "    ------\n",
    "        parameters: cache weights and bias.\n",
    "    \"\"\"\n",
    "    L = len(layers)\n",
    "    parameters = {}\n",
    "    for l in range(1,L):\n",
    "        parameters['W'+str(l)] = tf.Variable(tf.random_normal([layers[l],layers[l-1]],seed=1))\n",
    "        parameters['b'+str(l)] = tf.Variable(tf.zeros(shape=(layers[l],1)))\n",
    "    return parameters"
   ]
  },
  {
   "cell_type": "code",
   "execution_count": 7,
   "metadata": {},
   "outputs": [
    {
     "name": "stdout",
     "output_type": "stream",
     "text": [
      "WARNING:tensorflow:From /Library/Frameworks/Python.framework/Versions/3.6/lib/python3.6/site-packages/tensorflow/python/framework/op_def_library.py:263: colocate_with (from tensorflow.python.framework.ops) is deprecated and will be removed in a future version.\n",
      "Instructions for updating:\n",
      "Colocations handled automatically by placer.\n",
      "W1: (4, 2)\n",
      "b1: (4, 1)\n",
      "W2: (1, 4)\n",
      "b2: (1, 1)\n"
     ]
    }
   ],
   "source": [
    "layers = [X_train.shape[0],4,1]\n",
    "parameters = initial_parameters(layers)\n",
    "print('W1:',parameters['W1'].shape)\n",
    "print('b1:',parameters['b1'].shape)\n",
    "print('W2:',parameters['W2'].shape)\n",
    "print('b2:',parameters['b2'].shape)"
   ]
  },
  {
   "cell_type": "markdown",
   "metadata": {},
   "source": [
    "### 3 Build Model\n",
    "\n",
    "(1) 需要先创建placeholder,其中样本数量我们指定为None,是因为有batch size的存在.\n",
    "\n",
    "```python\n",
    "X = tf.placeholder(tf.float32,shape=[n,None])\n",
    "y = tf.placeholder(tf.float32,shape=[1,None])```\n",
    "\n",
    "(2) 创建网络hidden layers的形状.\n",
    "\n",
    "```python\n",
    "layers = [n,4,1]```\n",
    "\n",
    "这里总共有两层,第一层的节点为4,输出层的节点为1.\n",
    "\n",
    "(3) 初始化参数\n",
    "\n",
    "```python\n",
    "parameters = initial_parameters(layers)```\n",
    "\n",
    "(4) forward propagation\n",
    "\n",
    "```python\n",
    "Z1 = tf.add(tf.matmul(W1,X),b1)\n",
    "A1 = tf.nn.relu(Z1)\n",
    "Z2 = tf.add(tf.matmul(W2,A1),b2)```\n",
    "\n",
    "(6) compute loss,set optimizer and update parameters\n",
    "\n",
    "```python\n",
    "cost = tf.reduce_mean(tf.nn.sigmoid_cross_entropy_with_logits(logits=Z2,labels=y))\n",
    "optimizer = tf.train.GradientDescentOptimizer(learning_rate=alpha).minimize(cost)```\n",
    "\n",
    "\n",
    "(7) start run tensor\n",
    "\n",
    "**Ps:**\n",
    "\n",
    "batch size:将在后面阐述"
   ]
  },
  {
   "cell_type": "code",
   "execution_count": 8,
   "metadata": {},
   "outputs": [],
   "source": [
    "def Model(data,labels,Iter,alpha,is_print=False):\n",
    "    \"\"\"\n",
    "    Build Tensor model\n",
    "    \n",
    "    Parameters:\n",
    "    ----------\n",
    "        data: training data set\n",
    "        labels: training labels\n",
    "        Iter: iterative\n",
    "        alpha: learning rate\n",
    "        is_print: print loss value\n",
    "    \n",
    "    Return:\n",
    "    ------\n",
    "        parameters: have best weights and bias.\n",
    "    \n",
    "    \"\"\"\n",
    "    \n",
    "    # create placeholder\n",
    "    n,m = data.shape\n",
    "    X = tf.placeholder(tf.float32,shape=[n,None]) # None: batch size\n",
    "    y = tf.placeholder(tf.float32,shape=[1,None])\n",
    "    \n",
    "    # create network structure\n",
    "    layers = [n,4,1]\n",
    "    \n",
    "    # initialization weights and bias\n",
    "    parameters = initial_parameters(layers)\n",
    "    \n",
    "    ####### forward ##########\n",
    "    W1 = parameters['W1']\n",
    "    b1 = parameters['b1']\n",
    "    W2 = parameters['W2']\n",
    "    b2 = parameters['b2']\n",
    "    \n",
    "    Z1 = tf.add(tf.matmul(W1,X),b1)\n",
    "    A1 = tf.nn.relu(Z1)\n",
    "    Z2 = tf.add(tf.matmul(W2,A1),b2)\n",
    "    ####### end #############\n",
    "    \n",
    "    # compute cost and optimizer\n",
    "    cost = tf.reduce_mean(tf.nn.sigmoid_cross_entropy_with_logits(logits=Z2,labels=y))\n",
    "    optimizer = tf.train.GradientDescentOptimizer(learning_rate=alpha).minimize(cost) # target:minimize cost.\n",
    "   \n",
    "    init = tf.global_variables_initializer()\n",
    "    \n",
    "    # star run tensor\n",
    "    with tf.Session() as sess:\n",
    "        sess.run(init)\n",
    "        costs = []\n",
    "        for iter_ in range(Iter):\n",
    "            _,loss = sess.run([optimizer,cost],feed_dict={X:data,y:labels})\n",
    "            \n",
    "            if iter_ % 1000 == 0 and is_print:\n",
    "                print('After Iteration: {} loss: {}'.format(iter_,loss))\n",
    "            if iter_ % 10 == 0:\n",
    "                costs.append(loss)\n",
    "                \n",
    "        \n",
    "        # get best weights and bias\n",
    "        parameters['W1'] = sess.run(W1)\n",
    "        parameters['b1'] = sess.run(b1)\n",
    "        parameters['W2'] = sess.run(W2)\n",
    "        parameters['b2'] = sess.run(b2)\n",
    "        \n",
    "        # plot cost \n",
    "        plt.plot(costs)\n",
    "        plt.title('Learning rate: {}'.format(alpha))\n",
    "        plt.xlabel('Iteration per 100')\n",
    "        plt.ylabel('loss value')\n",
    "        plt.show()\n",
    "        \n",
    "        return parameters\n",
    "    \n",
    "    "
   ]
  },
  {
   "cell_type": "code",
   "execution_count": 9,
   "metadata": {
    "scrolled": true
   },
   "outputs": [
    {
     "name": "stdout",
     "output_type": "stream",
     "text": [
      "After Iteration: 0 loss: 0.5297104120254517\n",
      "After Iteration: 1000 loss: 0.049854621291160583\n",
      "After Iteration: 2000 loss: 0.037970226258039474\n"
     ]
    },
    {
     "data": {
      "image/png": "[encoded data removed]",
      "text/plain": [
       "<Figure size 432x288 with 1 Axes>"
      ]
     },
     "metadata": {
      "needs_background": "light"
     },
     "output_type": "display_data"
    }
   ],
   "source": [
    "parameters = Model(X_train,y_train,3000,0.1,True)"
   ]
  },
  {
   "cell_type": "markdown",
   "metadata": {},
   "source": [
    "可以看出loss是下降的一个趋势."
   ]
  },
  {
   "cell_type": "markdown",
   "metadata": {},
   "source": [
    "### 4 Predict  and correct rate\n",
    "\n",
    "下面我们看看训练样本和测试样本的正确率\n",
    "\n",
    "注意:\n",
    "\n",
    "在Tensorflow中无法将布尔型直接转换成浮点型,所以我们需要手动转换才能统计正确率\n",
    "\n",
    "```python\n",
    "tf.cast```"
   ]
  },
  {
   "cell_type": "code",
   "execution_count": 10,
   "metadata": {},
   "outputs": [],
   "source": [
    "def predict(data,labels,parameters):\n",
    "    \"\"\"\n",
    "    predict and get data correct rate\n",
    "    Parameters:\n",
    "    ----------\n",
    "        data: data set\n",
    "        labels: labels\n",
    "        parameters: best weights and bias\n",
    "    \n",
    "    Return:\n",
    "    ------\n",
    "        correct_rate: data correct rate.\n",
    "    \"\"\"\n",
    "    n,m = data.shape\n",
    "    X = tf.placeholder(tf.float32,shape=[n,None])\n",
    "    y = tf.placeholder(tf.float32,shape=[1,None])\n",
    "    \n",
    "    W1 = parameters['W1']\n",
    "    b1 = parameters['b1']\n",
    "    W2 = parameters['W2']\n",
    "    b2 = parameters['b2']\n",
    "    \n",
    "    Z1 = tf.add(tf.matmul(W1,X),b1)\n",
    "    A1 = tf.nn.relu(Z1)\n",
    "    Z2 = tf.add(tf.matmul(W2,A1),b2)\n",
    "    A2 = tf.sigmoid(Z2)\n",
    "    \n",
    "    correct_ = tf.equal(tf.round(A2),y)\n",
    "    accuracy = tf.reduce_mean(tf.cast(correct_,tf.float32)) # change data type\n",
    "    \n",
    "    init = tf.global_variables_initializer()\n",
    "    \n",
    "    with tf.Session() as sess:\n",
    "        sess.run(init)\n",
    "        \n",
    "        correct_rate = accuracy.eval({X:data,y:labels})\n",
    "        \n",
    "        return correct_rate\n",
    "    "
   ]
  },
  {
   "cell_type": "code",
   "execution_count": 11,
   "metadata": {},
   "outputs": [
    {
     "name": "stdout",
     "output_type": "stream",
     "text": [
      "The test data set correct rate: 1.0\n"
     ]
    }
   ],
   "source": [
    "correct = predict(X_test,y_test,parameters)\n",
    "print('The test data set correct rate:',correct)"
   ]
  },
  {
   "cell_type": "code",
   "execution_count": 12,
   "metadata": {},
   "outputs": [
    {
     "name": "stdout",
     "output_type": "stream",
     "text": [
      "The train data set correct rate: 0.9875\n"
     ]
    }
   ],
   "source": [
    "correct = predict(X_train,y_train,parameters)\n",
    "print('The train data set correct rate:',correct)"
   ]
  },
  {
   "cell_type": "markdown",
   "metadata": {},
   "source": [
    "可以看到测试样本的正确率和训练样本的正确率都是很可观的."
   ]
  },
  {
   "cell_type": "markdown",
   "metadata": {},
   "source": [
    "### TensorBorder\n",
    "\n",
    "tensorbord可以将我们的网络可视化出来\n",
    "\n",
    "[tensorbord](https://www.tensorflow.org/guide/summaries_and_tensorboard?hl=zh_cn)\n",
    "\n",
    "当更改tensorbord时,需要清空缓存,否则再次载入会在上一次的结果下进行载入.\n",
    "\n",
    "我们需要使用with tf.name_scope来进行参数命名空间\n",
    "\n",
    "```python\n",
    "def variable_summary```\n",
    "\n",
    "负责计算均值,方差标准差,直方图等.."
   ]
  },
  {
   "cell_type": "code",
   "execution_count": 13,
   "metadata": {},
   "outputs": [],
   "source": [
    "# 参数概要\n",
    "def variable_summary(var):\n",
    "    with tf.name_scope('summaries'):\n",
    "        mean = tf.reduce_mean(var)\n",
    "        tf.summary.scalar('mean',mean)   # tf.summary.scalar:记录值，并给予名称\n",
    "        with tf.name_scope('stddev'):\n",
    "            stddev = tf.square(tf.reduce_mean(tf.square(var - mean)))\n",
    "        tf.summary.scalar('stddev',stddev)  # 标准差\n",
    "        tf.summary.scalar('max',tf.reduce_max(var))\n",
    "        tf.summary.scalar('mins',tf.reduce_min(var))\n",
    "        tf.summary.histogram('histogram',var)  # 直方图"
   ]
  },
  {
   "cell_type": "code",
   "execution_count": 14,
   "metadata": {},
   "outputs": [],
   "source": [
    "def Model_tensorbord(data,labels,Iter,alpha,is_print=False):\n",
    "    \"\"\"\n",
    "    Build Tensor model\n",
    "    \n",
    "    Parameters:\n",
    "    ----------\n",
    "        data: training data set\n",
    "        labels: training labels\n",
    "        Iter: iterative\n",
    "        alpha: learning rate\n",
    "        is_print: print loss value\n",
    "    \n",
    "    Return:\n",
    "    ------\n",
    "        parameters: have best weights and bias.\n",
    "    \n",
    "    \"\"\"\n",
    "    \n",
    "    # create placeholder\n",
    "    n,m = data.shape\n",
    "    with tf.name_scope('input'):\n",
    "        X = tf.placeholder(tf.float32,shape=[n,None],name='X-input') # None: batch size\n",
    "        y = tf.placeholder(tf.float32,shape=[1,None],name='y-input')\n",
    "    \n",
    "    # create network structure\n",
    "    with tf.name_scope('inital-parameters'):\n",
    "        # initialization weights and bias\n",
    "        with tf.name_scope('layer-1'):\n",
    "            W1 = tf.Variable(tf.random_normal([4,n],seed=1),name='W1')\n",
    "            b1 = tf.Variable(tf.zeros(shape=(4,1)),name='b1')\n",
    "            variable_summary(W1)\n",
    "            variable_summary(b1)\n",
    "            \n",
    "        with tf.name_scope('layer-2'):\n",
    "            W2 = tf.Variable(tf.random_normal([1,4],seed=1),name='W2')\n",
    "            b2 = tf.Variable(tf.zeros(shape=(1,1)),name='b2')\n",
    "            variable_summary(W2)\n",
    "            variable_summary(b2)\n",
    "            \n",
    "    ####### forward ##########        \n",
    "    with tf.name_scope('forward'):\n",
    "        with tf.name_scope('forward-1'):\n",
    "            Z1 = tf.add(tf.matmul(W1,X),b1,name='Z1')\n",
    "            A1 = tf.nn.relu(Z1,name='A1-relu')\n",
    "        with tf.name_scope('forward-2'):\n",
    "            Z2 = tf.add(tf.matmul(W2,A1),b2,name='Z2')\n",
    "    ####### end #############\n",
    "    \n",
    "    # compute cost and optimizer\n",
    "    with tf.name_scope('cost'):\n",
    "        cost = tf.reduce_mean(tf.nn.sigmoid_cross_entropy_with_logits(logits=Z2,labels=y),name='sigmoid_ent')\n",
    "        tf.summary.scalar('loss',cost)\n",
    "        \n",
    "    with tf.name_scope('Optimizer'):\n",
    "        optimizer = tf.train.GradientDescentOptimizer(learning_rate=alpha,name='GD').minimize(cost) # target:minimize cost.\n",
    "   \n",
    "    with tf.name_scope('accuracy'):\n",
    "        correct_ = tf.equal(tf.round(tf.sigmoid(Z2)),y)\n",
    "        accuracy = tf.reduce_mean(tf.cast(correct_,tf.float32))\n",
    "        tf.summary.scalar('accuracy',accuracy)\n",
    "      \n",
    "    \n",
    "    init = tf.global_variables_initializer()\n",
    "    \n",
    "    # merge all summary\n",
    "    merged = tf.summary.merge_all()\n",
    "    \n",
    "    # star run tensor\n",
    "    with tf.Session() as sess:\n",
    "        sess.run(init)\n",
    "    \n",
    "        write = tf.summary.FileWriter('tensor_model',sess.graph)\n",
    "        for iter_ in range(Iter):\n",
    "            _,summary,loss = sess.run([optimizer,merged,cost],feed_dict={X:data,y:labels})\n",
    "            write.add_summary(summary,iter_)  \n",
    "            if iter_ % 1000 == 0 and is_print:\n",
    "                print('After Iteration: {} loss: {}'.format(iter_,loss))\n",
    "             \n",
    "        \n",
    "\n",
    "    "
   ]
  },
  {
   "cell_type": "code",
   "execution_count": 15,
   "metadata": {
    "scrolled": true
   },
   "outputs": [
    {
     "name": "stdout",
     "output_type": "stream",
     "text": [
      "After Iteration: 0 loss: 0.5297104120254517\n"
     ]
    }
   ],
   "source": [
    "Model_tensorbord(X_train,y_train,300,0.1,is_print=True)"
   ]
  },
  {
   "cell_type": "markdown",
   "metadata": {},
   "source": [
    "那么会在当前同级文件下产生一个\"tensor_model\"的文件.\n",
    "\n",
    "Terminal 进入该文件,使用```tensorboard --logdir=tensor_model```完成Tensorbord运行.\n",
    "\n",
    "在GoogleChrome中输入地址即可进入可视化界面"
   ]
  },
  {
   "cell_type": "markdown",
   "metadata": {},
   "source": [
    "![](../picture/12.png)![](../picture/13.png)![](../picture/14.png)"
   ]
  }
 ],
 "metadata": {
  "kernelspec": {
   "display_name": "Python 3",
   "language": "python",
   "name": "python3"
  },
  "language_info": {
   "codemirror_mode": {
    "name": "ipython",
    "version": 3
   },
   "file_extension": ".py",
   "mimetype": "text/x-python",
   "name": "python",
   "nbconvert_exporter": "python",
   "pygments_lexer": "ipython3",
   "version": "3.6.6"
  }
 },
 "nbformat": 4,
 "nbformat_minor": 2
}
