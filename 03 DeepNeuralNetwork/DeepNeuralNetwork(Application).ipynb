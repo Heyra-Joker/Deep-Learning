{
 "cells": [
  {
   "cell_type": "markdown",
   "metadata": {},
   "source": [
    "# DeepNeuralNetwork(Application)\n",
    "\n",
    "![](../picture/16.png)"
   ]
  },
  {
   "cell_type": "code",
   "execution_count": 1,
   "metadata": {},
   "outputs": [],
   "source": [
    "import numpy as np\n",
    "import matplotlib.pyplot as plt\n",
    "import h5py"
   ]
  },
  {
   "cell_type": "markdown",
   "metadata": {},
   "source": [
    "### 1 Load data"
   ]
  },
  {
   "cell_type": "code",
   "execution_count": 2,
   "metadata": {},
   "outputs": [],
   "source": [
    "def load_data():\n",
    "    '''\n",
    "    create train set and test set\n",
    "    make sure you have .h5 file in your dataset\n",
    "    \n",
    "    Returns:\n",
    "    -------\n",
    "        train_set_x_orig: original train set shape is (209, 64, 64, 3) \n",
    "        train_set_y_orig: original train label shape is (209,)\n",
    "        test_set_x_orig: original test set shape is (50, 64, 64, 3)\n",
    "        test_set_y_orig: original test label shape is (50,)\n",
    "        classes: cat or non-cat.\n",
    "        \n",
    "    Note:\n",
    "    ----\n",
    "        (209, 64, 64, 3): 209 picture,64 width,64 height,3 channel.\n",
    "    '''\n",
    "    train_dataset = h5py.File('../data_set/train_catvnoncat.h5', \"r\")\n",
    "    train_set_x_orig = np.array(train_dataset[\"train_set_x\"][:]) # your train set features\n",
    "    train_set_y_orig = np.array(train_dataset[\"train_set_y\"][:]) # your train set labels\n",
    "\n",
    "    test_dataset = h5py.File('../data_set/test_catvnoncat.h5', \"r\")\n",
    "    test_set_x_orig = np.array(test_dataset[\"test_set_x\"][:]) # your test set features\n",
    "    test_set_y_orig = np.array(test_dataset[\"test_set_y\"][:]) # your test set labels\n",
    "\n",
    "    classes = np.array(test_dataset[\"list_classes\"][:]) # the list of classes\n",
    "    \n",
    "    return train_set_x_orig, train_set_y_orig, test_set_x_orig, test_set_y_orig, classes"
   ]
  },
  {
   "cell_type": "code",
   "execution_count": 3,
   "metadata": {},
   "outputs": [],
   "source": [
    "train_x_orig, train_y, test_x_orig, test_y, classes = load_data()"
   ]
  },
  {
   "cell_type": "code",
   "execution_count": 4,
   "metadata": {
    "scrolled": true
   },
   "outputs": [
    {
     "name": "stdout",
     "output_type": "stream",
     "text": [
      "y = 0. It's a non-cat picture.\n"
     ]
    },
    {
     "data": {
      "image/png": "[encoded data removed]",
      "text/plain": [
       "<Figure size 432x288 with 1 Axes>"
      ]
     },
     "metadata": {
      "needs_background": "light"
     },
     "output_type": "display_data"
    }
   ],
   "source": [
    "index = 0\n",
    "plt.imshow(train_x_orig[index])\n",
    "print (\"y = \" + str(train_y[index]) + \". It's a \" + classes[train_y[index]].decode(\"utf-8\") +  \" picture.\")"
   ]
  },
  {
   "cell_type": "markdown",
   "metadata": {},
   "source": [
    "#### 1.1 Initialization data\n",
    "\n",
    "我们需要将数据除以255以达到归一化的效果."
   ]
  },
  {
   "cell_type": "code",
   "execution_count": 5,
   "metadata": {
    "scrolled": true
   },
   "outputs": [
    {
     "name": "stdout",
     "output_type": "stream",
     "text": [
      "Train_x's shape:(12288, 209)\n",
      "Test_x's shape:(12288, 50)\n",
      "Train_y's shape:(1, 209)\n",
      "Test_y's shape:(1, 50)\n"
     ]
    }
   ],
   "source": [
    "train_x = train_x_orig.reshape(train_x_orig.shape[0],-1).T / 255 \n",
    "test_x = test_x_orig.reshape(test_x_orig.shape[0],-1).T / 255\n",
    "train_y = train_y.reshape(-1,1).T\n",
    "test_y = test_y.reshape(-1,1).T\n",
    "print('Train_x\\'s shape:{}'.format(train_x.shape))\n",
    "print('Test_x\\'s shape:{}'.format(test_x.shape))\n",
    "print(\"Train_y's shape:{}\".format(train_y.shape))\n",
    "print(\"Test_y's shape:{}\".format(test_y.shape))"
   ]
  },
  {
   "cell_type": "markdown",
   "metadata": {},
   "source": [
    "### 2 Initialization parameters \n",
    "\n",
    "初始化参数我们需要注意一下几点:\n",
    "\n",
    "(1) 由于DNN下,我们的hidden layers是的层数可变的,所以我们只能使用循环将其初始化.\n",
    "\n",
    "(2) 对于我们这个案例,我们使用以往的```np.random.randn```会产生梯度爆炸或者消失的问题,所以我们会使用$Xavier\\;Initialization$来初始化.\n",
    "\n",
    "(3) 我们需要将初始化的参数放入一个字典\n",
    "\n",
    "```python\n",
    "parameters = {}```\n",
    "\n",
    "weigths shape:(units,inputs),bias shape:(units,1)\n",
    "\n",
    "**Ps:**\n",
    "\n",
    "这里的梯度消失或者梯度爆炸以及$Xavier\\;Initialization$我们在后面会详细说明."
   ]
  },
  {
   "cell_type": "code",
   "execution_count": 6,
   "metadata": {},
   "outputs": [],
   "source": [
    "def initial_parameters(layers,L):\n",
    "    \"\"\"\n",
    "    initialization parameters \n",
    "    \n",
    "    Parameters:\n",
    "    ----------\n",
    "        layers: every hidden layer units.\n",
    "        L: lengths of layers.\n",
    "    Return:\n",
    "    -------\n",
    "        parameters: L-layer weights and bias.\n",
    "        \n",
    "    \"\"\"\n",
    "    np.random.seed(1)\n",
    "    parameters = {}\n",
    "    for l in range(1,L):\n",
    "        parameters['W'+str(l)] = np.random.randn(layers[l],layers[l-1]) / np.sqrt(layers[l-1])\n",
    "        parameters['b'+str(l)] = np.zeros((layers[l],1))\n",
    "    return parameters"
   ]
  },
  {
   "cell_type": "markdown",
   "metadata": {},
   "source": [
    "我们选择的layers为$[n_x,20,7,5,1]$"
   ]
  },
  {
   "cell_type": "code",
   "execution_count": 7,
   "metadata": {},
   "outputs": [],
   "source": [
    "layers = [train_x.shape[0],20,7,5,1]\n",
    "L = len(layers)\n",
    "parameters = initial_parameters(layers,L=L)"
   ]
  },
  {
   "cell_type": "markdown",
   "metadata": {},
   "source": [
    "### 3 Create activate function\n",
    "\n",
    "创建激活函数,隐藏层我们使用ReLu,输出层我们使用Sigmoid."
   ]
  },
  {
   "cell_type": "code",
   "execution_count": 8,
   "metadata": {},
   "outputs": [],
   "source": [
    "def relu(Z):\n",
    "    return np.maximum(0,Z)"
   ]
  },
  {
   "cell_type": "code",
   "execution_count": 9,
   "metadata": {},
   "outputs": [],
   "source": [
    "def sigmoid(Z):\n",
    "    return 1./(1+np.exp(-Z))"
   ]
  },
  {
   "cell_type": "markdown",
   "metadata": {},
   "source": [
    "### 4 Forward Propagation \n",
    "\n",
    "构建向前传播我们需要注意以下几点\n",
    "\n",
    "(1) 我们需要以for loop的形式将多个隐藏层的参数($W,b$)以及线性值$Z$和激活函数值$A$计算出来\n",
    "\n",
    "```python\n",
    "for l in range(1,L):\n",
    "        W = parameters['W' + str(l)]\n",
    "        b = parameters['b' + str(l)]\n",
    "        Z = np.dot(W,A) + b\n",
    "        ....```\n",
    "        \n",
    "(2) 因为我们使用for loop的形式,所以我们需要将$A$初始化为$X$以用来计算第一层的线行值$Z$.\n",
    "\n",
    "(3) 我们的输出层是采用sigmoid函数,所以需要做判断如果是最后一层,那么将使用sigmoid作用线性值,否则使用ReLu作用线性值.\n",
    "\n",
    "```python\n",
    "if l == L-1:\n",
    "    A = sigmoid(Z)\n",
    "else:\n",
    "    A = relu(Z)```\n",
    "    \n",
    "(4) 最后我们需要缓存各项$Z_i,A_i$以方便在backward Propagation的时候使用."
   ]
  },
  {
   "cell_type": "code",
   "execution_count": 10,
   "metadata": {},
   "outputs": [],
   "source": [
    "def forward(X,parameters,L):\n",
    "    \"\"\"\n",
    "    Build forward propagation\n",
    "    Parameters:\n",
    "    ----------\n",
    "        X: training data.\n",
    "        parameters: weights and bias.\n",
    "        L: lengths of layers.\n",
    "        \n",
    "    Returns:\n",
    "    -------\n",
    "        A: output layer value. and can using it to compute loss value\n",
    "        cache: cache Z,A\n",
    "    \"\"\"\n",
    "    A = X\n",
    "    cache = {'A0':X}\n",
    "    for l in range(1,L):\n",
    "        W = parameters['W' + str(l)]\n",
    "        b = parameters['b' + str(l)]\n",
    "        Z = np.dot(W,A) + b\n",
    "        cache['Z'+str(l)] = Z\n",
    "        if l == L-1:\n",
    "            A = sigmoid(Z)\n",
    "        else:\n",
    "            A = relu(Z)\n",
    "        cache['A'+str(l)] = A\n",
    "    return A,cache"
   ]
  },
  {
   "cell_type": "markdown",
   "metadata": {},
   "source": [
    "我们调用此函数并查看各个维度是否正确,查看维度正确与否是非常重要的,如果维度不正确,那么在backward Propagation会产生很多问题."
   ]
  },
  {
   "cell_type": "code",
   "execution_count": 11,
   "metadata": {
    "scrolled": true
   },
   "outputs": [
    {
     "name": "stdout",
     "output_type": "stream",
     "text": [
      "A0 (12288, 209)\n",
      "Z1 (20, 209)\n",
      "A1 (20, 209)\n",
      "Z2 (7, 209)\n",
      "A2 (7, 209)\n",
      "Z3 (5, 209)\n",
      "A3 (5, 209)\n",
      "Z4 (1, 209)\n",
      "A4 (1, 209)\n"
     ]
    }
   ],
   "source": [
    "A,cache = forward(train_x,parameters,L)\n",
    "for key,value in cache.items():\n",
    "    print(key,value.shape)"
   ]
  },
  {
   "cell_type": "markdown",
   "metadata": {},
   "source": [
    "可以看到我们的各个层的维度都是正确的."
   ]
  },
  {
   "cell_type": "markdown",
   "metadata": {},
   "source": [
    "### 5 Compute Loss.\n",
    "\n",
    "计算二分类的损失函数(binary entropy loss)."
   ]
  },
  {
   "cell_type": "code",
   "execution_count": 12,
   "metadata": {},
   "outputs": [],
   "source": [
    "def compute_loss(A,y,m):\n",
    "    \"\"\"\n",
    "    compute loss\n",
    "    Parameters:\n",
    "    ----------\n",
    "        A: output layer value qeual predict value.\n",
    "        y: true labels.\n",
    "        m: m example.\n",
    "    Return:\n",
    "    ------\n",
    "        loss: loss value.\n",
    "    \"\"\"\n",
    "\n",
    "    loss = - np.sum((y * np.log(A) + (1- y) * np.log(1-A))) / m\n",
    "    return loss"
   ]
  },
  {
   "cell_type": "code",
   "execution_count": 13,
   "metadata": {},
   "outputs": [
    {
     "data": {
      "text/plain": [
       "0.7717493284237686"
      ]
     },
     "execution_count": 13,
     "metadata": {},
     "output_type": "execute_result"
    }
   ],
   "source": [
    "m = train_y.shape[1]\n",
    "loss = compute_loss(A,train_y,m)\n",
    "loss"
   ]
  },
  {
   "cell_type": "markdown",
   "metadata": {},
   "source": [
    "可以看到初次计算的损失是非常大的"
   ]
  },
  {
   "cell_type": "markdown",
   "metadata": {},
   "source": [
    "### 6 Backward Propagation \n",
    "\n",
    "构建向后传播需要注意一下几点:\n",
    "\n",
    "(1) 依然能需要使用for loop来一次性完成所有的BP.\n",
    "\n",
    "(2) 我们的output layers的反向传播是区别于hidden layers的,所以我们需要做一个区分\n",
    "\n",
    "```python\n",
    "if l == L-1:\n",
    "    d_parameters['dZ'+str(L-1)] = cache['A'+str(L-1)] - y```\n",
    "因为我们的输出层是使用sigmoid函数,所以我这里就直接定义了输出层的$dZ$形式.\n",
    "\n",
    "(2) 隐藏层部分都是一样的求导形式\n",
    "\n",
    "```python\n",
    "d_parameters['dZ'+str(l)] = np.multiply(d_parameters['dA'+str(l)],np.int64(cache['Z'+str(l)]> 0))\n",
    "d_parameters['dW'+str(l)] = np.dot(d_parameters['dZ'+str(l)],cache['A'+str(l-1)].T)/m\n",
    "d_parameters['db'+str(l)] = np.sum(d_parameters['dZ'+str(l)],axis=1,keepdims=True)/m```\n",
    "\n",
    "(3) 当然,如果想尝试其他的activate function,这里的求导形式也需要改变\n",
    "\n",
    "$dZ^{[l]} = dA^{[l]} * g^{[l]^{'}}(Z^{[l]})$\n",
    "\n",
    "$dW^{[l]} = \\frac{1}{m} dZ^{[l]} A^{[l-1]}$\n",
    "\n",
    "$db^{[l]} =\\frac{1}{m} np.sum(dZ^{[l]} ,axis = 1, keepdim = True)$\n",
    "\n",
    "$dA^{[l-1]} = W^{[l]^{T}} dZ^{[l]}$\n",
    "\n",
    "(4) 最后需要缓存求导后的结果,用于参数更新\n",
    "\n",
    "**Ps:**\n",
    "\n",
    "因为我们在BP的时候需要使用到FP中的$Z,A$,所以我们在Forward Propagation中才会去缓存$Z,A$"
   ]
  },
  {
   "cell_type": "code",
   "execution_count": 14,
   "metadata": {},
   "outputs": [],
   "source": [
    "def backward(A,y,m,parameters,cache,L):\n",
    "    \"\"\"\n",
    "    Build backward propagation \n",
    "    \n",
    "    Parameters:\n",
    "    ----------\n",
    "        A: output layer value.\n",
    "        y: true labels.\n",
    "        m: m example.\n",
    "        parameters: weights and bias\n",
    "        cache:cache Z,A\n",
    "        L: lengths of layers.\n",
    "        \n",
    "    Return:\n",
    "    -------\n",
    "        d_parameters: parameters derivative value\n",
    "    \"\"\"\n",
    "    d_parameters ={}\n",
    "    \n",
    "    for l in range(L-1,0,-1):\n",
    "        if l == L-1:\n",
    "            d_parameters['dZ'+str(L-1)] = cache['A'+str(L-1)] - y\n",
    "        else:\n",
    "            d_parameters['dZ'+str(l)] = np.multiply(d_parameters['dA'+str(l)],np.int64(cache['Z'+str(l)]> 0))\n",
    "            \n",
    "        d_parameters['dW'+str(l)] = np.dot(d_parameters['dZ'+str(l)],cache['A'+str(l-1)].T)/m\n",
    "        d_parameters['db'+str(l)] = np.sum(d_parameters['dZ'+str(l)],axis=1,keepdims=True)/m\n",
    "        if l !=1:\n",
    "            d_parameters['dA'+str(l-1)] = np.dot(parameters['W'+str(l)].T,d_parameters['dZ'+str(l)])\n",
    "        \n",
    "    return d_parameters"
   ]
  },
  {
   "cell_type": "markdown",
   "metadata": {},
   "source": [
    "我们需要确保参数的导数是和向前传播时的参数是一致的,这一点也是非常重要的."
   ]
  },
  {
   "cell_type": "code",
   "execution_count": 15,
   "metadata": {},
   "outputs": [
    {
     "name": "stdout",
     "output_type": "stream",
     "text": [
      "dZ4 (1, 209)\n",
      "dW4 (1, 5)\n",
      "db4 (1, 1)\n",
      "dA3 (5, 209)\n",
      "dZ3 (5, 209)\n",
      "dW3 (5, 7)\n",
      "db3 (5, 1)\n",
      "dA2 (7, 209)\n",
      "dZ2 (7, 209)\n",
      "dW2 (7, 20)\n",
      "db2 (7, 1)\n",
      "dA1 (20, 209)\n",
      "dZ1 (20, 209)\n",
      "dW1 (20, 12288)\n",
      "db1 (20, 1)\n"
     ]
    }
   ],
   "source": [
    "d_parameters = backward(A,train_y,m,parameters,cache,5)\n",
    "\n",
    "for key,value in d_parameters.items():\n",
    "    print(key,value.shape)"
   ]
  },
  {
   "cell_type": "markdown",
   "metadata": {},
   "source": [
    "可以看到结果是一致的."
   ]
  },
  {
   "cell_type": "markdown",
   "metadata": {},
   "source": [
    "### 7 Optimizer\n",
    "\n",
    "这里是有的优化器是Gradient Descent,使用for loop的形式统一更新参数."
   ]
  },
  {
   "cell_type": "code",
   "execution_count": 16,
   "metadata": {},
   "outputs": [],
   "source": [
    "def Update(d_parameters,parameters,alpha,L):\n",
    "    \"\"\"\n",
    "    Update parameters.\n",
    "    \n",
    "    Parameters:\n",
    "    ----------\n",
    "        d_parameters:parameters derivative value\n",
    "        parameters:weights and bias\n",
    "        alpha:learnLearning  rate \n",
    "        L: lengths of layers\n",
    "        \n",
    "    Return:\n",
    "    ------\n",
    "        parameters: Updated parameters. \n",
    "    \"\"\"\n",
    "    for l in range(1,L):\n",
    "        parameters['W'+str(l)] -= alpha * d_parameters['dW'+str(l)]\n",
    "        parameters['b'+str(l)] -= alpha * d_parameters['db'+str(l)]\n",
    "        \n",
    "    return parameters"
   ]
  },
  {
   "cell_type": "code",
   "execution_count": 17,
   "metadata": {},
   "outputs": [
    {
     "data": {
      "text/plain": [
       "0.7005209104788234"
      ]
     },
     "execution_count": 17,
     "metadata": {},
     "output_type": "execute_result"
    }
   ],
   "source": [
    "parameters = Update(d_parameters,parameters,0.01,5)\n",
    "A,cache = forward(train_x,parameters,L)\n",
    "m = train_y.shape[1]\n",
    "loss = compute_loss(A,train_y,m)\n",
    "loss"
   ]
  },
  {
   "cell_type": "markdown",
   "metadata": {},
   "source": [
    "可以看到相较于第一次的损失值是下降的.\n",
    "\n",
    "### 8 DNN Build Model\n",
    "\n",
    "那么我们将上面的函数步骤融合在一起就组成了我们最终的DNN Model\n",
    "\n",
    "**Ps:**\n",
    "\n",
    "因为我们在模型训练完毕之后需要计算正确率或者预测,那么就需要我们使用我们定义的forward 函数,而其函数需要的参数为(X,parameters,L),故我们也返回L."
   ]
  },
  {
   "cell_type": "code",
   "execution_count": 18,
   "metadata": {},
   "outputs": [],
   "source": [
    "def Model(X,y,layers,alpha,Iter,is_print=False):\n",
    "    \"\"\"\n",
    "    Build DNN Model\n",
    "    Parameters:\n",
    "    ----------\n",
    "        X: training data \n",
    "        y: training data \n",
    "        layers: define layers shape like [20,7,5,1] in 4 layers.\n",
    "        alpha:learning rate \n",
    "        Iter:iteration\n",
    "        is_print: is print loss if true.\n",
    "        \n",
    "    Returns:\n",
    "    ------\n",
    "        parameters: best weights  and bias \n",
    "        L: lengths of layers\n",
    "    \"\"\"\n",
    "    \n",
    "    n,m = X.shape\n",
    "    layers.insert(0,n)\n",
    "    L = len(layers)\n",
    "    \n",
    "    # Initialization  parameters\n",
    "    parameters = initial_parameters(layers,L=L)\n",
    "    cost = []\n",
    "    \n",
    "    # start iteration \n",
    "    for iter_ in range(Iter):\n",
    "        # forward \n",
    "        A,cache = forward(X,parameters,L)\n",
    "        # compute loss\n",
    "        loss = compute_loss(A,y,m)\n",
    "        # backward\n",
    "        d_parameters = backward(A,y,m,parameters,cache,L)\n",
    "        # update or optimizer\n",
    "        parameters = Update(d_parameters,parameters,alpha,L)\n",
    "        \n",
    "        # print loss if is print.\n",
    "        if is_print and iter_ % 1000 == 0:\n",
    "            print('After iter {} loss: {} '.format(iter_,loss))\n",
    "        if iter_ % 100 == 0:\n",
    "            cost.append(loss) # cache loss with 100 step\n",
    "            \n",
    "    # plot loss\n",
    "    plt.plot(cost);plt.title('Cost value,alpha:{}'.format(alpha));plt.xlabel('Iteration');plt.ylabel('loss value')\n",
    "    return parameters,L"
   ]
  },
  {
   "cell_type": "code",
   "execution_count": 19,
   "metadata": {},
   "outputs": [
    {
     "name": "stdout",
     "output_type": "stream",
     "text": [
      "After iter 0 loss: 0.7717493284237686 \n",
      "After iter 1000 loss: 0.3151869888600617 \n",
      "After iter 2000 loss: 0.1138206066863371 \n"
     ]
    },
    {
     "data": {
      "image/png": "[encoded data removed]",
      "text/plain": [
       "<Figure size 432x288 with 1 Axes>"
      ]
     },
     "metadata": {
      "needs_background": "light"
     },
     "output_type": "display_data"
    }
   ],
   "source": [
    "parameters,L = Model(train_x,train_y,[20,7,5,1],0.0075,2500,True)"
   ]
  },
  {
   "cell_type": "markdown",
   "metadata": {},
   "source": [
    "可以看到模型的损失是逐渐降低的\n",
    "\n",
    "### 9 score\n",
    "\n",
    "我们来看看评分"
   ]
  },
  {
   "cell_type": "code",
   "execution_count": 20,
   "metadata": {},
   "outputs": [],
   "source": [
    "def score(X,y,parameters,L):\n",
    "    m = y.shape[1]\n",
    "    A,cache = forward(X,parameters,L)\n",
    "    \n",
    "    predict = np.round(A)\n",
    "    acc = (predict == y).sum() / m\n",
    "    return acc"
   ]
  },
  {
   "cell_type": "code",
   "execution_count": 21,
   "metadata": {},
   "outputs": [
    {
     "data": {
      "text/plain": [
       "0.8"
      ]
     },
     "execution_count": 21,
     "metadata": {},
     "output_type": "execute_result"
    }
   ],
   "source": [
    "score(test_x,test_y,parameters,L)"
   ]
  },
  {
   "cell_type": "code",
   "execution_count": 22,
   "metadata": {
    "scrolled": true
   },
   "outputs": [
    {
     "data": {
      "text/plain": [
       "0.9856459330143541"
      ]
     },
     "execution_count": 22,
     "metadata": {},
     "output_type": "execute_result"
    }
   ],
   "source": [
    "score(train_x,train_y,parameters,L)"
   ]
  },
  {
   "cell_type": "markdown",
   "metadata": {},
   "source": [
    "可以看到,我们选择的超级参数:\n",
    "\n",
    "layers:4\n",
    "\n",
    "units:[20,7,5,1]\n",
    "\n",
    "alpha: 0.0075\n",
    "\n",
    "Iteration:2500\n",
    "\n",
    "结果是可以接受的,当然你也可以尝试其他的层结构和超级参数,来查看是否有更好的结果."
   ]
  },
  {
   "cell_type": "markdown",
   "metadata": {},
   "source": [
    "## 10 Test with your own image\n",
    "我们从网上来挑选一张图片来测试下"
   ]
  },
  {
   "cell_type": "code",
   "execution_count": 23,
   "metadata": {},
   "outputs": [],
   "source": [
    "from skimage import transform"
   ]
  },
  {
   "cell_type": "code",
   "execution_count": 24,
   "metadata": {},
   "outputs": [],
   "source": [
    "def predict(X,parameters,L):\n",
    "    \"\"\"\n",
    "    predict label\n",
    "    \"\"\"\n",
    "    A,cache = forward(X,parameters,L)\n",
    "    predict = np.round(A)\n",
    "    if np.squeeze(predict) == 1:\n",
    "        print(\"It's cat.\")\n",
    "    else:\n",
    "        print(\"Not cat\")"
   ]
  },
  {
   "cell_type": "markdown",
   "metadata": {},
   "source": [
    "加载图片"
   ]
  },
  {
   "cell_type": "code",
   "execution_count": 25,
   "metadata": {},
   "outputs": [],
   "source": [
    "image_path = '../picture/cat.jpg'\n",
    "image = plt.imread(image_path)"
   ]
  },
  {
   "cell_type": "markdown",
   "metadata": {},
   "source": [
    "因为我们的训练样本是(64,64,3)的,所以我们需要将图片转换成一样的形式,当然在转换的过程中会丢失信息,我们将在后面进行阐述这方面的问题."
   ]
  },
  {
   "cell_type": "code",
   "execution_count": 26,
   "metadata": {},
   "outputs": [
    {
     "name": "stderr",
     "output_type": "stream",
     "text": [
      "/Users/huwang/anaconda3/lib/python3.7/site-packages/skimage/transform/_warps.py:105: UserWarning: The default mode, 'constant', will be changed to 'reflect' in skimage 0.15.\n",
      "  warn(\"The default mode, 'constant', will be changed to 'reflect' in \"\n",
      "/Users/huwang/anaconda3/lib/python3.7/site-packages/skimage/transform/_warps.py:110: UserWarning: Anti-aliasing will be enabled by default in skimage 0.15 to avoid aliasing artifacts when down-sampling images.\n",
      "  warn(\"Anti-aliasing will be enabled by default in skimage 0.15 to \"\n"
     ]
    }
   ],
   "source": [
    "image_resize = transform.resize(image,output_shape=(64,64))"
   ]
  },
  {
   "cell_type": "code",
   "execution_count": 27,
   "metadata": {},
   "outputs": [
    {
     "data": {
      "image/png": "[encoded data removed]",
      "text/plain": [
       "<Figure size 432x288 with 2 Axes>"
      ]
     },
     "metadata": {},
     "output_type": "display_data"
    }
   ],
   "source": [
    "plt.subplot(1,2,1);plt.imshow(image);plt.title('Original');plt.xticks(());plt.yticks(())\n",
    "plt.subplot(1,2,2);plt.imshow(image_resize);plt.title('resize');plt.xticks(());plt.yticks(())\n",
    "plt.show()"
   ]
  },
  {
   "cell_type": "markdown",
   "metadata": {},
   "source": [
    "最后我们来预测一下结果"
   ]
  },
  {
   "cell_type": "code",
   "execution_count": 28,
   "metadata": {},
   "outputs": [
    {
     "name": "stdout",
     "output_type": "stream",
     "text": [
      "It's cat.\n"
     ]
    }
   ],
   "source": [
    "test_X = image_resize.reshape(-1,1)\n",
    "predict(test_X,parameters,L)"
   ]
  },
  {
   "cell_type": "markdown",
   "metadata": {},
   "source": [
    "## Summary：\n",
    "(1) 当成本函数下降的缓慢的时候,应该考虑初始参数和超级参数是否合适.\n",
    "\n",
    "(2) 实际上我们在输出层上使用的激活函数(sigmoid):应该使得Z不可过大,如果过大,那么将进入sigmoid图像的平缓范围,那么在使用梯度下降求导的时候，会变得异常的缓慢,进而导致成本函数居高不下($Z=WX+b$),所以在初始化参数的时候,我们使用$Xavier\\;Initialization$的形式.\n",
    "\n",
    "(3) 使用ReLu激活函数的好处是,在多个隐藏层中使用ReLu的话会使得在大部分空间$Z$上,导数离0远,这样在使用GD的时候会产生更大的梯度,这会使得你的神经网络学习速度会快很多,因为其不像sigmoid和tanh函数斜率接近于0."
   ]
  }
 ],
 "metadata": {
  "kernelspec": {
   "display_name": "Python 3",
   "language": "python",
   "name": "python3"
  },
  "language_info": {
   "codemirror_mode": {
    "name": "ipython",
    "version": 3
   },
   "file_extension": ".py",
   "mimetype": "text/x-python",
   "name": "python",
   "nbconvert_exporter": "python",
   "pygments_lexer": "ipython3",
   "version": "3.7.1"
  }
 },
 "nbformat": 4,
 "nbformat_minor": 2
}
