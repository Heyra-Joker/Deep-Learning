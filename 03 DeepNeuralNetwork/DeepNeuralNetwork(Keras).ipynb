{
 "cells": [
  {
   "cell_type": "markdown",
   "metadata": {},
   "source": [
    "# DeepNeuralNetwork(Keras)"
   ]
  },
  {
   "cell_type": "code",
   "execution_count": 1,
   "metadata": {},
   "outputs": [
    {
     "name": "stderr",
     "output_type": "stream",
     "text": [
      "Using TensorFlow backend.\n"
     ]
    }
   ],
   "source": [
    "import h5py\n",
    "import keras\n",
    "import numpy as np\n",
    "from keras.models import Sequential,Model\n",
    "from keras.layers import Dense,Input\n",
    "import matplotlib.pyplot as plt\n",
    "from numpy.random import seed\n",
    "from tensorflow import set_random_seed\n",
    "seed(1)\n",
    "set_random_seed(2)   "
   ]
  },
  {
   "cell_type": "markdown",
   "metadata": {},
   "source": [
    "### 1 Load Data"
   ]
  },
  {
   "cell_type": "code",
   "execution_count": 2,
   "metadata": {},
   "outputs": [],
   "source": [
    "def load_data():\n",
    "    '''\n",
    "    create train set and test set\n",
    "    make sure you have .h5 file in your dataset\n",
    "    \n",
    "    Returns:\n",
    "    -------\n",
    "        train_set_x_orig: original train set shape is (209, 64, 64, 3) \n",
    "        train_set_y_orig: original train label shape is (209,)\n",
    "        test_set_x_orig: original test set shape is (50, 64, 64, 3)\n",
    "        test_set_y_orig: original test label shape is (50,)\n",
    "        classes: cat or non-cat.\n",
    "        \n",
    "    Note:\n",
    "    ----\n",
    "        (209, 64, 64, 3): 209 picture,64 width,64 height,3 channel.\n",
    "    '''\n",
    "    train_dataset = h5py.File('../data_set/train_catvnoncat.h5', \"r\")\n",
    "    train_set_x_orig = np.array(train_dataset[\"train_set_x\"][:]) # your train set features\n",
    "    train_set_y_orig = np.array(train_dataset[\"train_set_y\"][:]) # your train set labels\n",
    "\n",
    "    test_dataset = h5py.File('../data_set/test_catvnoncat.h5', \"r\")\n",
    "    test_set_x_orig = np.array(test_dataset[\"test_set_x\"][:]) # your test set features\n",
    "    test_set_y_orig = np.array(test_dataset[\"test_set_y\"][:]) # your test set labels\n",
    "\n",
    "    classes = np.array(test_dataset[\"list_classes\"][:]) # the list of classes\n",
    "    \n",
    "    return train_set_x_orig, train_set_y_orig, test_set_x_orig, test_set_y_orig, classes"
   ]
  },
  {
   "cell_type": "code",
   "execution_count": 3,
   "metadata": {},
   "outputs": [],
   "source": [
    "train_x_orig, train_y, test_x_orig, test_y, classes = load_data()"
   ]
  },
  {
   "cell_type": "code",
   "execution_count": 4,
   "metadata": {},
   "outputs": [
    {
     "name": "stdout",
     "output_type": "stream",
     "text": [
      "Train_x's shape:(209, 12288)\n",
      "Test_x's shape:(50, 12288)\n",
      "Train_y's shape:(209, 1)\n",
      "Test_y's shape:(50, 1)\n"
     ]
    }
   ],
   "source": [
    "train_x = train_x_orig.reshape(train_x_orig.shape[0],-1) / 255 \n",
    "test_x = test_x_orig.reshape(test_x_orig.shape[0],-1) / 255\n",
    "train_y = train_y.reshape(-1,1)\n",
    "test_y = test_y.reshape(-1,1)\n",
    "print('Train_x\\'s shape:{}'.format(train_x.shape))\n",
    "print('Test_x\\'s shape:{}'.format(test_x.shape))\n",
    "print(\"Train_y's shape:{}\".format(train_y.shape))\n",
    "print(\"Test_y's shape:{}\".format(test_y.shape))"
   ]
  },
  {
   "cell_type": "markdown",
   "metadata": {},
   "source": [
    "### Sequential of DNN\n",
    "\n",
    "使用Sequential构建DNN\n",
    "\n",
    "(1) 同样我们可以使用xavier initial来初始化并设置随机数种子.\n",
    "\n",
    "```python\n",
    "keras.initializers.glorot_normal```\n",
    "\n",
    "当然,也可以使用Densen默认的选项```glorot_uniform```进行初始化.\n",
    "\n",
    "(2) 构建Input layer\n",
    "\n",
    "```python\n",
    "model.add(Dense(units=layers[0],input_shape=(n,),activation='relu',kernel_initializer=initial))```\n",
    "\n",
    "(3) 使用循环的方式构建hidden layer\n",
    "\n",
    "```python\n",
    "for l in range(1,L-1):\n",
    "    model.add(Dense(units=layers[l],activation='relu',kernel_initializer=initial))```\n",
    "    \n",
    "(4) 构建output layer\n",
    "\n",
    "```python\n",
    "model.add(Dense(units=layers[-1],activation='sigmoid',kernel_initializer=initial))```\n",
    "\n",
    "**Ps:**\n",
    "\n",
    "(1) input layer 和 hidden layer都是使用ReLu activate function.\n",
    "\n",
    "(2) output layer 使用 sigmoid function\n",
    "\n",
    "(3) loss function:binary cross entropy\n",
    "\n",
    "(4) optimizer: SGD minibatch:32.\n",
    "\n",
    "(5) 由于我们这里样本量较小,所以就不在fit中指定验证样本```validation_data```."
   ]
  },
  {
   "cell_type": "code",
   "execution_count": 5,
   "metadata": {},
   "outputs": [],
   "source": [
    "def DNN_keras(X,y,layers,alpha,Iter):\n",
    "    \"\"\"\n",
    "    Using Keras to build DNN\n",
    "    \n",
    "    Parameters:\n",
    "    ----------\n",
    "        X: training data\n",
    "        y: training labels\n",
    "        layers: Model layers layers:hidden and output layers.\n",
    "        alpha: learning rate.\n",
    "        Iter: #Iteration \n",
    "    Return:\n",
    "    ------\n",
    "        model: best model,when this model fitting  okay.\n",
    "    \"\"\"\n",
    "    m,n = X.shape\n",
    "    L = len(layers)\n",
    "    model = Sequential()\n",
    "    initial = keras.initializers.glorot_normal(seed=3)\n",
    "    model.add(Dense(units=layers[0],input_shape=(n,),activation='relu',kernel_initializer=initial))\n",
    "    for l in range(1,L-1):\n",
    "        model.add(Dense(units=layers[l],activation='relu',kernel_initializer=initial))\n",
    "    model.add(Dense(units=layers[-1],activation='sigmoid',kernel_initializer=initial))\n",
    "\n",
    "    SGD = keras.optimizers.SGD(lr=alpha)\n",
    "    loss = keras.losses.binary_crossentropy\n",
    "    model.compile(optimizer=SGD,loss=loss,metrics=['accuracy'])\n",
    "    model.fit(x=X,y=y,epochs=Iter,verbose=0)\n",
    "\n",
    "    return model"
   ]
  },
  {
   "cell_type": "code",
   "execution_count": 6,
   "metadata": {},
   "outputs": [
    {
     "name": "stdout",
     "output_type": "stream",
     "text": [
      "WARNING:tensorflow:From /Library/Frameworks/Python.framework/Versions/3.6/lib/python3.6/site-packages/tensorflow/python/framework/op_def_library.py:263: colocate_with (from tensorflow.python.framework.ops) is deprecated and will be removed in a future version.\n",
      "Instructions for updating:\n",
      "Colocations handled automatically by placer.\n",
      "WARNING:tensorflow:From /Library/Frameworks/Python.framework/Versions/3.6/lib/python3.6/site-packages/tensorflow/python/ops/math_ops.py:3066: to_int32 (from tensorflow.python.ops.math_ops) is deprecated and will be removed in a future version.\n",
      "Instructions for updating:\n",
      "Use tf.cast instead.\n"
     ]
    }
   ],
   "source": [
    "model = DNN_keras(train_x,train_y,[20,7,5,1],0.01,2000)"
   ]
  },
  {
   "cell_type": "markdown",
   "metadata": {},
   "source": [
    "我们可以看看loss与accuracy的走势,这里取每10步绘制."
   ]
  },
  {
   "cell_type": "code",
   "execution_count": 7,
   "metadata": {},
   "outputs": [
    {
     "data": {
      "image/png": "[encoded data removed]",
      "text/plain": [
       "<Figure size 432x288 with 1 Axes>"
      ]
     },
     "metadata": {
      "needs_background": "light"
     },
     "output_type": "display_data"
    }
   ],
   "source": [
    "loss = model.history.history['loss']\n",
    "costs = [loss[i] for i in range(len(loss)) if i%10==0]\n",
    "acc = model.history.history['acc']\n",
    "accuracy = [acc[i] for i in range(len(acc)) if i%10==0]\n",
    "plt.plot(costs,c='blue',label='loss value')\n",
    "plt.plot(accuracy,c='orange',label='correct rate')\n",
    "plt.legend()\n",
    "plt.show()"
   ]
  },
  {
   "cell_type": "markdown",
   "metadata": {},
   "source": [
    "查看训练样本和测试样本的正确率\n",
    "\n",
    "```python\n",
    "model.evaluate```"
   ]
  },
  {
   "cell_type": "code",
   "execution_count": 8,
   "metadata": {},
   "outputs": [
    {
     "name": "stdout",
     "output_type": "stream",
     "text": [
      "50/50 [==============================] - 0s 752us/step\n",
      "The test data loss is 3.052297763824463,acc is 0.7200000071525574\n"
     ]
    }
   ],
   "source": [
    "loss,acc = model.evaluate(x=test_x,y=test_y)\n",
    "print('The test data loss is {},acc is {}'.format(loss,acc))"
   ]
  },
  {
   "cell_type": "code",
   "execution_count": 9,
   "metadata": {
    "scrolled": true
   },
   "outputs": [
    {
     "name": "stdout",
     "output_type": "stream",
     "text": [
      "209/209 [==============================] - 0s 57us/step\n",
      "The test data loss is 0.00010205139088529077,acc is 1.0\n"
     ]
    }
   ],
   "source": [
    "loss,acc = model.evaluate(x=train_x,y=train_y)\n",
    "print('The test data loss is {},acc is {}'.format(loss,acc))"
   ]
  },
  {
   "cell_type": "markdown",
   "metadata": {},
   "source": [
    "可以看到最终还是有点过拟合的意思,同样可以增加样本量,一种方法是将图片左右翻转,这样样本量就会增加一倍,这种处理方法在有时候是有效的."
   ]
  },
  {
   "cell_type": "markdown",
   "metadata": {},
   "source": [
    "### API of DNN\n",
    "\n",
    "使用API的方式构建DNN\n",
    "\n",
    "(1) 创建inputs layer\n",
    "\n",
    "```python\n",
    "inputs = Input((n,))```\n",
    "\n",
    "(2) 使用Dense默认的初始化```glorot_uniform```并设置随机数种子.\n",
    "\n",
    "```python\n",
    "init = keras.initializers.glorot_uniform(seed=3)```\n",
    "\n",
    "(3) 构建inputs layer\n",
    "\n",
    "```python\n",
    "Z = Dense(units=layers[0],activation='relu',kernel_initializer=init)(inputs)```\n",
    "\n",
    "(4) 循环构建hidden layer\n",
    "\n",
    "```python\n",
    "for l in range(1,L-1):\n",
    "    Z = Dense(units=layers[l],activation='relu',kernel_initializer=init)(Z)```\n",
    "    \n",
    "(5) 构建outputs layer\n",
    "\n",
    "```python\n",
    "predictions = Dense(units=layers[-1],activation='sigmoid',kernel_initializer=init)(Z)```\n",
    "\n",
    "(6) 初始化模型输入为inputs,输出为outputs.\n",
    "\n",
    "```python\n",
    "model = Model(inputs=inputs, outputs=predictions)```\n",
    "\n",
    "**Ps:**\n",
    "\n",
    "(1) input layer 和 hidden layer都是使用ReLu activate function.\n",
    "\n",
    "(2) output layer 使用 sigmoid function\n",
    "\n",
    "(3) loss function:binary cross entropy\n",
    "\n",
    "(4) optimizer: SGD."
   ]
  },
  {
   "cell_type": "code",
   "execution_count": 10,
   "metadata": {},
   "outputs": [],
   "source": [
    "def DNN_API(X,y,layers,alpha,Iter):\n",
    "    \"\"\"\n",
    "    Using API to build DNN\n",
    "    \n",
    "    Parameters:\n",
    "    ----------\n",
    "        X: data set.\n",
    "        y: true labels.\n",
    "        layers: Model layers layers:hidden and output layers.\n",
    "        alpha: learning rate.\n",
    "        Iter: #iteration \n",
    "    Return:\n",
    "    -------\n",
    "        model: best model,when this model fitting  okay.\n",
    "    \"\"\"\n",
    "    m,n = X.shape\n",
    "    inputs = Input((n,))\n",
    "    L = len(layers)\n",
    "    init = keras.initializers.glorot_uniform(seed=3)\n",
    "    Z = Dense(units=layers[0],activation='relu',kernel_initializer=init)(inputs)\n",
    "    \n",
    "    for l in range(1,L-1):\n",
    "        Z = Dense(units=layers[l],activation='relu',kernel_initializer=init)(Z)\n",
    "        \n",
    "    predictions = Dense(units=layers[-1],activation='sigmoid',kernel_initializer=init)(Z)\n",
    "    \n",
    "    model = Model(inputs=inputs, outputs=predictions)\n",
    "    optimizer = keras.optimizers.SGD(lr=alpha)\n",
    "    loss = keras.losses.binary_crossentropy\n",
    "    model.compile(optimizer=optimizer,loss=loss,metrics=['accuracy'])\n",
    "    \n",
    "    model.fit(x=X,y=y,epochs=Iter,verbose=0)\n",
    "    \n",
    "    return model"
   ]
  },
  {
   "cell_type": "code",
   "execution_count": 11,
   "metadata": {},
   "outputs": [],
   "source": [
    "model = DNN_API(train_x,train_y,[20,7,5,1],0.01,2000)"
   ]
  },
  {
   "cell_type": "markdown",
   "metadata": {},
   "source": [
    "查看一下model的整体结构```model.summary()```"
   ]
  },
  {
   "cell_type": "code",
   "execution_count": 12,
   "metadata": {
    "scrolled": true
   },
   "outputs": [
    {
     "name": "stdout",
     "output_type": "stream",
     "text": [
      "_________________________________________________________________\n",
      "Layer (type)                 Output Shape              Param #   \n",
      "=================================================================\n",
      "input_1 (InputLayer)         (None, 12288)             0         \n",
      "_________________________________________________________________\n",
      "dense_5 (Dense)              (None, 20)                245780    \n",
      "_________________________________________________________________\n",
      "dense_6 (Dense)              (None, 7)                 147       \n",
      "_________________________________________________________________\n",
      "dense_7 (Dense)              (None, 5)                 40        \n",
      "_________________________________________________________________\n",
      "dense_8 (Dense)              (None, 1)                 6         \n",
      "=================================================================\n",
      "Total params: 245,973\n",
      "Trainable params: 245,973\n",
      "Non-trainable params: 0\n",
      "_________________________________________________________________\n"
     ]
    }
   ],
   "source": [
    "model.summary()"
   ]
  },
  {
   "cell_type": "markdown",
   "metadata": {},
   "source": [
    "可以看到我们有5层,分别是\n",
    "\n",
    "(1): 输入层\n",
    "\n",
    "(2): 4层常用全连接层\n",
    "\n",
    "(3): 总体参数为245,973,能够训练的参数为245,973,不可训练的参数为0."
   ]
  },
  {
   "cell_type": "markdown",
   "metadata": {},
   "source": [
    "下面来测试一下正确率,很显然也会出现过拟合的现象."
   ]
  },
  {
   "cell_type": "code",
   "execution_count": 13,
   "metadata": {},
   "outputs": [
    {
     "name": "stdout",
     "output_type": "stream",
     "text": [
      "50/50 [==============================] - 0s 1ms/step\n",
      "test set loss:1.7200681257247925,acc:0.7600000047683716\n"
     ]
    }
   ],
   "source": [
    "loss,acc = model.evaluate(x=test_x,y=test_y)\n",
    "print('test set loss:{},acc:{}'.format(loss,acc))"
   ]
  },
  {
   "cell_type": "code",
   "execution_count": 14,
   "metadata": {},
   "outputs": [
    {
     "name": "stdout",
     "output_type": "stream",
     "text": [
      "209/209 [==============================] - 0s 96us/step\n",
      "train set loss:0.0014674172482707284,acc:1.0\n"
     ]
    }
   ],
   "source": [
    "loss,acc = model.evaluate(x=train_x,y=train_y)\n",
    "print('train set loss:{},acc:{}'.format(loss,acc))"
   ]
  },
  {
   "cell_type": "markdown",
   "metadata": {},
   "source": [
    "这里就不再测试另外的图片了,如果想测试自己的图片可以按照Application或者Tensorflow中的方法改变图片的大小并使用model.predictc测试"
   ]
  },
  {
   "cell_type": "markdown",
   "metadata": {},
   "source": [
    "# Summary\n",
    "\n",
    "实际上出现过拟合的现象是很正常的现象,最好的办法也就是增加样本集,或者调解optimizer和初始化方法.当然现在我们只是理解到简单的神经网络,后面我们会有相应的方法来减少过拟合或者欠拟合的发生."
   ]
  }
 ],
 "metadata": {
  "kernelspec": {
   "display_name": "Python 3",
   "language": "python",
   "name": "python3"
  },
  "language_info": {
   "codemirror_mode": {
    "name": "ipython",
    "version": 3
   },
   "file_extension": ".py",
   "mimetype": "text/x-python",
   "name": "python",
   "nbconvert_exporter": "python",
   "pygments_lexer": "ipython3",
   "version": "3.7.1"
  }
 },
 "nbformat": 4,
 "nbformat_minor": 2
}
