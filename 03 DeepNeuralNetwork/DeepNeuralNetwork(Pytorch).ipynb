{
 "cells": [
  {
   "cell_type": "markdown",
   "metadata": {},
   "source": [
    "# DeepNeuralNetwork(Pytorch)"
   ]
  },
  {
   "cell_type": "code",
   "execution_count": 1,
   "metadata": {},
   "outputs": [],
   "source": [
    "import numpy as np\n",
    "import torch\n",
    "from torch.autograd import Variable\n",
    "import matplotlib.pyplot as plt\n",
    "import h5py\n",
    "import sys"
   ]
  },
  {
   "cell_type": "markdown",
   "metadata": {},
   "source": [
    "### 1Load Data"
   ]
  },
  {
   "cell_type": "code",
   "execution_count": 2,
   "metadata": {},
   "outputs": [],
   "source": [
    "def load_data():\n",
    "    '''\n",
    "    create train set and test set\n",
    "    make sure you have .h5 file in your dataset\n",
    "    \n",
    "    Returns:\n",
    "    -------\n",
    "        train_set_x_orig: original train set shape is (209, 64, 64, 3) \n",
    "        train_set_y_orig: original train label shape is (209,)\n",
    "        test_set_x_orig: original test set shape is (50, 64, 64, 3)\n",
    "        test_set_y_orig: original test label shape is (50,)\n",
    "        classes: cat or non-cat.\n",
    "        \n",
    "    Note:\n",
    "    ----\n",
    "        (209, 64, 64, 3): 209 picture,64 width,64 height,3 channel.\n",
    "    '''\n",
    "    train_dataset = h5py.File('../data_set/train_catvnoncat.h5', \"r\")\n",
    "    train_set_x_orig = np.array(train_dataset[\"train_set_x\"][:]) # your train set features\n",
    "    train_set_y_orig = np.array(train_dataset[\"train_set_y\"][:]) # your train set labels\n",
    "\n",
    "    test_dataset = h5py.File('../data_set/test_catvnoncat.h5', \"r\")\n",
    "    test_set_x_orig = np.array(test_dataset[\"test_set_x\"][:]) # your test set features\n",
    "    test_set_y_orig = np.array(test_dataset[\"test_set_y\"][:]) # your test set labels\n",
    "\n",
    "    classes = np.array(test_dataset[\"list_classes\"][:]) # the list of classes\n",
    "    \n",
    "    return train_set_x_orig, train_set_y_orig, test_set_x_orig, test_set_y_orig, classes"
   ]
  },
  {
   "cell_type": "code",
   "execution_count": 3,
   "metadata": {},
   "outputs": [],
   "source": [
    "train_x_orig, train_y, test_x_orig, test_y, classes = load_data()"
   ]
  },
  {
   "cell_type": "markdown",
   "metadata": {},
   "source": [
    "### 2 Reshape Data"
   ]
  },
  {
   "cell_type": "code",
   "execution_count": 4,
   "metadata": {},
   "outputs": [
    {
     "name": "stdout",
     "output_type": "stream",
     "text": [
      "Train_x's shape:(12288, 209)\n",
      "Test_x's shape:(12288, 50)\n",
      "Train_y's shape:(1, 209)\n",
      "Test_y's shape:(1, 50)\n"
     ]
    }
   ],
   "source": [
    "train_x = train_x_orig.reshape(train_x_orig.shape[0],-1).T / 255 \n",
    "test_x = test_x_orig.reshape(test_x_orig.shape[0],-1).T / 255\n",
    "train_y = train_y.reshape(-1,1).T\n",
    "test_y = test_y.reshape(-1,1).T\n",
    "print('Train_x\\'s shape:{}'.format(train_x.shape))\n",
    "print('Test_x\\'s shape:{}'.format(test_x.shape))\n",
    "print(\"Train_y's shape:{}\".format(train_y.shape))\n",
    "print(\"Test_y's shape:{}\".format(test_y.shape))"
   ]
  },
  {
   "cell_type": "markdown",
   "metadata": {},
   "source": [
    "### 3 Create Pytorch of DNN\n",
    "\n",
    "#### 3.1 create torch Variable\n",
    "\n",
    "将Numpy类型的数据转换为Tensor.\n",
    "\n",
    "```python\n",
    "Variable(torch.Tensor(...))```\n",
    "\n"
   ]
  },
  {
   "cell_type": "code",
   "execution_count": 5,
   "metadata": {},
   "outputs": [],
   "source": [
    "X_train = Variable(torch.Tensor(train_x))\n",
    "y_train = Variable(torch.Tensor(train_y))\n",
    "X_test = Variable(torch.Tensor(test_x))\n",
    "y_test = Variable(torch.Tensor(test_y))"
   ]
  },
  {
   "cell_type": "markdown",
   "metadata": {},
   "source": [
    "#### 3.2 create class and forward\n",
    "\n",
    "在这里构建Model的时候,我们就不能使用简单的```torch.nn.Learn()```来快速计算线性值,因为我们的初始化需要使用```xavier initial```.\n",
    "\n",
    "那么在torch中,我们可以:\n",
    "\n",
    "$W:$\n",
    "\n",
    "(1) ```torch.empty((units,inputs))```创建一个空的形状为(units,inputs)的tensor\n",
    "\n",
    "(2) 使用```torch.nn.init.xavier_normal_```来初始化weights.\n",
    "\n",
    "$b:$\n",
    "\n",
    "bias的部分没有多大变化使用```torch.zeros(((units,1)))```来创建形状为(units,1)的tensor\n",
    "\n",
    "(3) 创建Forward部分没有任何变化.\n",
    "\n",
    "**Ps:**\n",
    "\n",
    "(1) 需要注意在连续创建$W,b$的时候,我们需要将其放入$Parameter$中,可以使用ParameterDict,当然也可以使用其他形式保存参数,以便于后面backward时候更新参数.否则在进行optimizer的时候会报出model.parameters()为空的错误.\n",
    "\n",
    "(2) 其他形式[参见](https://pytorch.org/docs/stable/nn.html?highlight=torch%20nn%20parameterdict#torch.nn.ParameterDict)\n",
    "\n",
    "(3) 当然也可以完全像Lr(Pytorch)中一样完全自定义."
   ]
  },
  {
   "cell_type": "code",
   "execution_count": 6,
   "metadata": {},
   "outputs": [],
   "source": [
    "class DNN_torch(torch.nn.Module):\n",
    "    \"\"\"\n",
    "    create torch of DNN\n",
    "    \n",
    "    Parameters:\n",
    "    ----------\n",
    "        layers: Model layers layers:input+layers.\n",
    "        X: training data.\n",
    "    \"\"\"\n",
    "    def __init__(self,layers,X):\n",
    "        torch.nn.Module.__init__(self)\n",
    "        torch.manual_seed(1)\n",
    "        self.X = X\n",
    "        n,m = X.shape\n",
    "        layers.insert(0,n) # insert inputs layer\n",
    "        self.L = len(layers)\n",
    "        self.parameters_ = torch.nn.ParameterDict()\n",
    "        for l in range(1,self.L):\n",
    "            W = torch.nn.init.xavier_normal_(torch.empty(layers[l],layers[l-1]))\n",
    "            b = torch.zeros((layers[l],1),requires_grad=True)\n",
    "            self.parameters_['W'+str(l)] = torch.nn.Parameter(W)\n",
    "            self.parameters_['b'+str(l)] = torch.nn.Parameter(b)\n",
    "        \n",
    "  \n",
    "    def forward(self):\n",
    "        \"\"\"\n",
    "        Implementation forward propagation.\n",
    "        \n",
    "        Return:\n",
    "        ------\n",
    "            A: the last layer sigmoid value.\n",
    "        \"\"\"\n",
    "        A = self.X\n",
    "        for l in range(1,self.L):\n",
    "            W = self.parameters_['W'+str(l)]\n",
    "            b = self.parameters_['b'+str(l)]\n",
    "            Z = torch.add(torch.matmul(W,A),b)\n",
    "            if l == self.L-1:\n",
    "                A = torch.sigmoid(Z)\n",
    "            else:\n",
    "                A = torch.relu(Z)\n",
    "        return A"
   ]
  },
  {
   "cell_type": "markdown",
   "metadata": {},
   "source": [
    "#### 3.3 create accuracy function\n",
    "\n",
    "创建一个在模型训练中求正确率的函数\n",
    "\n",
    "(1) ```python torch.eq``` 挨个将元素进行对比,相同为True,否则为False.\n",
    "\n",
    "(2) ```item()``` 取出float类型数值.\n",
    "\n",
    "**Ps:**\n",
    "\n",
    "```python torch.equal()``` 为整体进行比较相当于```all()```"
   ]
  },
  {
   "cell_type": "code",
   "execution_count": 7,
   "metadata": {},
   "outputs": [],
   "source": [
    "def accuracy(A,y):\n",
    "    \"\"\"\n",
    "    Compute correct rate.\n",
    "    \n",
    "    \"\"\"\n",
    "    m = y.shape[1]\n",
    "    acc = torch.eq(torch.round(A),y).sum().item() / m\n",
    "    return acc"
   ]
  },
  {
   "cell_type": "markdown",
   "metadata": {},
   "source": [
    "#### 3.4 Create Model\n",
    "\n",
    "创建Torch模型\n",
    "\n",
    "(1) 初始化模型\n",
    "\n",
    "```python\n",
    "model = DNN_torch(layers,X)```\n",
    "\n",
    "(2) 计算Loss\n",
    "\n",
    "```python\n",
    "Loss = torch.nn.BCELoss()```\n",
    "\n",
    "(3) 创建优化器并更新参数,由于我们在class中已经保存了Parameters,所以这里的```model.parameters()```能够获取到.\n",
    "\n",
    "```python\n",
    "optimizer = torch.optim.SGD(params=model.parameters(),lr=alpha)```\n",
    "\n",
    "(4) Start Training\n",
    "\n",
    "(5) 重置梯度值:\n",
    "\n",
    "Pytorch在梯度计算方面是使用累加的方式\n",
    "\n",
    "```python\n",
    "optimizer.zero_grad()```\n",
    "\n",
    "(6) backward\n",
    "\n",
    "```python\n",
    "loss.backward()```\n",
    "\n",
    "(7) 更新参数\n",
    "\n",
    "```python\n",
    "optimizer.step()```"
   ]
  },
  {
   "cell_type": "code",
   "execution_count": 8,
   "metadata": {},
   "outputs": [],
   "source": [
    "def DNN_Model(X,y,layers,alpha,Iter,is_print=False):\n",
    "    \"\"\"\n",
    "    Using Pytorch to build DNN\n",
    "    \n",
    "    Parameters:\n",
    "    ----------\n",
    "        X: data set.\n",
    "        y: true labels.\n",
    "        layers: model layers.\n",
    "        alpha: learning rate.\n",
    "        Iter: #Iteration.\n",
    "        is_print: print loss if True.\n",
    "    Returns:\n",
    "    ------\n",
    "        model.parameters_: the best weights and bias.\n",
    "        model.L: #hidden layers.\n",
    "    \"\"\"\n",
    "    m,n = X.shape\n",
    "    \n",
    "    model = DNN_torch(layers,X)\n",
    "    \n",
    "    Loss = torch.nn.BCELoss()\n",
    "    optimizer = torch.optim.SGD(params=model.parameters(),lr=alpha)\n",
    "    costs = []\n",
    "    accs = []\n",
    "    for iter_ in range(Iter):\n",
    "        A = model.forward()\n",
    "        acc = accuracy(A,y)\n",
    "        loss = Loss(A,y)\n",
    "        if iter_ % 1000 == 0 and is_print:\n",
    "            print('After iteration {} loss:{},acc:{} '.format(iter_,loss,acc))\n",
    "            \n",
    "        if iter_ % 100 == 0:\n",
    "            costs.append(loss)\n",
    "            accs.append(acc)\n",
    "            \n",
    "        optimizer.zero_grad()\n",
    "        loss.backward()\n",
    "        optimizer.step()\n",
    "    \n",
    "    # plot loss and accuracy\n",
    "    plt.plot(costs,c='orange',label='loss')\n",
    "    plt.plot(accs,c='green',label='accuracy')\n",
    "    plt.title('Lr:{}'.format(alpha))\n",
    "    plt.xlabel('Iteration')\n",
    "    plt.ylabel('value')\n",
    "    plt.legend()\n",
    "    plt.show()\n",
    "    \n",
    "    return model.parameters_,model.L"
   ]
  },
  {
   "cell_type": "code",
   "execution_count": 9,
   "metadata": {
    "scrolled": false
   },
   "outputs": [
    {
     "name": "stdout",
     "output_type": "stream",
     "text": [
      "After iteration 0 loss:0.7010855674743652,acc:0.3588516746411483 \n",
      "After iteration 1000 loss:0.09601536393165588,acc:0.9808612440191388 \n"
     ]
    },
    {
     "data": {
      "image/png": "[encoded data removed]",
      "text/plain": [
       "<Figure size 432x288 with 1 Axes>"
      ]
     },
     "metadata": {
      "needs_background": "light"
     },
     "output_type": "display_data"
    }
   ],
   "source": [
    "parameters_,L = DNN_Model(X_train,y_train,[20,7,5,1],0.003,2000,True)"
   ]
  },
  {
   "cell_type": "markdown",
   "metadata": {},
   "source": [
    "### 4 Score\n",
    "\n",
    "将样本进行评分"
   ]
  },
  {
   "cell_type": "code",
   "execution_count": 10,
   "metadata": {},
   "outputs": [],
   "source": [
    "def score(X,y,parameters,L):\n",
    "    \"\"\"\n",
    "    Score Model\n",
    "    Parameters:\n",
    "    ----------\n",
    "        X: data set.\n",
    "        y: true labels.\n",
    "        parameters: best weights and bias.\n",
    "        L: #model layers.\n",
    "    Return:\n",
    "    ------\n",
    "        acc: accuracy.\n",
    "    \"\"\"\n",
    "    A = X\n",
    "    m = y.shape[1]\n",
    "    \n",
    "    for l in range(1,L):\n",
    "        W = parameters['W'+str(l)]\n",
    "        b = parameters['b'+str(l)]\n",
    "        Z = torch.add(torch.matmul(W,A),b)\n",
    "        if l == L-1:\n",
    "            A = torch.sigmoid(Z)\n",
    "        else:\n",
    "            A = torch.relu(Z)\n",
    "            \n",
    "    acc = torch.eq(torch.round(A),y).sum().item() / m\n",
    "    return acc"
   ]
  },
  {
   "cell_type": "code",
   "execution_count": 11,
   "metadata": {},
   "outputs": [
    {
     "name": "stdout",
     "output_type": "stream",
     "text": [
      "The test acc is 0.76\n"
     ]
    }
   ],
   "source": [
    "acc = score(X_test,y_test,parameters_,L)\n",
    "print('The test acc is {}'.format(acc))"
   ]
  },
  {
   "cell_type": "markdown",
   "metadata": {},
   "source": [
    "这里就不再测试另外的图片了,如果想测试自己的图片可以按照Application或者Tensorflow中的方法测试."
   ]
  },
  {
   "cell_type": "markdown",
   "metadata": {},
   "source": [
    "# Summary\n",
    "\n",
    "这里使用Pytorch操作会出现过拟合的现象,当然可能存在的问题是训练样本量太小,可以适当的多增加一些数据,还可以将每张图片进行左右翻转,这样的话在某些情况下会使得效果有所改善.\n",
    "\n",
    "实际上解决过拟合最好的方法时增加数据集,当然后面我们也会有一些办法来处理过拟合的一些问题."
   ]
  }
 ],
 "metadata": {
  "kernelspec": {
   "display_name": "Python 3",
   "language": "python",
   "name": "python3"
  },
  "language_info": {
   "codemirror_mode": {
    "name": "ipython",
    "version": 3
   },
   "file_extension": ".py",
   "mimetype": "text/x-python",
   "name": "python",
   "nbconvert_exporter": "python",
   "pygments_lexer": "ipython3",
   "version": "3.7.1"
  }
 },
 "nbformat": 4,
 "nbformat_minor": 2
}
