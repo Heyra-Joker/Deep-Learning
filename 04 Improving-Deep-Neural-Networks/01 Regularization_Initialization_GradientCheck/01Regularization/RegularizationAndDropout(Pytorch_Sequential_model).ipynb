{
 "cells": [
  {
   "cell_type": "markdown",
   "metadata": {},
   "source": [
    "# RegularizationAndDropout(Sequential Model)\n",
    "\n",
    "这里我们使用Sequential Model.\n",
    "\n",
    "实际上Pytorch的Sequential Model与Keras的Sequential很像可以使用\n",
    "\n",
    "[1]\n",
    "\n",
    "```python\n",
    "model = torch.nn.Sequential(OrderedDict([\n",
    "        (name,module)\n",
    "    ]))```\n",
    "\n",
    "[2]\n",
    "\n",
    "```python\n",
    "model = torch.nn.Sequential()\n",
    "model.add_module(name,module)```\n",
    "\n",
    "两中形式都可以创建Model,更多详情查看[Sequential](https://pytorch.org/docs/stable/nn.html#torch.nn.Sequential)"
   ]
  },
  {
   "cell_type": "code",
   "execution_count": 1,
   "metadata": {},
   "outputs": [],
   "source": [
    "import torch\n",
    "import torch.nn as nn\n",
    "from torch.autograd import Variable\n",
    "\n",
    "\n",
    "import numpy as np\n",
    "from get_data_set import load_data\n",
    "import matplotlib.pyplot as plt\n",
    "from Plot_Plot import plot_plot\n",
    "from miniBatch import random_mini_batche"
   ]
  },
  {
   "cell_type": "markdown",
   "metadata": {},
   "source": [
    "### Load data\n"
   ]
  },
  {
   "cell_type": "code",
   "execution_count": 2,
   "metadata": {},
   "outputs": [],
   "source": [
    "train_x_orig, train_y, test_x_orig, test_y, classes = load_data()"
   ]
  },
  {
   "cell_type": "code",
   "execution_count": 3,
   "metadata": {},
   "outputs": [
    {
     "name": "stdout",
     "output_type": "stream",
     "text": [
      "Train_x's shape:(209, 12288)\n",
      "Test_x's shape:(50, 12288)\n",
      "Train_y's shape:(209, 1)\n",
      "Test_y's shape:(50, 1)\n"
     ]
    }
   ],
   "source": [
    "train_x = train_x_orig.reshape(train_x_orig.shape[0],-1) / 255 \n",
    "test_x = test_x_orig.reshape(test_x_orig.shape[0],-1) / 255\n",
    "train_y = train_y.reshape(-1,1)\n",
    "test_y = test_y.reshape(-1,1)\n",
    "print('Train_x\\'s shape:{}'.format(train_x.shape))\n",
    "print('Test_x\\'s shape:{}'.format(test_x.shape))\n",
    "print(\"Train_y's shape:{}\".format(train_y.shape))\n",
    "print(\"Test_y's shape:{}\".format(test_y.shape))"
   ]
  },
  {
   "cell_type": "code",
   "execution_count": 4,
   "metadata": {},
   "outputs": [],
   "source": [
    "from collections import OrderedDict"
   ]
  },
  {
   "cell_type": "markdown",
   "metadata": {},
   "source": [
    "### Create BL_Sequential and Dropout_Sequential\n",
    "\n",
    "Dropout_Sequential:使用```model.add_module```的方式.\n",
    "\n",
    "BL_Sequential:使用```torch.nn.Sequential(OrderedDict([]))```方式."
   ]
  },
  {
   "cell_type": "code",
   "execution_count": 5,
   "metadata": {},
   "outputs": [],
   "source": [
    "def BL_Sequential(n):\n",
    "    \"\"\"\n",
    "    create BL Sequential Model.\n",
    "    Parameters:\n",
    "    ----------\n",
    "        n: data set features.\n",
    "    Return:\n",
    "    ------\n",
    "        model: Sequential Model.\n",
    "    Note:\n",
    "    ----\n",
    "        hidden layer: activation function: Relu.\n",
    "        output layer: activation function: sigmoid.\n",
    "    \"\"\"\n",
    "    torch.manual_seed(1)\n",
    "    model = torch.nn.Sequential(OrderedDict([\n",
    "        ('dense1',torch.nn.Linear(n,20)),\n",
    "        ('relu1',torch.nn.ReLU()),\n",
    "        ('dense2',torch.nn.Linear(20,7)),\n",
    "        ('relu2',torch.nn.ReLU()),\n",
    "        ('dense3',torch.nn.Linear(7,5)),\n",
    "        ('relu3',torch.nn.ReLU()),\n",
    "        ('dense4',torch.nn.Linear(5,1)),\n",
    "        ('sigmoid',torch.nn.Sigmoid())\n",
    "    ]))\n",
    "    \n",
    "    print(\"Model Sequential:\\n>>> \")\n",
    "    print(model)\n",
    "    print(\">>>\")\n",
    "    return model"
   ]
  },
  {
   "cell_type": "code",
   "execution_count": 6,
   "metadata": {},
   "outputs": [],
   "source": [
    "def Dropout_Sequential(n):\n",
    "    \"\"\"\n",
    "    create BL Sequential Model.\n",
    "    Parameters:\n",
    "    ----------\n",
    "        n: data set features.\n",
    "    Return:\n",
    "    ------\n",
    "        model: Sequential Model.\n",
    "    \n",
    "    Note:\n",
    "    ----\n",
    "        drop units is [0.2,0.1,0.]\n",
    "    \"\"\"\n",
    "    torch.manual_seed(1)\n",
    "    model = torch.nn.Sequential()\n",
    "    model.add_module('dense1',torch.nn.Linear(n,20))\n",
    "    model.add_module('relu1',torch.nn.ReLU())\n",
    "    model.add_module('dropout1',torch.nn.Dropout(p=0.2))\n",
    "    model.add_module('dense2',torch.nn.Linear(20,7))\n",
    "    model.add_module('relu2',torch.nn.ReLU())\n",
    "    model.add_module('dropout2',torch.nn.Dropout(p=0.1))\n",
    "    model.add_module('dense3',torch.nn.Linear(7,5))\n",
    "    model.add_module('relu3',torch.nn.ReLU())\n",
    "    model.add_module('dropout3',torch.nn.Dropout(p=0.))\n",
    "    model.add_module('dense4',torch.nn.Linear(5,1))\n",
    "    model.add_module('sigmoid',torch.nn.Sigmoid())\n",
    "    \n",
    "    print(\"Model Sequential:\\n>>> \")\n",
    "    print(model)\n",
    "    print(\">>>\")\n",
    "    return model"
   ]
  },
  {
   "cell_type": "markdown",
   "metadata": {},
   "source": [
    "### Other function\n",
    "\n",
    "[1]\n",
    "\n",
    "```python\n",
    "def init_weights(m):\n",
    "    ...```\n",
    "    \n",
    "(1.1) 该函数重新设置```nn.Linear()```的weights值,使用Xavier.更多详细查看[stackoverflow](https://stackoverflow.com/questions/49433936/how-to-initialize-weights-in-pytorch)\n",
    "\n",
    "(1.2) 使用```model.apply(init_weights)```将其重置,[apply](https://pytorch.org/docs/stable/nn.html#torch.nn.Module.apply)是一个递归将一个```fn```处理.与Python的map函数类似.\n",
    "\n",
    "[2]\n",
    "\n",
    "```python\n",
    "def Change_to_Tensor(data,labels):\n",
    "    ...```\n",
    "\n",
    "将我们的数据转换成Tensor,Pytorch才能计算\n",
    "\n",
    "[3]\n",
    "\n",
    "```python\n",
    "def score(model,data,labels,loss_func = None,is_loss=False):\n",
    "    ....```\n",
    "    \n",
    "评分模型函数,需要注意的是需要将模型设置为:```model.eval()```\n",
    "\n"
   ]
  },
  {
   "cell_type": "code",
   "execution_count": 7,
   "metadata": {},
   "outputs": [],
   "source": [
    "def init_weights(m):\n",
    "    \"\"\"\n",
    "    rest weigths init value in Linear model.\n",
    "    parameter:\n",
    "    ---------\n",
    "        m: model.\n",
    "    \"\"\"\n",
    "    if type(m) == nn.Linear:\n",
    "        torch.nn.init.xavier_uniform_(m.weight)"
   ]
  },
  {
   "cell_type": "code",
   "execution_count": 8,
   "metadata": {},
   "outputs": [],
   "source": [
    "def Change_to_Tensor(data,labels):\n",
    "    \"\"\"\n",
    "    Change data to Tensor.\n",
    "    Parameters:\n",
    "    ----------\n",
    "        data: data set.\n",
    "        labels: data lables.\n",
    "    Rerurns:\n",
    "    -------\n",
    "         data_tensor: type is tensor.\n",
    "         labels_tensor : type is tensor.\n",
    "    \"\"\"\n",
    "    data_tensor = Variable(torch.Tensor(data)).float()\n",
    "    labels_tensor = Variable(torch.Tensor(labels)).float()\n",
    "    \n",
    "    return data_tensor,labels_tensor "
   ]
  },
  {
   "cell_type": "code",
   "execution_count": 9,
   "metadata": {},
   "outputs": [],
   "source": [
    "def score(model,data,labels,loss_func = None,is_loss=False):\n",
    "    \"\"\"\n",
    "    Score model.\n",
    "    Parameters:\n",
    "    ----------\n",
    "        data: score data set.\n",
    "        labels: score data labels.\n",
    "        is_loss: caculate loss if it equal ture.\n",
    "    Rerurns:\n",
    "    -------\n",
    "        acc: score data correct rate.\n",
    "        score_loss: score data loss,if caculate it.\n",
    "    \"\"\"\n",
    "    model.eval()\n",
    "    m = labels.shape[0]\n",
    "    out = model.forward(data)\n",
    "    predict = torch.round(out)\n",
    "    acc = torch.eq(predict,labels).sum().item() / m\n",
    "    if is_loss:\n",
    "        loss = loss_func.forward(out,labels)\n",
    "        return acc,loss\n",
    "    else:\n",
    "        return acc"
   ]
  },
  {
   "cell_type": "markdown",
   "metadata": {},
   "source": [
    "### Define Pytorch Of Main Function"
   ]
  },
  {
   "cell_type": "code",
   "execution_count": 10,
   "metadata": {},
   "outputs": [],
   "source": [
    "def main(data,labels,val_data,val_labels,epochs,print_step,lr,batch_size,mode):\n",
    "    \"\"\"\n",
    "    Implement Dropout_Sequential and BL_Sequential.\n",
    "    Parameters:\n",
    "    ----------\n",
    "        data: training data.\n",
    "        labels: training labels.\n",
    "        val_data: validatin data.\n",
    "        val_labels: validation labels.\n",
    "        epochs: #Iterate.\n",
    "        print_step: print setp, print loss, training accuracy, validation loss, validation accuracy.\n",
    "        lr: learning rate.\n",
    "        batch_size: batch size.\n",
    "        mode: can choose \"BL\":Base Lines,\"DP\":Dropout.\n",
    "    \"\"\"\n",
    "    m,n = data.shape\n",
    "    # change data/labels to tensor,using score.\n",
    "    with torch.no_grad():\n",
    "        data_tensor,labels_tensor = Change_to_Tensor(data,labels)\n",
    "        val_data_tensor,val_labels_tensor = Change_to_Tensor(val_data,val_labels)\n",
    "    \n",
    "    if mode == \"BL\":\n",
    "        model = BL_Sequential(n)\n",
    "    elif mode == \"DP\":\n",
    "        model = Dropout_Sequential(n)\n",
    "    \n",
    "    # reset weights in Linear model.\n",
    "    model.apply(init_weights)\n",
    "    \n",
    "    # build loss function\n",
    "    loss_func = torch.nn.BCELoss()\n",
    "    # build optimizer\n",
    "    optimizer = torch.optim.SGD(model.parameters(),lr=lr)\n",
    "    \n",
    "    seed = 0\n",
    "    train_loss = []\n",
    "    acc_trains = []\n",
    "    val_losss = []\n",
    "    acc_vals = []\n",
    "    \n",
    "    # start training.\n",
    "    for epoch in range(epochs):\n",
    "        model.train()\n",
    "        seed += 1\n",
    "        batchs = random_mini_batche(X=data,Y=labels,mini_batche_size=batch_size,seed=seed)\n",
    "        for mini_x,mini_y in batchs:\n",
    "           \n",
    "            mini_x_tensor,mini_y_tensor = Change_to_Tensor(mini_x,mini_y)\n",
    "            # start forward\n",
    "            out = model.forward(mini_x_tensor)\n",
    "            # caculate loss\n",
    "            loss = loss_func.forward(out,mini_y_tensor)\n",
    "            # backward\n",
    "            optimizer.zero_grad()\n",
    "            loss.backward()\n",
    "            # updating\n",
    "            optimizer.step()\n",
    "            \n",
    "        if epoch % print_step == 0:\n",
    "            acc_train = score(model,data_tensor,labels_tensor)\n",
    "            acc_val,val_loss = score(model,val_data_tensor,val_labels_tensor,loss_func,True)\n",
    "            print('[{}/{}] loss:{},acc train:{},val loss:{},acc val:{}'.format(epoch+print_step,\n",
    "                                                                              epochs,\n",
    "                                                                              loss,\n",
    "                                                                              acc_train,\n",
    "                                                                              val_loss,\n",
    "                                                                              acc_val))\n",
    "            train_loss.append(loss)\n",
    "            acc_trains.append(acc_train)\n",
    "            val_losss.append(val_loss)\n",
    "            acc_vals.append(acc_val) \n",
    "            \n",
    "    return train_loss,acc_trains,val_losss,acc_vals"
   ]
  },
  {
   "cell_type": "markdown",
   "metadata": {},
   "source": [
    "### Testing Base Lines\n",
    "以下的测试参数,可能不是模型的最优参数,我们这里只是为了做对比,只更改必要参数,像epochs,lr,等我们都不会进行更改."
   ]
  },
  {
   "cell_type": "code",
   "execution_count": 11,
   "metadata": {
    "scrolled": false
   },
   "outputs": [
    {
     "name": "stdout",
     "output_type": "stream",
     "text": [
      "Model Sequential:\n",
      ">>> \n",
      "Sequential(\n",
      "  (dense1): Linear(in_features=12288, out_features=20, bias=True)\n",
      "  (relu1): ReLU()\n",
      "  (dense2): Linear(in_features=20, out_features=7, bias=True)\n",
      "  (relu2): ReLU()\n",
      "  (dense3): Linear(in_features=7, out_features=5, bias=True)\n",
      "  (relu3): ReLU()\n",
      "  (dense4): Linear(in_features=5, out_features=1, bias=True)\n",
      "  (sigmoid): Sigmoid()\n",
      ")\n",
      ">>>\n",
      "[100/1000] loss:0.6947056651115417,acc train:0.6555023923444976,val loss:0.7043969035148621,acc val:0.34\n",
      "[200/1000] loss:0.6115889549255371,acc train:0.6555023923444976,val loss:0.7640635967254639,acc val:0.34\n",
      "[300/1000] loss:0.37539419531822205,acc train:0.8755980861244019,val loss:0.6347540020942688,acc val:0.66\n",
      "[400/1000] loss:0.19854626059532166,acc train:0.9234449760765551,val loss:0.5526072978973389,acc val:0.78\n",
      "[500/1000] loss:0.15015943348407745,acc train:0.9952153110047847,val loss:0.6562045216560364,acc val:0.7\n",
      "[600/1000] loss:0.11940088123083115,acc train:0.9952153110047847,val loss:0.7841079831123352,acc val:0.68\n",
      "[700/1000] loss:0.07640014588832855,acc train:0.9952153110047847,val loss:0.8299161791801453,acc val:0.66\n",
      "[800/1000] loss:0.04852204769849777,acc train:0.9952153110047847,val loss:0.88016676902771,acc val:0.68\n",
      "[900/1000] loss:0.03575528413057327,acc train:0.9952153110047847,val loss:0.9145110845565796,acc val:0.68\n",
      "[1000/1000] loss:0.028362423181533813,acc train:0.9952153110047847,val loss:0.9411336779594421,acc val:0.66\n"
     ]
    }
   ],
   "source": [
    "train_loss,acc_trains,val_losss,acc_vals = main(data=train_x,labels=train_y,val_data=test_x,\n",
    "                                                               val_labels=test_y,epochs=1000,print_step=100,\n",
    "                                                                lr=0.01,batch_size=64,mode=\"BL\")"
   ]
  },
  {
   "cell_type": "markdown",
   "metadata": {},
   "source": [
    "我们看到这里显示出来的Sequential是与```nn.Module```创建出来的不同\n",
    "\n",
    "![](../../../picture/66.png)\n",
    "\n",
    "在Sequential中,我们已经加入Relu函数,而在```nn.Module```中实际上我们是在forward的时候才调用,两者都有各自的好处,如果你想多在forward中加入一些自定义内容,那么可以采取```nn.Module```的形式,如果你无需做那么多其他操作,那么使用```nn.Module```Sequential会更加方便.\n",
    "\n",
    "详情查看[莫烦Pytorch](https://www.pytorchtutorial.com/3-3-sequential-cnn-model/)"
   ]
  },
  {
   "cell_type": "code",
   "execution_count": 12,
   "metadata": {},
   "outputs": [
    {
     "data": {
      "image/png": "[encoded data removed]",
      "text/plain": [
       "<Figure size 1440x288 with 2 Axes>"
      ]
     },
     "metadata": {
      "needs_background": "light"
     },
     "output_type": "display_data"
    }
   ],
   "source": [
    "plot_plot(train_loss,acc_trains,acc_vals,val_losss,method='Base Lines')"
   ]
  },
  {
   "cell_type": "markdown",
   "metadata": {},
   "source": [
    "### Dropout"
   ]
  },
  {
   "cell_type": "code",
   "execution_count": 13,
   "metadata": {},
   "outputs": [
    {
     "name": "stdout",
     "output_type": "stream",
     "text": [
      "Model Sequential:\n",
      ">>> \n",
      "Sequential(\n",
      "  (dense1): Linear(in_features=12288, out_features=20, bias=True)\n",
      "  (relu1): ReLU()\n",
      "  (dropout1): Dropout(p=0.2)\n",
      "  (dense2): Linear(in_features=20, out_features=7, bias=True)\n",
      "  (relu2): ReLU()\n",
      "  (dropout2): Dropout(p=0.1)\n",
      "  (dense3): Linear(in_features=7, out_features=5, bias=True)\n",
      "  (relu3): ReLU()\n",
      "  (dropout3): Dropout(p=0.0)\n",
      "  (dense4): Linear(in_features=5, out_features=1, bias=True)\n",
      "  (sigmoid): Sigmoid()\n",
      ")\n",
      ">>>\n",
      "[50/500] loss:0.6978746652603149,acc train:0.6555023923444976,val loss:0.7217110395431519,acc val:0.34\n",
      "[100/500] loss:0.6911508440971375,acc train:0.6555023923444976,val loss:0.8384591937065125,acc val:0.34\n",
      "[150/500] loss:0.6430980563163757,acc train:0.6555023923444976,val loss:0.7083554267883301,acc val:0.34\n",
      "[200/500] loss:0.4662562608718872,acc train:0.6555023923444976,val loss:0.9535783529281616,acc val:0.34\n",
      "[250/500] loss:0.6631075143814087,acc train:0.6555023923444976,val loss:0.7195003628730774,acc val:0.34\n",
      "[300/500] loss:0.4486958980560303,acc train:0.7607655502392344,val loss:0.7934420108795166,acc val:0.48\n",
      "[350/500] loss:0.4057653248310089,acc train:0.9043062200956937,val loss:0.813608705997467,acc val:0.68\n",
      "[400/500] loss:0.45291340351104736,acc train:0.6555023923444976,val loss:0.8386860489845276,acc val:0.34\n",
      "[450/500] loss:0.29194316267967224,acc train:0.8516746411483254,val loss:1.111911416053772,acc val:0.7\n",
      "[500/500] loss:0.3824308514595032,acc train:0.6076555023923444,val loss:0.6283400654792786,acc val:0.76\n"
     ]
    }
   ],
   "source": [
    "train_loss,acc_trains,val_losss,acc_vals = main(data=train_x,labels=train_y,val_data=test_x,\n",
    "                                                               val_labels=test_y,epochs=500,print_step=50,\n",
    "                                                                lr=0.1,batch_size=64,mode=\"DP\")"
   ]
  },
  {
   "cell_type": "code",
   "execution_count": 14,
   "metadata": {},
   "outputs": [
    {
     "data": {
      "image/png": "[encoded data removed]",
      "text/plain": [
       "<Figure size 1440x288 with 2 Axes>"
      ]
     },
     "metadata": {
      "needs_background": "light"
     },
     "output_type": "display_data"
    }
   ],
   "source": [
    "plot_plot(train_loss,acc_trains,acc_vals,val_losss,method='Dropout')"
   ]
  },
  {
   "cell_type": "markdown",
   "metadata": {},
   "source": [
    "可以看到效果有所改善,最好的值大约在9个epoch,train/validation correct rate最接近."
   ]
  },
  {
   "cell_type": "markdown",
   "metadata": {},
   "source": [
    "### Summary\n",
    "\n",
    "实际上采用Sequential模式还是```nn.Module```模式,依照不同情况选择不同的方式."
   ]
  }
 ],
 "metadata": {
  "kernelspec": {
   "display_name": "Python 3",
   "language": "python",
   "name": "python3"
  },
  "language_info": {
   "codemirror_mode": {
    "name": "ipython",
    "version": 3
   },
   "file_extension": ".py",
   "mimetype": "text/x-python",
   "name": "python",
   "nbconvert_exporter": "python",
   "pygments_lexer": "ipython3",
   "version": "3.7.3"
  }
 },
 "nbformat": 4,
 "nbformat_minor": 2
}
