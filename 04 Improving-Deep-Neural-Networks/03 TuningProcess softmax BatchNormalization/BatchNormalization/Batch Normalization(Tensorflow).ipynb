{
 "cells": [
  {
   "cell_type": "markdown",
   "metadata": {},
   "source": [
    "# Batch Normalization(Tensorflow)"
   ]
  },
  {
   "cell_type": "code",
   "execution_count": 1,
   "metadata": {},
   "outputs": [],
   "source": [
    "import numpy as np\n",
    "import tensorflow as tf\n",
    "import matplotlib.pyplot as plt\n",
    "from miniBatch import random_mini_batche  \n",
    "from data_utils import get_CIFAR10_data\n",
    "from tensorflow.python.framework import ops\n",
    "import os\n",
    "os.environ[\"TF_CPP_MIN_LOG_LEVEL\"]='3'"
   ]
  },
  {
   "cell_type": "markdown",
   "metadata": {},
   "source": [
    "### Load Data\n",
    "\n",
    "这里我们使用CIFAR10的数据集,由于数据量较多,我们取\n",
    "\n",
    "训练样本:2000\n",
    "\n",
    "验证样本:100\n",
    "\n",
    "测试样本:100"
   ]
  },
  {
   "cell_type": "code",
   "execution_count": 2,
   "metadata": {
    "scrolled": true
   },
   "outputs": [
    {
     "name": "stdout",
     "output_type": "stream",
     "text": [
      "X_train:  (49000, 3, 32, 32)\n",
      "y_train:  (49000,)\n",
      "X_val:  (1000, 3, 32, 32)\n",
      "y_val:  (1000,)\n",
      "X_test:  (1000, 3, 32, 32)\n",
      "y_test:  (1000,)\n"
     ]
    }
   ],
   "source": [
    "# Load the (preprocessed) CIFAR10 data.\n",
    "data = get_CIFAR10_data()\n",
    "for k, v in data.items():\n",
    "    print('%s: ' % k, v.shape)"
   ]
  },
  {
   "cell_type": "code",
   "execution_count": 3,
   "metadata": {},
   "outputs": [],
   "source": [
    "def load_data(index_train,index_val,index_test):\n",
    "    train_x = data['X_train'][:index_train].reshape(index_train,-1)\n",
    "    train_y = data['y_train'][:index_train]\n",
    "    \n",
    "    val_x = data['X_val'][:index_val].reshape(index_val,-1)\n",
    "    val_y = data['y_val'][:index_val]\n",
    "    \n",
    "    test_x = data['X_test'][:index_test].reshape(index_test,-1)\n",
    "    test_y = data['y_test'][:index_test]\n",
    "    \n",
    "    return train_x,train_y,val_x,val_y,test_x,test_y"
   ]
  },
  {
   "cell_type": "code",
   "execution_count": 4,
   "metadata": {},
   "outputs": [],
   "source": [
    "train_x,train_y,val_x,val_y,test_x,test_y = load_data(2000,100,100)"
   ]
  },
  {
   "cell_type": "markdown",
   "metadata": {},
   "source": [
    "### Build Tensorflow Model\n",
    "\n",
    "这里我们主要实用Python类的方式创建BN网络.\n",
    "\n",
    "由于我们需要将BN与普通网络进行对比,所以实际上搭建Forward有两种情况:\n",
    "\n",
    "(1) batchNormal:\n",
    "\n",
    "```python\n",
    "if self.mode == 'batchNormal':\n",
    "    ...```\n",
    "    \n",
    "**Note:**\n",
    "\n",
    "A.在使用TF搭建BN的Forward时我们需要使用[tf.layers.batch_normalization](https://www.tensorflow.org/versions/r1.10/api_docs/python/tf/layers/batch_normalization?hl=en),而这个函数是有点坑的,一定需要指定一个参数:```training```,如果为True,则代表训练,False表示测试.\n",
    "\n",
    "B.```axis```,需要指定的是特征轴.\n",
    "\n",
    "C.使用TF的BN网络时候,除了在之后定义cost,optimizer,根据官方文档提供的信息,还需要建立```tf.GraphKeys.UPDATE_OPS```,用于更新Graph.\n",
    "\n",
    "<img src=\"../../../picture/57.png\" width=500 heigth=\"500\">\n",
    "\n",
    "<img src=\"../../../picture/58.png\" width=500 heigth=\"500\">\n",
    "    \n",
    "(2) baseline:\n",
    "\n",
    "```python\n",
    "elif self.mode == \"baseline\":\n",
    "    ...```\n",
    "\n",
    "普通的DNN就与往常一样."
   ]
  },
  {
   "cell_type": "markdown",
   "metadata": {},
   "source": [
    "### Functions\n",
    "\n",
    "(1) \n",
    "\n",
    "```python\n",
    "def __init__(self,layers,lr,epochs,mode='batchNormal',print_step=100,is_print=False):\n",
    "    ...```\n",
    "\n",
    "此函数为类Model的初始化其中\n",
    "\n",
    "(1.1) self.mode:控制模型运行BN网络还是Baseline网络\n",
    "\n",
    "(1.2) self.layers: 各个层的神经元节点\n",
    "\n",
    "(1.3) self.lr: 学习率\n",
    "\n",
    "(1.4) self.seed: 随机数种子,用于控制mini-batch\n",
    "\n",
    "(1.5) self.epochs: 迭代次数\n",
    "\n",
    "(1.6) self.print_step: 在迭代过程中打印间隔\n",
    "\n",
    "(1.7) self.is_print: 在迭代过程中是否打印输出\n",
    "\n",
    "-------------\n",
    "\n",
    "(2) \n",
    "\n",
    "```python\n",
    "def forward(self,X):\n",
    "    ...```\n",
    "    \n",
    "(2.1) \n",
    "\n",
    "```python\n",
    "if self.mode == 'batchNormal':\n",
    "    ...```\n",
    "    \n",
    "选择BN网络:\n",
    "\n",
    "> 初始化$W$:```W = tf.get_variable(...)```,初始化值选择Xavier.\n",
    "\n",
    "> 计算线行值$Z$:```Z = tf.matmul(A,W)```\n",
    "\n",
    "> 进入BN层:```tf.layers.batch_normalization(...)```,需要注意的是这里的```training=self.is_fit```参数如果为True则是训练,False为测试.使用```self.is_fit```来控制.\n",
    "\n",
    "> axis选择特征轴.\n",
    "\n",
    "> 使用ReLu激活函数```A = tf.nn.relu(Z_hat)```.\n",
    "\n",
    "(2.2)\n",
    "\n",
    "```python\n",
    "elif self.mode == \"baseline\":\n",
    "    ...```\n",
    "\n",
    "选择普通网络:\n",
    "\n",
    "> 初始化$W$:```W = tf.get_variable(...)```,初始化值选择Xavier.\n",
    "\n",
    "> 初始化$b$:```b = tf.Variable(...)```,初始化值为0.\n",
    "\n",
    "> 计算线行值$Z$:```Z = tf.add(tf.matmul(A,W),b)```.\n",
    "\n",
    "> 使用ReLu激活函数```A = tf.nn.relu(Z)```.\n",
    "\n",
    "\n",
    "(3) \n",
    "\n",
    "```python\n",
    "def fit(self,data,labels,val_data,val_labels,batch_size=64):\n",
    "    ...```\n",
    "\n",
    "> 此函数中,需要注意的是如果走BN,需要设定:```with tf.control_dependencies(tf.get_collection(tf.GraphKeys.UPDATE_OPS)):```\n",
    "\n",
    "> 由于我们的score函数是和fit函数分开的所以我们需要使用```tf.Session().as_default()```来保证当训练完成的时候Graph不是处于关闭状态,这样score才能够调用.\n",
    "\n",
    "> 更多详情:1.[tf.Session()和tf.Session().as_default()的区别](https://blog.csdn.net/Enchanted_ZhouH/article/details/77571939),2.[stackoverflow](https://stackoverflow.com/questions/40785224/tensorflow-cannot-interpret-feed-dict-key-as-tensor)\n",
    "\n",
    "\n",
    "\n"
   ]
  },
  {
   "cell_type": "code",
   "execution_count": 5,
   "metadata": {},
   "outputs": [],
   "source": [
    "class Model:\n",
    "    \"\"\"\n",
    "    TF of NN.\n",
    "    \"\"\"\n",
    "    def __init__(self,layers,lr,epochs,mode='batchNormal',print_step=100,is_print=False):\n",
    "        \"\"\"\n",
    "        Initialization class Model.\n",
    "        \"\"\"\n",
    "        ops.reset_default_graph()\n",
    "        self.mode = mode\n",
    "        self.layers = layers\n",
    "        self.lr = lr\n",
    "        self.seed = 0\n",
    "        self.epochs = epochs\n",
    "        self.print_step = print_step\n",
    "        self.is_print = is_print\n",
    "\n",
    "    \n",
    "    def forward(self,X):\n",
    "        \"\"\"\n",
    "        Build forward\n",
    "        \n",
    "        Parameters:\n",
    "        -----------\n",
    "            X: input layer data.\n",
    "        Returns:\n",
    "        -------\n",
    "            Z_hat: if using BN.\n",
    "            Z: if using baseline.\n",
    "        \n",
    "        Note:\n",
    "        -----\n",
    "            if using BN,the make sure training is true\n",
    "        \"\"\"\n",
    "        self.layers.insert(0,self.n)\n",
    "        self.L = len(layers) # #layers plus input layer features.\n",
    "        \n",
    "        if self.mode == 'batchNormal':\n",
    "            \n",
    "            A = X\n",
    "            for l in range(1,self.L):\n",
    "                \n",
    "                W = tf.get_variable('W'+str(l),[self.layers[l-1],self.layers[l]],\n",
    "                                   initializer=tf.contrib.layers.xavier_initializer(seed=0))\n",
    "                Z = tf.matmul(A,W)\n",
    "                ########################## core processing of BN part ###############\n",
    "                Z_hat = tf.layers.batch_normalization(Z,axis=1,training=self.is_fit)\n",
    "                #############################  end #################################\n",
    "                if l != self.L-1:\n",
    "                    A = tf.nn.relu(Z_hat)\n",
    "            return Z_hat\n",
    "          \n",
    "        elif self.mode == \"baseline\":\n",
    "            \n",
    "            A = X\n",
    "            for l in range(1,self.L):\n",
    "                W = tf.get_variable('W'+str(l),[self.layers[l-1],self.layers[l]],\n",
    "                                   initializer=tf.contrib.layers.xavier_initializer(seed=0))\n",
    "                b = tf.Variable(tf.zeros([1,self.layers[l]],name='b'+str(l)))\n",
    "            \n",
    "                Z = tf.add(tf.matmul(A,W),b)\n",
    "                if l != self.L-1:\n",
    "                    A = tf.nn.relu(Z)\n",
    "            return Z\n",
    "        else:\n",
    "            print('Error model {}'.format(self.mode))\n",
    "    \n",
    "    def fit(self,data,labels,val_data,val_labels,batch_size=64):\n",
    "        \"\"\"\n",
    "        fitting model\n",
    "        Parameters:\n",
    "        ----------\n",
    "            data: training data.\n",
    "            labels: training labels.\n",
    "            val_data: verification data.\n",
    "            val_labels:verification labels.\n",
    "            batch_size: sample batch size default 64.\n",
    "            \n",
    "        Returns:\n",
    "        -------\n",
    "            costs: training data loss.\n",
    "            acc_trains: correct rate train data.\n",
    "            acc_vals: correct rate verify data.\n",
    "        \n",
    "        \"\"\"\n",
    "        ################ create place holder ####################\n",
    "        self.classes = len(np.unique(labels))\n",
    "        self.m,self.n = data.shape\n",
    "        self.is_fit = tf.placeholder(tf.bool,name='is_fit') # control BN layer is training or testing\n",
    "        self.X = tf.placeholder(tf.float32,[None,self.n],name='X')\n",
    "        y = tf.placeholder(tf.float32,[None,self.classes],name='y')\n",
    "        self.acc_y = tf.placeholder(tf.int64,[None,],name='acc_y')\n",
    "        #################  end of create placeholder ############\n",
    "        \n",
    "        ######### start forward ######\n",
    "        self.Z = self.forward(self.X)\n",
    "        ######### end of forward #####\n",
    "        \n",
    "        \n",
    "        #################### create cost and using softmax cross entropy ##############################\n",
    "        cost = tf.reduce_mean(tf.nn.softmax_cross_entropy_with_logits_v2(logits=self.Z,labels=y,axis=1))\n",
    "        ############################# end of cost ####################\n",
    "        \n",
    "        \n",
    "        ######################## BN layer ############################\n",
    "        if self.mode == 'batchNormal':\n",
    "            with tf.control_dependencies(tf.get_collection(tf.GraphKeys.UPDATE_OPS)):\n",
    "                optimizer = tf.train.GradientDescentOptimizer(learning_rate=self.lr).minimize(cost)\n",
    "        ####################### end of BN layer ######################\n",
    "        \n",
    "        \n",
    "        ###################### base layer ############################\n",
    "        else:\n",
    "            optimizer = tf.train.GradientDescentOptimizer(learning_rate=self.lr).minimize(cost)\n",
    "        ###################### end of base layer #####################\n",
    "        \n",
    "        \n",
    "        ################ caculate accuracy ###########################\n",
    "        predict_y = tf.nn.softmax(logits=self.Z,axis=1)\n",
    "        correct_ = tf.equal(tf.argmax(predict_y,axis=1),self.acc_y)\n",
    "        self.accuracy = tf.reduce_mean(tf.cast(correct_,tf.float32))\n",
    "        init = tf.global_variables_initializer()\n",
    "        ################ end of caculate accuracy ####################\n",
    "            \n",
    "        \n",
    "        ########## start running Model ########\n",
    "        with tf.Session().as_default() as self.sess:\n",
    "            \n",
    "            self.sess.run(init)\n",
    "            costs = []\n",
    "            acc_trains = []\n",
    "            acc_vals = []\n",
    "            \n",
    "            for epoch in range(self.epochs):\n",
    "                self.seed = self.seed + 1\n",
    "                miniBatchs = random_mini_batche(data,labels,seed=self.seed,mini_batche_size=batch_size)\n",
    "                for batch in miniBatchs:\n",
    "                    (mini_batche_X,mini_batche_Y) = batch\n",
    "                    mini_batche_Y_hot = np.eye(self.classes)[mini_batche_Y]\n",
    "                    _,loss = self.sess.run([optimizer,cost],feed_dict={self.X:mini_batche_X,\n",
    "                                                                  y:mini_batche_Y_hot,\n",
    "                                                                self.is_fit:True}) # self.is_fit euqal true,important!\n",
    "                    \n",
    "                ######################## testing with self.print_step ###################\n",
    "                if epoch % self.print_step == 0 and self.is_print:\n",
    "                    if self.mode == 'batchNormal':\n",
    "                        acc_train = self.sess.run(self.accuracy,feed_dict={self.X:data,self.acc_y:labels,\n",
    "                                                                      self.is_fit:False})\n",
    "                        acc_val = self.sess.run(self.accuracy,feed_dict={self.X:val_data,self.acc_y:val_labels,\n",
    "                                                                    self.is_fit:False})\n",
    "                        print('mode:{} After {} loss:{} train acc:{} val acc:{}'.format(self.mode,\n",
    "                                                                                        epoch,loss,acc_train,acc_val))\n",
    "                    else:\n",
    "                        acc_train = self.sess.run(self.accuracy,feed_dict={self.X:data,self.acc_y:labels})\n",
    "                        acc_val = self.sess.run(self.accuracy,feed_dict={self.X:val_data,self.acc_y:val_labels})\n",
    "                        print('mode:{} After {} loss:{} train acc:{} val acc:{}'.format(self.mode,\n",
    "                                                                                        epoch,loss,acc_train,acc_val))\n",
    "                    # cache loss,acc_train,acc_val\n",
    "                    costs.append(loss)\n",
    "                    acc_trains.append(acc_train)\n",
    "                    acc_vals.append(acc_val)\n",
    "            \n",
    "            return costs,acc_trains,acc_vals\n",
    "            \n",
    "    \n",
    "    def score(self,data,labels):\n",
    "        \"\"\"\n",
    "        build score function\n",
    "        Parameters:\n",
    "        ----------\n",
    "            data: score data set.\n",
    "            labels: score labels.\n",
    "        Return:\n",
    "        ------\n",
    "            acc_: data correct rate.\n",
    "        \"\"\"\n",
    "        if self.mode == 'batchNormal':\n",
    "            acc_ = self.sess.run(self.accuracy,feed_dict={self.X:data,self.acc_y:labels,\n",
    "                                                              self.is_fit:False})\n",
    "        else:\n",
    "            acc_ = self.sess.run(self.accuracy,feed_dict={self.X:data,self.acc_y:labels})\n",
    "        \n",
    "        return acc_\n",
    "    \n",
    "    def close_sess(self):\n",
    "        \"\"\"\n",
    "        close the sess.\n",
    "        \"\"\"\n",
    "        self.sess.close()"
   ]
  },
  {
   "cell_type": "markdown",
   "metadata": {},
   "source": [
    "### Testing BN and BaseLine\n",
    "\n",
    "测试不同情况下,BN网络与普通网络之间的差异:\n",
    "\n",
    "(1) 小权重,小学习率\n",
    "\n",
    "(2) 小权重,大学习率\n"
   ]
  },
  {
   "cell_type": "code",
   "execution_count": 6,
   "metadata": {},
   "outputs": [],
   "source": [
    "def plot_(costs_bn,costs,cache_acc_train_bn,cache_acc_train,cache_acc_val_bn,cache_acc_val):\n",
    "    fig=plt.figure(figsize=(20,4))\n",
    "    ax1=fig.add_subplot(1,3,1)      \n",
    "    ax1.plot(costs_bn,c='orange',label='batch normal')\n",
    "    ax1.plot(costs,label='base line')\n",
    "    ax1.set_title('Loss:batch normal & base line')\n",
    "    ax1.set_xlabel('#epoch')\n",
    "    ax1.set_ylabel('Value')\n",
    "    ax1.legend()\n",
    "\n",
    "    ax2 =fig.add_subplot(1,3,2)      \n",
    "    ax2.plot(cache_acc_train_bn,c='orange',label='batch normal')\n",
    "    ax2.plot(cache_acc_train,label='base line')\n",
    "    ax2.set_title('Train acc:batch normal & base line')\n",
    "    ax2.set_xlabel('#epoch')\n",
    "    ax2.set_ylabel('Value')\n",
    "    ax2.legend()\n",
    "\n",
    "    ax3 =fig.add_subplot(1,3,3)      \n",
    "    ax3.plot(cache_acc_val_bn,c='orange',label='batch normal')\n",
    "    ax3.plot(cache_acc_val,label='base line')\n",
    "    ax3.set_title('Val acc:batch normal & base line')\n",
    "    ax3.set_xlabel('#epoch')\n",
    "    ax3.set_ylabel('Value')\n",
    "    ax3.legend()\n",
    "\n",
    "    plt.show()"
   ]
  },
  {
   "cell_type": "markdown",
   "metadata": {},
   "source": [
    "#### 小权重,小学习率"
   ]
  },
  {
   "cell_type": "code",
   "execution_count": 7,
   "metadata": {},
   "outputs": [],
   "source": [
    "layers = [100, 80,50,30,10]\n",
    "model = Model(layers=layers,lr=0.001,epochs=1000,is_print=True,mode='batchNormal')"
   ]
  },
  {
   "cell_type": "code",
   "execution_count": 8,
   "metadata": {
    "scrolled": false
   },
   "outputs": [
    {
     "name": "stdout",
     "output_type": "stream",
     "text": [
      "\n",
      "WARNING: The TensorFlow contrib module will not be included in TensorFlow 2.0.\n",
      "For more information, please see:\n",
      "  * https://github.com/tensorflow/community/blob/master/rfcs/20180907-contrib-sunset.md\n",
      "  * https://github.com/tensorflow/addons\n",
      "If you depend on functionality not listed there, please file an issue.\n",
      "\n",
      "WARNING:tensorflow:From /Users/huwang/anaconda3/lib/python3.7/site-packages/tensorflow/python/framework/op_def_library.py:263: colocate_with (from tensorflow.python.framework.ops) is deprecated and will be removed in a future version.\n",
      "Instructions for updating:\n",
      "Colocations handled automatically by placer.\n",
      "WARNING:tensorflow:From <ipython-input-5-99464a68ab75>:47: batch_normalization (from tensorflow.python.layers.normalization) is deprecated and will be removed in a future version.\n",
      "Instructions for updating:\n",
      "Use keras.layers.batch_normalization instead.\n",
      "WARNING:tensorflow:From /Users/huwang/anaconda3/lib/python3.7/site-packages/tensorflow/python/ops/math_ops.py:3066: to_int32 (from tensorflow.python.ops.math_ops) is deprecated and will be removed in a future version.\n",
      "Instructions for updating:\n",
      "Use tf.cast instead.\n",
      "mode:batchNormal After 0 loss:2.4829797744750977 train acc:0.1354999989271164 val acc:0.12999999523162842\n",
      "mode:batchNormal After 100 loss:0.9941392540931702 train acc:0.9700000286102295 val acc:0.2800000011920929\n",
      "mode:batchNormal After 200 loss:0.5647058486938477 train acc:0.9975000023841858 val acc:0.3199999928474426\n",
      "mode:batchNormal After 300 loss:0.647903323173523 train acc:0.9994999766349792 val acc:0.3799999952316284\n",
      "mode:batchNormal After 400 loss:0.5113117694854736 train acc:1.0 val acc:0.3799999952316284\n",
      "mode:batchNormal After 500 loss:0.3247058391571045 train acc:1.0 val acc:0.3499999940395355\n",
      "mode:batchNormal After 600 loss:0.16958630084991455 train acc:1.0 val acc:0.4000000059604645\n",
      "mode:batchNormal After 700 loss:0.35829323530197144 train acc:1.0 val acc:0.41999998688697815\n",
      "mode:batchNormal After 800 loss:0.24312451481819153 train acc:1.0 val acc:0.4099999964237213\n",
      "mode:batchNormal After 900 loss:0.1130237728357315 train acc:1.0 val acc:0.4399999976158142\n"
     ]
    }
   ],
   "source": [
    "costs_bn,cache_acc_train_bn,cache_acc_val_bn = model.fit(data=train_x,labels=train_y,\n",
    "                                            val_data=val_x,val_labels=val_y,\n",
    "                                           batch_size=32)"
   ]
  },
  {
   "cell_type": "code",
   "execution_count": 9,
   "metadata": {},
   "outputs": [],
   "source": [
    "model.close_sess()"
   ]
  },
  {
   "cell_type": "code",
   "execution_count": 10,
   "metadata": {},
   "outputs": [],
   "source": [
    "layers = [100, 80,50,30,10]\n",
    "model = Model(layers=layers,lr=0.001,epochs=1000,is_print=True,mode='baseline')"
   ]
  },
  {
   "cell_type": "code",
   "execution_count": 11,
   "metadata": {
    "scrolled": true
   },
   "outputs": [
    {
     "name": "stdout",
     "output_type": "stream",
     "text": [
      "mode:baseline After 0 loss:4.26552677154541 train acc:0.2280000001192093 val acc:0.12999999523162842\n",
      "mode:baseline After 100 loss:0.17357733845710754 train acc:0.9039999842643738 val acc:0.2199999988079071\n",
      "mode:baseline After 200 loss:0.01228276640176773 train acc:0.9775000214576721 val acc:0.23999999463558197\n",
      "mode:baseline After 300 loss:0.14997310936450958 train acc:0.9884999990463257 val acc:0.2199999988079071\n",
      "mode:baseline After 400 loss:0.003139659995213151 train acc:0.9929999709129333 val acc:0.23999999463558197\n",
      "mode:baseline After 500 loss:0.11844131350517273 train acc:0.9944999814033508 val acc:0.25\n",
      "mode:baseline After 600 loss:0.0004344613407738507 train acc:0.9944999814033508 val acc:0.25\n",
      "mode:baseline After 700 loss:0.0013919182820245624 train acc:0.9944999814033508 val acc:0.25\n",
      "mode:baseline After 800 loss:0.0007034075679257512 train acc:0.9959999918937683 val acc:0.27000001072883606\n",
      "mode:baseline After 900 loss:0.0004991373280063272 train acc:0.9980000257492065 val acc:0.27000001072883606\n"
     ]
    }
   ],
   "source": [
    "costs,cache_acc_train,cache_acc_val = model.fit(data=train_x,labels=train_y,\n",
    "                                            val_data=val_x,val_labels=val_y,\n",
    "                                           batch_size=32)"
   ]
  },
  {
   "cell_type": "code",
   "execution_count": 12,
   "metadata": {},
   "outputs": [],
   "source": [
    "model.close_sess()"
   ]
  },
  {
   "cell_type": "code",
   "execution_count": 13,
   "metadata": {
    "scrolled": true
   },
   "outputs": [
    {
     "data": {
      "image/png": "[encoded data removed]",
      "text/plain": [
       "<Figure size 1440x288 with 3 Axes>"
      ]
     },
     "metadata": {
      "needs_background": "light"
     },
     "output_type": "display_data"
    }
   ],
   "source": [
    "plot_(costs_bn,costs,cache_acc_train_bn,cache_acc_train,cache_acc_val_bn,cache_acc_val)"
   ]
  },
  {
   "cell_type": "markdown",
   "metadata": {},
   "source": [
    "可以看到,在小学习率,小权重下,BN网络的收敛速度更快,且正确率要高于BaseLine."
   ]
  },
  {
   "cell_type": "markdown",
   "metadata": {},
   "source": [
    "#### 小权重,大学习率"
   ]
  },
  {
   "cell_type": "code",
   "execution_count": 14,
   "metadata": {},
   "outputs": [],
   "source": [
    "layers = [100, 80,50,30,10]\n",
    "model = Model(layers=layers,lr=0.1,epochs=1000,is_print=True,mode='batchNormal')"
   ]
  },
  {
   "cell_type": "code",
   "execution_count": 15,
   "metadata": {
    "scrolled": true
   },
   "outputs": [
    {
     "name": "stdout",
     "output_type": "stream",
     "text": [
      "mode:batchNormal After 0 loss:1.8434940576553345 train acc:0.31150001287460327 val acc:0.25999999046325684\n",
      "mode:batchNormal After 100 loss:0.4368012249469757 train acc:0.9714999794960022 val acc:0.3799999952316284\n",
      "mode:batchNormal After 200 loss:0.09758403897285461 train acc:1.0 val acc:0.38999998569488525\n",
      "mode:batchNormal After 300 loss:0.023914558812975883 train acc:1.0 val acc:0.38999998569488525\n",
      "mode:batchNormal After 400 loss:0.1798146516084671 train acc:1.0 val acc:0.46000000834465027\n",
      "mode:batchNormal After 500 loss:0.008287171833217144 train acc:1.0 val acc:0.4300000071525574\n",
      "mode:batchNormal After 600 loss:0.03266455978155136 train acc:0.9994999766349792 val acc:0.49000000953674316\n",
      "mode:batchNormal After 700 loss:0.16134804487228394 train acc:0.9929999709129333 val acc:0.3700000047683716\n",
      "mode:batchNormal After 800 loss:0.0024501858279109 train acc:1.0 val acc:0.4099999964237213\n",
      "mode:batchNormal After 900 loss:0.0033638374879956245 train acc:1.0 val acc:0.38999998569488525\n"
     ]
    }
   ],
   "source": [
    "costs_bn,cache_acc_train_bn,cache_acc_val_bn = model.fit(data=train_x,labels=train_y,\n",
    "                                            val_data=val_x,val_labels=val_y,\n",
    "                                           batch_size=32)"
   ]
  },
  {
   "cell_type": "code",
   "execution_count": 16,
   "metadata": {},
   "outputs": [],
   "source": [
    "model.close_sess()"
   ]
  },
  {
   "cell_type": "code",
   "execution_count": 17,
   "metadata": {},
   "outputs": [],
   "source": [
    "layers = [100, 80,50,30,10]\n",
    "model = Model(layers=layers,lr=0.1,epochs=1000,is_print=True,mode='baseline')"
   ]
  },
  {
   "cell_type": "code",
   "execution_count": 18,
   "metadata": {},
   "outputs": [
    {
     "name": "stdout",
     "output_type": "stream",
     "text": [
      "mode:baseline After 0 loss:nan train acc:0.10100000351667404 val acc:0.07000000029802322\n",
      "mode:baseline After 100 loss:nan train acc:0.10100000351667404 val acc:0.07000000029802322\n",
      "mode:baseline After 200 loss:nan train acc:0.10100000351667404 val acc:0.07000000029802322\n",
      "mode:baseline After 300 loss:nan train acc:0.10100000351667404 val acc:0.07000000029802322\n",
      "mode:baseline After 400 loss:nan train acc:0.10100000351667404 val acc:0.07000000029802322\n",
      "mode:baseline After 500 loss:nan train acc:0.10100000351667404 val acc:0.07000000029802322\n",
      "mode:baseline After 600 loss:nan train acc:0.10100000351667404 val acc:0.07000000029802322\n",
      "mode:baseline After 700 loss:nan train acc:0.10100000351667404 val acc:0.07000000029802322\n",
      "mode:baseline After 800 loss:nan train acc:0.10100000351667404 val acc:0.07000000029802322\n",
      "mode:baseline After 900 loss:nan train acc:0.10100000351667404 val acc:0.07000000029802322\n"
     ]
    }
   ],
   "source": [
    "costs,cache_acc_train,cache_acc_val = model.fit(data=train_x,labels=train_y,\n",
    "                                            val_data=val_x,val_labels=val_y,\n",
    "                                           batch_size=32)"
   ]
  },
  {
   "cell_type": "code",
   "execution_count": 19,
   "metadata": {},
   "outputs": [],
   "source": [
    "model.close_sess()"
   ]
  },
  {
   "cell_type": "code",
   "execution_count": 20,
   "metadata": {
    "scrolled": true
   },
   "outputs": [
    {
     "data": {
      "image/png": "[encoded data removed]",
      "text/plain": [
       "<Figure size 1440x288 with 3 Axes>"
      ]
     },
     "metadata": {
      "needs_background": "light"
     },
     "output_type": "display_data"
    }
   ],
   "source": [
    "plot_(costs_bn,costs,cache_acc_train_bn,cache_acc_train,cache_acc_val_bn,cache_acc_val)"
   ]
  },
  {
   "cell_type": "markdown",
   "metadata": {},
   "source": [
    "在小权重,大学习率下,BN网络收敛速度快而BaseLine网络直接产生梯度消失的情况,说明BN网络确实一定程度解决了随着网络变深梯度消失的情况."
   ]
  },
  {
   "cell_type": "markdown",
   "metadata": {},
   "source": [
    "# Summary\n",
    "\n",
    "总体而言BN网络比BaseLine网络更加优秀,但是我在网上发现,有些人认为越大的Batch Size网络会更好,但是我这里的数据集显示并非一定如此,当然这仅代表个人观点."
   ]
  }
 ],
 "metadata": {
  "kernelspec": {
   "display_name": "Python 3",
   "language": "python",
   "name": "python3"
  },
  "language_info": {
   "codemirror_mode": {
    "name": "ipython",
    "version": 3
   },
   "file_extension": ".py",
   "mimetype": "text/x-python",
   "name": "python",
   "nbconvert_exporter": "python",
   "pygments_lexer": "ipython3",
   "version": "3.7.1"
  }
 },
 "nbformat": 4,
 "nbformat_minor": 2
}
