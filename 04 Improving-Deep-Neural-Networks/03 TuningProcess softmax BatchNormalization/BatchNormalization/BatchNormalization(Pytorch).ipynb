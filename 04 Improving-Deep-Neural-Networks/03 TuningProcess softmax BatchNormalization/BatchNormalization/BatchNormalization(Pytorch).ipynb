{
 "cells": [
  {
   "cell_type": "markdown",
   "metadata": {},
   "source": [
    "# BatchNormalization(Pytorch)\n",
    "\n",
    "在这里我们将使用Pytorch来实现BN网络并与普通Base Lines进行比较."
   ]
  },
  {
   "cell_type": "code",
   "execution_count": 1,
   "metadata": {},
   "outputs": [],
   "source": [
    "import torch\n",
    "import torch.nn as nn\n",
    "import torch.nn.functional as F\n",
    "from torch.autograd import Variable\n",
    "\n",
    "import numpy as np\n",
    "import matplotlib.pyplot as plt\n",
    "from miniBatch import random_mini_batche  \n",
    "from data_utils import get_CIFAR10_data"
   ]
  },
  {
   "cell_type": "markdown",
   "metadata": {},
   "source": [
    "### Load Data\n",
    "\n",
    "这里我们加载CIFAR10数据集,由于电脑限制原因,我们这里只使用2000个样本."
   ]
  },
  {
   "cell_type": "code",
   "execution_count": 2,
   "metadata": {},
   "outputs": [
    {
     "name": "stdout",
     "output_type": "stream",
     "text": [
      "X_train:  (49000, 3, 32, 32)\n",
      "y_train:  (49000,)\n",
      "X_val:  (1000, 3, 32, 32)\n",
      "y_val:  (1000,)\n",
      "X_test:  (1000, 3, 32, 32)\n",
      "y_test:  (1000,)\n"
     ]
    }
   ],
   "source": [
    "# Load the (preprocessed) CIFAR10 data.\n",
    "data = get_CIFAR10_data()\n",
    "for k, v in data.items():\n",
    "    print('%s: ' % k, v.shape)"
   ]
  },
  {
   "cell_type": "code",
   "execution_count": 3,
   "metadata": {},
   "outputs": [],
   "source": [
    "def load_data(index_train,index_val,index_test):\n",
    "    \"\"\"\n",
    "    Load data set\n",
    "    \n",
    "    Parameters:\n",
    "    ----------\n",
    "       index_train: training set index range.\n",
    "       index_val: val data set index range.\n",
    "       index_test : test data set index range.\n",
    "    \n",
    "    Returns:\n",
    "    -------\n",
    "       train_x: train set data\n",
    "       train_y train set labels\n",
    "       val_x: val set data\n",
    "       val_y: val set labels\n",
    "       test_x: test set data\n",
    "       test_y: test set labels.\n",
    "    \"\"\"\n",
    "    train_x = data['X_train'][:index_train].reshape(index_train,-1)\n",
    "    train_y = data['y_train'][:index_train]\n",
    "    \n",
    "    val_x = data['X_val'][:index_val].reshape(index_val,-1)\n",
    "    val_y = data['y_val'][:index_val]\n",
    "    \n",
    "    test_x = data['X_test'][:index_test].reshape(index_test,-1)\n",
    "    test_y = data['y_test'][:index_test]\n",
    "    \n",
    "    return train_x,train_y,val_x,val_y,test_x,test_y"
   ]
  },
  {
   "cell_type": "code",
   "execution_count": 4,
   "metadata": {},
   "outputs": [],
   "source": [
    "train_x,train_y,val_x,val_y,test_x,test_y = load_data(2000,100,100)"
   ]
  },
  {
   "cell_type": "markdown",
   "metadata": {},
   "source": [
    "### Build Pytorch of BN\n",
    "\n",
    "这里有几个需要注意的地方\n",
    "\n",
    "[1]\n",
    "\n",
    "```python\n",
    "def __init__(self,layers,mode):\n",
    "    ...```\n",
    "    \n",
    "(1.1) 在此函数中,由于我们是多层网络,所以需要使用for loop统一创建,但是如果只是使用for loop,那么在后面更新的时候,Pytorch会报出```model.parameters()```为空的情况,为了解决这种情况我们需要使用```ModeleList```来将所有的模型装入,当然也可以选择其他模式,具体请查看[nn.Model](https://pytorch.org/docs/stable/nn.html#module),包括可以使用```ModelDict```等.同样,由于我们这里是比较BN与BL,所以BN也是需要装入```ModelList```的.\n",
    "\n",
    "(1.2) 我们可以使用```[nn.init.xavier_normal_(line.weight) for line in self.lines]```来改变```nn.Linear```中的weights初始化值.\n",
    "\n",
    "(1.3) 我们可以使用```model.children()```来查看当前模型下的所有子模型.可以用来查看当前模型是否正确.\n",
    "\n",
    "(1.4) 这里也可以使用```nn.Sequential()```和```model.add_model```等方式来增加Linear和BatchNormal layers.\n",
    "\n",
    "[2]\n",
    "\n",
    "```python\n",
    "def forward(self,x):\n",
    "    ...```\n",
    "    \n",
    "对于forward而言,就是把当前层拿出来计算就可以了,需要注意的是,我们的X是需要计算反向的,也就是说对于以前版本而言```Variable(volatile=True)```.现在```volatile=True```等价于```with torch.no_grad():```.一般我们在测试的时候才需要指定.\n",
    "\n",
    "[3]\n",
    "\n",
    "```Python\n",
    "def train(model,batchs,Loss_fuc,optimizer):\n",
    "    ...```\n",
    "    \n",
    "(3.1) 由于我们选择的损失函数为```nn.CrossEntropyLoss()```,此损失函数是经常用于多分类的,实际上在Pytorch中该损失函数就是```Logsoftmax```和```NLLLosse```的组合,详情请查看[nn.CrossEntropyLoss()](https://pytorch.org/docs/stable/nn.html#crossentropyloss).\n",
    "\n",
    "(3.2) 并且该损失函数的target是要指定tensor类型为Longe,所以我们需要将labels转换为该类型```mini_y_tensor = Variable(torch.Tensor(mini_y)).long()```\n",
    "\n",
    "(3.3) 由于我们如果使用BN网络,那么在训练阶段和测试阶段使用的scale和shift是不一样的,训练阶段我们使用每一个batch size的$\\mu,\\sigma^{2}$,但是在测试阶段,我们是使用滑动平均和滑动方差(running mean/running var).Pytorch提供了以下方法来控制我们是训练还是测试\n",
    "\n",
    "(3.3.1) ```model.train()```:训练模式[nn.Model.train](https://pytorch.org/docs/stable/nn.html#torch.nn.Module.train)\n",
    "\n",
    "(3.3.2) ```model.eval()```:锁定所有参数(即为测试模式),[nn.Model.eval](https://pytorch.org/docs/stable/nn.html#torch.nn.Module.eval)\n",
    "\n",
    "[4]\n",
    "\n",
    "```python\n",
    "def score(model,score_data,score_labels):\n",
    "    ...```\n",
    "    \n",
    "在此函数中,我们需要指定```model.eval()```来锁定参数,进而进入BN的测试模式.另外由于forward函数返回的值还没有经过softmax处理,所以我们需要使用```F.softmax(out,dim=1)```并指定特征轴```dim=1```来进行计算softmax value.\n",
    "\n",
    "\n",
    "[5]\n",
    "\n",
    "```python\n",
    "\n",
    "def Model_(data,labels,val_data,val_labels,batch_size,layers,epochs,lr,mode):\n",
    "    ...```\n",
    "    \n",
    "    \n",
    "(5.1) 由于在测试阶段,我们不需要计算图来反向计算数据,所以我们可以使用```with torch.no_grad():```来加速计算.这一步是十分必要的,这一步即相当于Pytorch早期版本的```Variable(volatile=True)```.\n",
    "\n",
    "\n",
    "(5.2) 整体流程为:\n",
    "\n",
    ">1.预备工作\n",
    "\n",
    ">2.初始化在测试阶段的数据\n",
    "\n",
    ">3.建立Loss_func,这里使用(也是最常用)``nn.CrossEntropyLoss()``\n",
    "\n",
    ">4.建立optimizer,这里使用的是SGD\n",
    "\n",
    ">5.开始训练,每100步打印当前的loss和训练样本的正确率与验证集的正确率\n",
    "\n",
    ">5.返回每100步的loss,训练集的正确率,验证集的正确率."
   ]
  },
  {
   "cell_type": "code",
   "execution_count": 29,
   "metadata": {},
   "outputs": [],
   "source": [
    "class BN_Base_Model(nn.Module):\n",
    "    \"\"\"\n",
    "    Build Batch Normalization and Base Line Neural Network.\n",
    "    \"\"\"\n",
    "    def __init__(self,layers,mode):\n",
    "        \"\"\"\n",
    "        initialization some parameters.\n",
    "        Parameters:\n",
    "        ---------\n",
    "            layers: NN layers. This sample is [100,80,50,30,10]\n",
    "            mode: is BN or BL,BN: Batch Normalization BL: Base Lines.\n",
    "        \"\"\"\n",
    "        nn.Module.__init__(self)\n",
    "        self.layers = layers\n",
    "        self.L = len(layers)\n",
    "        self.mode = mode\n",
    "        \n",
    "        # choose BN NN or BL NN\n",
    "        if self.mode == 'BN':\n",
    "            self.lines = nn.ModuleList([nn.Linear(self.layers[l],self.layers[l+1]) for l in range(self.L-1)])\n",
    "            self.bns = nn.ModuleList([nn.BatchNorm1d(self.layers[l+1]) for l in range(self.L-1)])\n",
    "        elif self.mode == \"BL\":\n",
    "            self.lines = nn.ModuleList([nn.Linear(self.layers[l],self.layers[l+1]) for l in range(self.L-1)])\n",
    "        else:\n",
    "            print('Valid mode %s'%self.mode)\n",
    "            exit(0)\n",
    "        # change the default weights initialze value to xvaier.\n",
    "        [nn.init.xavier_normal_(line.weight) for line in self.lines]\n",
    "                               \n",
    "    def forward(self,x):\n",
    "        \"\"\"\n",
    "        Build forward propagation.\n",
    "        \n",
    "        Parameter:\n",
    "        ---------\n",
    "            x: training data\n",
    "        Return:\n",
    "        ------\n",
    "            x: The last layer value.\n",
    "        \"\"\"\n",
    "        if self.mode == \"BN\":\n",
    "            for l in range(self.L-1):\n",
    "                x = self.lines[l](x)\n",
    "                x = self.bns[l](x)\n",
    "                if l != self.L -2:\n",
    "                    x = F.relu(x) # using relu activation function\n",
    "                else:\n",
    "                    return x # output layer.\n",
    "        else:\n",
    "            for l in range(self.L-1):\n",
    "                x = self.lines[l](x)\n",
    "                if l != self.L-2:\n",
    "                    x = F.relu(x)\n",
    "                else:\n",
    "                    return x"
   ]
  },
  {
   "cell_type": "code",
   "execution_count": 34,
   "metadata": {},
   "outputs": [],
   "source": [
    "def train(model,batchs,Loss_fuc,optimizer):\n",
    "    \"\"\"\n",
    "    Training model.\n",
    "    Parameters:\n",
    "    ----------\n",
    "       model: Pytorch NN model.\n",
    "       batchs: random mini-batchs result.\n",
    "       Loss_fuc: NN loss function.\n",
    "       optimizer : NN optimizer.\n",
    "    \n",
    "    Return:\n",
    "    ------\n",
    "        loss: The loss function\n",
    "    \"\"\"\n",
    "    model.train() # change mode status is train,Very importent in BN or Dropout.\n",
    "    for mini_x,mini_y in batchs:\n",
    "        mini_x_tensor = Variable(torch.Tensor(mini_x))\n",
    "        mini_y_tensor = Variable(torch.Tensor(mini_y)).long()\n",
    "        out = model.forward(mini_x_tensor)\n",
    "        \n",
    "        loss = Loss_fuc(out,mini_y_tensor)\n",
    "        # backward propagation\n",
    "        optimizer.zero_grad()\n",
    "        loss.backward()\n",
    "        optimizer.step()\n",
    "        \n",
    "    return loss"
   ]
  },
  {
   "cell_type": "code",
   "execution_count": 35,
   "metadata": {},
   "outputs": [],
   "source": [
    "def score(model,score_data,score_labels):\n",
    "    \"\"\"\n",
    "    score this model.\n",
    "    \n",
    "    Parameters:\n",
    "    ----------\n",
    "        model: Pytorch NN model.\n",
    "        score_data: score data.\n",
    "        score_labels: score labels\n",
    "    \"\"\"\n",
    "    m,n = score_data.shape\n",
    "    model.eval() # change mode status is eval,Very importent in BN or Dropout.\n",
    "    out = model.forward(score_data)\n",
    "    out = F.softmax(out,dim=1) # using softmax.\n",
    "    predict_y = torch.argmax(out,dim=1) # get predict value.\n",
    "    acc = torch.eq(predict_y,score_labels).sum().item() / m\n",
    "    return acc"
   ]
  },
  {
   "cell_type": "code",
   "execution_count": 36,
   "metadata": {},
   "outputs": [],
   "source": [
    "def Model_(data,labels,val_data,val_labels,batch_size,layers,epochs,lr,mode):\n",
    "    \"\"\"\n",
    "    Build Model.\n",
    "    \n",
    "    Parameters:\n",
    "    ----------\n",
    "        data: training data.\n",
    "        labels: training labels.\n",
    "        val_data: val data.\n",
    "        val_labels: val labels.\n",
    "        batch_size: batch size in random mini-batch. default size: 64\n",
    "        layers: NN layers,this model using [100,80,50,30,10]\n",
    "        epochs: #Iter\n",
    "        lr: learning rate.\n",
    "        mode: is Batch Normalizetion or Balse Line.\n",
    "    Returns:\n",
    "    -------\n",
    "        costs: loss value at 100 step.\n",
    "        acc_trains: train accuracy at 100step. \n",
    "        acc_vals. val accuracy at 100 step.\n",
    "    \"\"\"\n",
    "    m,n = data.shape\n",
    "    n_classes = len(np.unique(labels))\n",
    "    layers.insert(0,n)\n",
    "    \n",
    "    # In testing mode, we did not caculate data or label grad,so set no grad.\n",
    "    with torch.no_grad():\n",
    "        data_tensor = Variable(torch.from_numpy(data)).float()\n",
    "        labels_tensor = Variable(torch.from_numpy(labels))\n",
    "        val_data_tensor = Variable(torch.from_numpy(val_data)).float()\n",
    "        val_labels_tensor = Variable(torch.from_numpy(val_labels))\n",
    "        \n",
    "    model = BN_Base_Model(layers,mode) # build torch model.\n",
    "    \n",
    "    Loss_fuc = nn.CrossEntropyLoss() # create loss, this loss equal logsoftamx + Nllloss.\n",
    "    optimizer = torch.optim.SGD(model.parameters(),lr=lr) # using SGD optimizer.\n",
    "    \n",
    "    seed = 0\n",
    "    costs = []\n",
    "    acc_trains = []\n",
    "    acc_vals = []\n",
    "    # start training ...\n",
    "    for epoch in range(epochs):\n",
    "        seed += 1\n",
    "        batchs = random_mini_batche(data,labels,mini_batche_size=batch_size,seed=seed)\n",
    "        loss = train(model,batchs,Loss_fuc,optimizer)\n",
    "        \n",
    "        if epoch % 100 == 0:\n",
    "            acc_train = score(model,data_tensor,labels_tensor)\n",
    "            acc_val = score(model,val_data_tensor,val_labels_tensor)\n",
    "            print('After [{}/{}] loss:{} acc train:{} acc val:{}'.format(epoch+100,epochs,loss,acc_train,acc_val))\n",
    "            costs.append(loss)\n",
    "            acc_trains.append(acc_train)\n",
    "            acc_vals.append(acc_val)\n",
    "            \n",
    "    return costs,acc_trains,acc_vals\n"
   ]
  },
  {
   "cell_type": "markdown",
   "metadata": {},
   "source": [
    "### Testing BN and BaseLine\n",
    "\n",
    "测试不同情况下,BN网络与普通网络之间的差异:\n",
    "\n",
    "(1) 小权重,小学习率\n",
    "\n",
    "(2) 小权重,大学习率"
   ]
  },
  {
   "cell_type": "code",
   "execution_count": 37,
   "metadata": {},
   "outputs": [],
   "source": [
    "def plot_(costs_bn,costs,cache_acc_train_bn,cache_acc_train,cache_acc_val_bn,cache_acc_val):\n",
    "    fig=plt.figure(figsize=(20,4))\n",
    "    ax1=fig.add_subplot(1,3,1)      \n",
    "    ax1.plot(costs_bn,c='orange',label='batch normal')\n",
    "    ax1.plot(costs,label='base line')\n",
    "    ax1.set_title('Loss:batch normal & base line')\n",
    "    ax1.set_xlabel('#epoch')\n",
    "    ax1.set_ylabel('Value')\n",
    "    ax1.legend()\n",
    "\n",
    "    ax2 =fig.add_subplot(1,3,2)      \n",
    "    ax2.plot(cache_acc_train_bn,c='orange',label='batch normal')\n",
    "    ax2.plot(cache_acc_train,label='base line')\n",
    "    ax2.set_title('Train acc:batch normal & base line')\n",
    "    ax2.set_xlabel('#epoch')\n",
    "    ax2.set_ylabel('Value')\n",
    "    ax2.legend()\n",
    "\n",
    "    ax3 =fig.add_subplot(1,3,3)      \n",
    "    ax3.plot(cache_acc_val_bn,c='orange',label='batch normal')\n",
    "    ax3.plot(cache_acc_val,label='base line')\n",
    "    ax3.set_title('Val acc:batch normal & base line')\n",
    "    ax3.set_xlabel('#epoch')\n",
    "    ax3.set_ylabel('Value')\n",
    "    ax3.legend()\n",
    "\n",
    "    plt.show()"
   ]
  },
  {
   "cell_type": "markdown",
   "metadata": {},
   "source": [
    "#### 小权重,小学习率"
   ]
  },
  {
   "cell_type": "code",
   "execution_count": 42,
   "metadata": {},
   "outputs": [
    {
     "name": "stdout",
     "output_type": "stream",
     "text": [
      "After [100/1000] loss:2.142920970916748 acc train:0.1555 acc val:0.13\n",
      "After [200/1000] loss:1.5122568607330322 acc train:0.8105 acc val:0.37\n",
      "After [300/1000] loss:0.7360067963600159 acc train:0.9385 acc val:0.32\n",
      "After [400/1000] loss:0.6530070304870605 acc train:0.9905 acc val:0.31\n",
      "After [500/1000] loss:0.8915790319442749 acc train:0.998 acc val:0.32\n",
      "After [600/1000] loss:0.24508029222488403 acc train:1.0 acc val:0.29\n",
      "After [700/1000] loss:0.3348768353462219 acc train:1.0 acc val:0.28\n",
      "After [800/1000] loss:0.5815497636795044 acc train:1.0 acc val:0.3\n",
      "After [900/1000] loss:0.20104311406612396 acc train:1.0 acc val:0.28\n",
      "After [1000/1000] loss:0.3199479281902313 acc train:1.0 acc val:0.31\n"
     ]
    }
   ],
   "source": [
    "layers = [100, 80,50,30,10]\n",
    "costs_bn,cache_acc_train_bn,cache_acc_val_bn = Model_(data=train_x,labels=train_y,val_data=val_x,val_labels=val_y,\n",
    "       batch_size=32,layers=layers,epochs=1000,lr=0.001,mode=\"BN\")"
   ]
  },
  {
   "cell_type": "code",
   "execution_count": 43,
   "metadata": {
    "scrolled": true
   },
   "outputs": [
    {
     "name": "stdout",
     "output_type": "stream",
     "text": [
      "After [100/1000] loss:5.619577884674072 acc train:0.2285 acc val:0.15\n",
      "After [200/1000] loss:0.08663219213485718 acc train:0.9075 acc val:0.25\n",
      "After [300/1000] loss:0.3730923533439636 acc train:0.943 acc val:0.23\n",
      "After [400/1000] loss:0.011909127235412598 acc train:0.9795 acc val:0.28\n",
      "After [500/1000] loss:0.018414169549942017 acc train:0.986 acc val:0.29\n",
      "After [600/1000] loss:0.004065454006195068 acc train:0.993 acc val:0.3\n",
      "After [700/1000] loss:0.001047670841217041 acc train:0.994 acc val:0.31\n",
      "After [800/1000] loss:0.0013194680213928223 acc train:0.995 acc val:0.31\n",
      "After [900/1000] loss:0.0002416372299194336 acc train:0.995 acc val:0.29\n",
      "After [1000/1000] loss:0.15627922117710114 acc train:0.995 acc val:0.29\n"
     ]
    }
   ],
   "source": [
    "layers = [100, 80,50,30,10]\n",
    "costs,cache_acc_train,cache_acc_val = Model_(data=train_x,labels=train_y,val_data=val_x,val_labels=val_y,\n",
    "       batch_size=32,layers=layers,epochs=1000,lr=0.001,mode=\"BL\")"
   ]
  },
  {
   "cell_type": "code",
   "execution_count": 46,
   "metadata": {},
   "outputs": [
    {
     "data": {
      "image/png": "[encoded data removed]",
      "text/plain": [
       "<Figure size 1440x288 with 3 Axes>"
      ]
     },
     "metadata": {
      "needs_background": "light"
     },
     "output_type": "display_data"
    }
   ],
   "source": [
    "plot_(costs_bn,costs,cache_acc_train_bn,cache_acc_train,cache_acc_val_bn,cache_acc_val)"
   ]
  },
  {
   "cell_type": "markdown",
   "metadata": {},
   "source": [
    "#### 小权重,大学习率"
   ]
  },
  {
   "cell_type": "code",
   "execution_count": 47,
   "metadata": {},
   "outputs": [
    {
     "name": "stdout",
     "output_type": "stream",
     "text": [
      "After [100/1000] loss:1.8307554721832275 acc train:0.3165 acc val:0.35\n",
      "After [200/1000] loss:0.21524980664253235 acc train:0.9935 acc val:0.37\n",
      "After [300/1000] loss:0.03593246638774872 acc train:1.0 acc val:0.34\n",
      "After [400/1000] loss:0.07386665046215057 acc train:1.0 acc val:0.39\n",
      "After [500/1000] loss:0.0435338169336319 acc train:1.0 acc val:0.38\n",
      "After [600/1000] loss:0.015196077525615692 acc train:1.0 acc val:0.36\n",
      "After [700/1000] loss:0.18543443083763123 acc train:1.0 acc val:0.36\n",
      "After [800/1000] loss:0.008809760212898254 acc train:1.0 acc val:0.4\n",
      "After [900/1000] loss:0.010225176811218262 acc train:1.0 acc val:0.42\n",
      "After [1000/1000] loss:0.012865602970123291 acc train:1.0 acc val:0.4\n"
     ]
    }
   ],
   "source": [
    "layers = [100, 80,50,30,10]\n",
    "costs_bn,cache_acc_train_bn,cache_acc_val_bn = Model_(data=train_x,labels=train_y,val_data=val_x,val_labels=val_y,\n",
    "       batch_size=32,layers=layers,epochs=1000,lr=0.1,mode=\"BN\")"
   ]
  },
  {
   "cell_type": "code",
   "execution_count": 48,
   "metadata": {},
   "outputs": [
    {
     "name": "stdout",
     "output_type": "stream",
     "text": [
      "After [100/1000] loss:nan acc train:0.101 acc val:0.07\n",
      "After [200/1000] loss:nan acc train:0.101 acc val:0.07\n",
      "After [300/1000] loss:nan acc train:0.101 acc val:0.07\n",
      "After [400/1000] loss:nan acc train:0.101 acc val:0.07\n",
      "After [500/1000] loss:nan acc train:0.101 acc val:0.07\n",
      "After [600/1000] loss:nan acc train:0.101 acc val:0.07\n",
      "After [700/1000] loss:nan acc train:0.101 acc val:0.07\n",
      "After [800/1000] loss:nan acc train:0.101 acc val:0.07\n",
      "After [900/1000] loss:nan acc train:0.101 acc val:0.07\n",
      "After [1000/1000] loss:nan acc train:0.101 acc val:0.07\n"
     ]
    }
   ],
   "source": [
    "layers = [100, 80,50,30,10]\n",
    "costs,cache_acc_train,cache_acc_val = Model_(data=train_x,labels=train_y,val_data=val_x,val_labels=val_y,\n",
    "       batch_size=32,layers=layers,epochs=1000,lr=0.1,mode=\"BL\")"
   ]
  },
  {
   "cell_type": "code",
   "execution_count": 49,
   "metadata": {
    "scrolled": true
   },
   "outputs": [
    {
     "data": {
      "image/png": "[encoded data removed]",
      "text/plain": [
       "<Figure size 1440x288 with 3 Axes>"
      ]
     },
     "metadata": {
      "needs_background": "light"
     },
     "output_type": "display_data"
    }
   ],
   "source": [
    "plot_(costs_bn,costs,cache_acc_train_bn,cache_acc_train,cache_acc_val_bn,cache_acc_val)"
   ]
  },
  {
   "cell_type": "markdown",
   "metadata": {},
   "source": [
    "### Summary\n",
    "\n",
    "总体而言Batch Normalization的效果会比普通Base Line的效果好许多.在大学习率下普通的BL会出现梯度消失/爆炸的情况,而BN网络则依然能够接受."
   ]
  }
 ],
 "metadata": {
  "kernelspec": {
   "display_name": "Python 3",
   "language": "python",
   "name": "python3"
  },
  "language_info": {
   "codemirror_mode": {
    "name": "ipython",
    "version": 3
   },
   "file_extension": ".py",
   "mimetype": "text/x-python",
   "name": "python",
   "nbconvert_exporter": "python",
   "pygments_lexer": "ipython3",
   "version": "3.7.1"
  }
 },
 "nbformat": 4,
 "nbformat_minor": 2
}
