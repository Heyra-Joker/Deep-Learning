{
 "cells": [
  {
   "cell_type": "markdown",
   "metadata": {},
   "source": [
    "# Softmax(Application)"
   ]
  },
  {
   "cell_type": "code",
   "execution_count": 1,
   "metadata": {},
   "outputs": [
    {
     "name": "stderr",
     "output_type": "stream",
     "text": [
      "Using TensorFlow backend.\n"
     ]
    }
   ],
   "source": [
    "import numpy as np\n",
    "from keras.datasets import mnist\n",
    "import matplotlib.pyplot as plt"
   ]
  },
  {
   "cell_type": "markdown",
   "metadata": {},
   "source": [
    "## 1 Load Data set"
   ]
  },
  {
   "cell_type": "code",
   "execution_count": 2,
   "metadata": {},
   "outputs": [],
   "source": [
    "(x_train, y_train), (x_test, y_test) = mnist.load_data()"
   ]
  },
  {
   "cell_type": "code",
   "execution_count": 3,
   "metadata": {
    "scrolled": true
   },
   "outputs": [
    {
     "name": "stdout",
     "output_type": "stream",
     "text": [
      "The x_train shape is: (60000, 28, 28)\n",
      "The y_test shape is: (60000,)\n"
     ]
    }
   ],
   "source": [
    "print('The x_train shape is: {}'.format(x_train.shape))\n",
    "print('The y_test shape is: {}'.format(y_train.shape))"
   ]
  },
  {
   "cell_type": "markdown",
   "metadata": {},
   "source": [
    "来查看一下原始图片:"
   ]
  },
  {
   "cell_type": "code",
   "execution_count": 4,
   "metadata": {},
   "outputs": [
    {
     "name": "stdout",
     "output_type": "stream",
     "text": [
      "\u001b[0;31m The digits is: 5\u001b[0m\n"
     ]
    },
    {
     "data": {
      "image/png": "[encoded data removed]",
      "text/plain": [
       "<Figure size 432x288 with 1 Axes>"
      ]
     },
     "metadata": {
      "needs_background": "light"
     },
     "output_type": "display_data"
    }
   ],
   "source": [
    "index = 0\n",
    "plt.imshow(x_train[0],cmap='gray')\n",
    "print('\\033[0;31m The digits is: {}\\033[0m'.format(y_train[index]))\n",
    "plt.show()"
   ]
  },
  {
   "cell_type": "markdown",
   "metadata": {},
   "source": [
    "## 2-1 Using One Hot encodings\n",
    "\n",
    "在使用softmax的时候我们需要注意的一点就是需要将$labels$转换为一个\"Hot\"形式的向量,因为我们的网络输出的结构是(n_sample,C)或者(C,n_sample),这里的n_sample为样本个数.\n",
    "\n",
    "在深度学习的许多时候,我们需要将$labels$向量转换为一个范围是0到$C-1$的形式,其中这里的$C$是分类的个数,比如$C=4$,那么我们就需要将其转换成下面这种形式.\n",
    "![](../../../picture/122.png)\n",
    "\n",
    "也就是$labels$的元素在对应的\"Hot\"矩阵中为1,比如按照上面的方式而言对于第一个样本$y=1$,那么第一列的索引为1的位置上就是1.\n",
    "\n",
    "另外在我们的网络经过softmax activation function之后,也会形成类似于上述的\"Hot\"矩阵,比如可能产生这样的结果:\n",
    "\n",
    "$predict\\;y=\\begin{bmatrix}\n",
    "0.842& 0.5 & 0.03 & 0.8 & 0.1 &0.2\\\\ \n",
    "0.042& 0.4 & 0.07 & 0.1 & 0.1 & 0.4\\\\\n",
    "0.002& 0.05 & 0.4 & 0.05 & 0.7 & 0.2\\\\\n",
    "0.114& 0.05 & 0.5 &0.05 & 0.1 & 0.2\\\\\n",
    "\\end{bmatrix}$\n",
    "\n",
    "然后我们可以取每一列中概率最大的(因为我们这里是(C,n_sample)的形式),所以返回的索引结果是[0,0,3,0,2,1]\n",
    "\n",
    "这样就正好应对我们的真实标签$y$,进而就可以计算正确率或错误率.\n",
    "\n",
    "**Note:**softmax矩阵所有的类概率之和为1,比如在这个例子中每一列的概率之和要为1,这是非常重要的可以用于检验代码是否正确.\n",
    "\n",
    "那么我们在Numpy中可以使用以下代码将$labels$转换成\"Hot\"形式.\n",
    "- np.eye()"
   ]
  },
  {
   "cell_type": "code",
   "execution_count": 5,
   "metadata": {},
   "outputs": [],
   "source": [
    "def One_hot(Y,classes):\n",
    "    '''\n",
    "    Implement y to \"hot y\"\n",
    "    Parameters:\n",
    "    ----------\n",
    "        1.Y labels of data set\n",
    "        2.classes  Number of classes\n",
    "    Return:\n",
    "    ------\n",
    "        hot_matrix\n",
    "        \n",
    "    Expansion:\n",
    "    ---------\n",
    "        np.eye(classes)[Y.ravel()].T equals\n",
    "        a = np.eye(classes)\n",
    "        a = a[:,Y.ravel()]\n",
    "        \n",
    "        ------------------\n",
    "        b = np.array([1,2,3,4])\n",
    "        print(b[[3,3,3,0]])\n",
    "        print(b)\n",
    "        \n",
    "        [4 4 4 1]\n",
    "        [1 2 3 4]\n",
    "        \n",
    "        ------------------\n",
    "        c = np.eye(4)\n",
    "        print(c)\n",
    "        y = [3,3,0,2]\n",
    "        c[:,y]\n",
    "        \n",
    "        [[1. 0. 0. 0.]\n",
    "         [0. 1. 0. 0.]\n",
    "         [0. 0. 1. 0.]\n",
    "         [0. 0. 0. 1.]]\n",
    "         \n",
    "array([[0., 0., 1., 0.],\n",
    "       [0., 0., 0., 0.],\n",
    "       [0., 0., 0., 1.],\n",
    "       [1., 1., 0., 0.]])\n",
    "       \n",
    "       实际上就是利用原有输入索引位上的元素去新创建一个数组.以b为例子就是\n",
    "       将原有索引3(值为4) 放在新创建数组的第一位，\n",
    "       将原有索引3(值为4) 放在新创建数组的第二位,\n",
    "       将原有索引3(值为4) 放在新创建数组的第三位,\n",
    "       将原有索引0(值为1) 放在新创建数组的第四位.\n",
    "       那么c的例子就是保证行数不变的情况下利用索引元素新创建数组.\n",
    "        \n",
    "    '''\n",
    "    # 实际上就是行发生变化，再转置就成了类似于上面的c例子,ravel()这里可有可无,因为我们这里y的形状是1维的,但是如果你的标签是2维的\n",
    "    # 那么就需要将其展平,可以使用ravel()或者ndarray.flatten()\n",
    "    \n",
    "    hot_matrix = np.eye(classes)[Y.ravel()].T \n",
    "    return hot_matrix"
   ]
  },
  {
   "cell_type": "code",
   "execution_count": 6,
   "metadata": {},
   "outputs": [
    {
     "name": "stdout",
     "output_type": "stream",
     "text": [
      "y_train_hot_matrix: \n",
      "[[0. 1. 0. ... 0. 0. 0.]\n",
      " [0. 0. 0. ... 0. 0. 0.]\n",
      " [0. 0. 0. ... 0. 0. 0.]\n",
      " ...\n",
      " [0. 0. 0. ... 0. 0. 0.]\n",
      " [0. 0. 0. ... 0. 0. 1.]\n",
      " [0. 0. 0. ... 0. 0. 0.]]\n",
      "y_train_hot_matrix shape:\n",
      "(10, 60000)\n",
      "y_train matix:\n",
      "[5 0 4 ... 5 6 8]\n"
     ]
    }
   ],
   "source": [
    "# classes of y\n",
    "n_classes = len(np.unique(y_train))\n",
    "y_train_hot_matrix = One_hot(y_train,n_classes)\n",
    "print('y_train_hot_matrix: ')\n",
    "print(y_train_hot_matrix)\n",
    "print('y_train_hot_matrix shape:')\n",
    "print(y_train_hot_matrix.shape)\n",
    "print('y_train matix:')\n",
    "print(y_train)"
   ]
  },
  {
   "cell_type": "markdown",
   "metadata": {},
   "source": [
    "很明显可以看到第二个样本$y_2=0$,那么在\"Hot\"矩阵中,第二列索引为0的位置为1.\n",
    "\n",
    "**Note:**\n",
    "\n",
    "实际上我更倾向于(n_sample,C)的形式,而不是这里的(C,n_sample)的形式,实际上也很简单,两者之间就差一个转置,那么我下面都会采用(n_sample,C)的形式即:(样本个数,标签类个数)的形式."
   ]
  },
  {
   "cell_type": "markdown",
   "metadata": {},
   "source": [
    "那么下面我们重新定义上述hot函数记为```ONE_HOT```."
   ]
  },
  {
   "cell_type": "code",
   "execution_count": 7,
   "metadata": {},
   "outputs": [],
   "source": [
    "def ONE_HOT(y,n_classes):\n",
    "    return np.eye(n_classes)[y]"
   ]
  },
  {
   "cell_type": "code",
   "execution_count": 8,
   "metadata": {},
   "outputs": [
    {
     "name": "stdout",
     "output_type": "stream",
     "text": [
      "y_train_hot_matrix: \n",
      "[[0. 0. 0. ... 0. 0. 0.]\n",
      " [1. 0. 0. ... 0. 0. 0.]\n",
      " [0. 0. 0. ... 0. 0. 0.]\n",
      " ...\n",
      " [0. 0. 0. ... 0. 0. 0.]\n",
      " [0. 0. 0. ... 0. 0. 0.]\n",
      " [0. 0. 0. ... 0. 1. 0.]]\n",
      "y_train_hot_matrix shape:\n",
      "(60000, 10)\n"
     ]
    }
   ],
   "source": [
    "# classes of y\n",
    "n_classes = len(np.unique(y_train))\n",
    "y_train_hot_matrix = ONE_HOT(y_train,n_classes)\n",
    "print('y_train_hot_matrix: ')\n",
    "print(y_train_hot_matrix)\n",
    "print('y_train_hot_matrix shape:')\n",
    "print(y_train_hot_matrix.shape)"
   ]
  },
  {
   "cell_type": "markdown",
   "metadata": {},
   "source": [
    "## 2-2 Change shape in \"X\" data set\n",
    "\n",
    "接下去我们将training/validation data set转换为我们能够接受的shape,即:(n_sample,features)"
   ]
  },
  {
   "cell_type": "code",
   "execution_count": 9,
   "metadata": {},
   "outputs": [
    {
     "name": "stdout",
     "output_type": "stream",
     "text": [
      "The x_train shape is (60000, 784)\n",
      "The x_test shape is (10000, 784)\n"
     ]
    }
   ],
   "source": [
    "x_train = x_train.reshape(x_train.shape[0],-1) / 255\n",
    "x_test = x_test.reshape(x_test.shape[0],-1) / 255\n",
    "print('The x_train shape is {}'.format(x_train.shape))\n",
    "print('The x_test shape is {}'.format(x_test.shape))"
   ]
  },
  {
   "cell_type": "markdown",
   "metadata": {},
   "source": [
    "所以我们这里使用的样本shape形式总结为:\n",
    "\n",
    "- $x:$(n_sample,features)\n",
    "\n",
    "- $y:$(n_sample,C)"
   ]
  },
  {
   "cell_type": "markdown",
   "metadata": {},
   "source": [
    "## 3. Create Model\n",
    "\n",
    "### 3-1 Initialization Parameters\n",
    "\n",
    "我们这里的网络结构选择:linear1(25 units)-->linear2(12 units)-->linear3(10 units)\n",
    "\n",
    "我们这里的初始化方式选择He:\n",
    "\n",
    "```He initialization = np.random.randn(input_features,output_features) / np.sqrt(input_features).```\n",
    "\n",
    "这里的L为: input'units + hidden layers'units\n",
    "\n",
    "另外我们的Optimizer选择Adam,所以我们还需要初始化Adam Optimizer的参数$m,v$"
   ]
  },
  {
   "cell_type": "code",
   "execution_count": 10,
   "metadata": {},
   "outputs": [],
   "source": [
    "def initial_parameters(L,layers):\n",
    "    \"\"\"\n",
    "    initialization parameters.\n",
    "    Arguments:\n",
    "    ---------\n",
    "        L: #input'units + hidden layers'units\n",
    "        layers: hidden layers's units\n",
    "    Return:\n",
    "    ------\n",
    "        parameters: include weights and bias. \n",
    "    \"\"\"\n",
    "    np.random.seed(1)\n",
    "    parameters = {}\n",
    "    V = {}\n",
    "    M = {}\n",
    "    for l in range(L-1):\n",
    "        W = np.random.randn(layers[l],layers[l+1]) / np.sqrt(layers[l])\n",
    "        b = np.zeros((1,layers[l+1]))\n",
    "        \n",
    "        V['V_dW'+str(l+1)] = np.zeros(W.shape)\n",
    "        V['V_db'+str(l+1)] = np.zeros(b.shape)\n",
    "        M['M_dW'+str(l+1)] = np.zeros(W.shape)\n",
    "        M['M_db'+str(l+1)] = np.zeros(b.shape)\n",
    "        parameters['W'+str(l+1)] = W\n",
    "        parameters['b'+str(l+1)] = b\n",
    "        \n",
    "    return parameters,V,M"
   ]
  },
  {
   "cell_type": "code",
   "execution_count": 11,
   "metadata": {},
   "outputs": [
    {
     "name": "stdout",
     "output_type": "stream",
     "text": [
      "W1 shape is (784, 25)\n",
      "b1 shape is (1, 25)\n",
      "W2 shape is (25, 12)\n",
      "b2 shape is (1, 12)\n",
      "W3 shape is (12, 10)\n",
      "b3 shape is (1, 10)\n"
     ]
    }
   ],
   "source": [
    "layers = [25,12,10]\n",
    "layers.insert(0,x_train.shape[1])\n",
    "L = len(layers)\n",
    "parameters,V,M = initial_parameters(L,layers)\n",
    "for key,value in parameters.items():\n",
    "    print(key,'shape is',value.shape)"
   ]
  },
  {
   "cell_type": "markdown",
   "metadata": {},
   "source": [
    "### 3-2 Forward Propagation\n",
    "\n",
    "创建向前传播,最后返回出```hat_y```的shape is (n_sample,C).\n",
    "\n",
    "隐藏层采用ReLu activation function,输出层采用softmax activation function.\n",
    "\n",
    "**Note:**在某些情况下,采用softmax会出现下溢的情况,这时候往往有两个方法可以选择1.更改weights的初始值.2.使用log的方式"
   ]
  },
  {
   "cell_type": "code",
   "execution_count": 12,
   "metadata": {},
   "outputs": [],
   "source": [
    "def relu(Z):\n",
    "    \"\"\"\n",
    "    ReLu activation\n",
    "    \"\"\"\n",
    "    return np.maximum(0,Z)"
   ]
  },
  {
   "cell_type": "code",
   "execution_count": 13,
   "metadata": {},
   "outputs": [],
   "source": [
    "def softmax(Z):\n",
    "    \"\"\"\n",
    "    softmax activation\n",
    "    \"\"\"\n",
    "    t = np.exp(Z)\n",
    "    return t/np.sum(t,axis=1,keepdims=True)"
   ]
  },
  {
   "cell_type": "code",
   "execution_count": 14,
   "metadata": {},
   "outputs": [],
   "source": [
    "def forward(X,L,parameters):\n",
    "    \"\"\"\n",
    "    forward propagation\n",
    "    \"\"\"\n",
    "    A = X\n",
    "    cache = {'A0':X}\n",
    "    for l in range(L-1):\n",
    "        W = parameters['W'+str(l+1)]\n",
    "        b = parameters['b'+str(l+1)]\n",
    "        Z = np.add(np.dot(A,W),b)\n",
    "        cache['Z'+str(l+1)] = Z\n",
    "        if l != L -2 :\n",
    "            A = relu(Z)\n",
    "        else:\n",
    "            A = softmax(Z)\n",
    "        cache['A'+str(l+1)] = A\n",
    "    return A,cache"
   ]
  },
  {
   "cell_type": "code",
   "execution_count": 15,
   "metadata": {},
   "outputs": [
    {
     "name": "stdout",
     "output_type": "stream",
     "text": [
      "Softmax matrix shape is  (60000, 10)\n",
      "[1. 1. 1. ... 1. 1. 1.]\n"
     ]
    }
   ],
   "source": [
    "softmax_matrix,cache = forward(x_train,L,parameters)\n",
    "print('Softmax matrix shape is ',softmax_matrix.shape)\n",
    "# check softamx\n",
    "print(softmax_matrix.sum(axis=1))"
   ]
  },
  {
   "cell_type": "markdown",
   "metadata": {},
   "source": [
    "### 3-3 Loss Fucntion\n",
    "\n",
    "我们使用softmax的损失函数:\n",
    "\n",
    "$loss = -\\frac{1}{m}ylog(A)$"
   ]
  },
  {
   "cell_type": "code",
   "execution_count": 16,
   "metadata": {},
   "outputs": [],
   "source": [
    "def Loss(A,y):\n",
    "    \"\"\"\n",
    "    caculate loss value in mini-batchs or score data.\n",
    "    \"\"\"\n",
    "    m = y.shape[0]\n",
    "    loss = - np.sum(np.multiply(y,np.log(A))) / m\n",
    "    return loss"
   ]
  },
  {
   "cell_type": "code",
   "execution_count": 17,
   "metadata": {},
   "outputs": [
    {
     "name": "stdout",
     "output_type": "stream",
     "text": [
      "The loss is 2.3311101745895173\n"
     ]
    }
   ],
   "source": [
    "loss = Loss(softmax_matrix,y_train_hot_matrix)\n",
    "print('The loss is {}'.format(loss))"
   ]
  },
  {
   "cell_type": "markdown",
   "metadata": {},
   "source": [
    "### 3-4 Backward\n",
    "\n",
    "softmax的Backward Propagation形式是和Logistics Regression的形式是一样的,更多详细内容查看[Softmax(Theory)](https://github.com/woaij100/Classic_machine_learning/blob/master/4-4%20Softmax(Theory).ipynb)"
   ]
  },
  {
   "cell_type": "code",
   "execution_count": 18,
   "metadata": {},
   "outputs": [],
   "source": [
    "def backward(A,y,cache,parameters,L):\n",
    "    \"\"\"\n",
    "    Backward propagation\n",
    "    \"\"\"\n",
    "    m = y.shape[0]\n",
    "    dparameters = {}\n",
    "    for l in range(L-1,0,-1):\n",
    "        if l == L-1:\n",
    "            dZ = A - y\n",
    "            dW = np.dot(cache['A'+str(l-1)].T,dZ) / m\n",
    "            db = np.sum(dZ,axis=0,keepdims=True) / m\n",
    "        else:\n",
    "            dA = np.dot(dZ,parameters['W'+str(l+1)].T)\n",
    "            dZ = np.multiply(dA,np.int64(cache['Z'+str(l)]>0))\n",
    "            A = cache['A'+str(l-1)]\n",
    "            dW = np.dot(A.T,dZ) /m\n",
    "            db = np.sum(dZ,axis=0,keepdims=True) / m\n",
    "        dparameters['dW'+str(l)] = dW\n",
    "        dparameters['db'+str(l)] = db\n",
    "    \n",
    "    return dparameters"
   ]
  },
  {
   "cell_type": "code",
   "execution_count": 19,
   "metadata": {},
   "outputs": [
    {
     "name": "stdout",
     "output_type": "stream",
     "text": [
      "dW3 (12, 10)\n",
      "db3 (1, 10)\n",
      "dW2 (25, 12)\n",
      "db2 (1, 12)\n",
      "dW1 (784, 25)\n",
      "db1 (1, 25)\n"
     ]
    }
   ],
   "source": [
    "dparameters = backward(softmax_matrix,y_train_hot_matrix,cache,parameters,L)\n",
    "for key, values in dparameters.items():\n",
    "    print(key,values.shape)"
   ]
  },
  {
   "cell_type": "markdown",
   "metadata": {},
   "source": [
    "### 3-5 Update\n",
    "\n",
    "更新参数,我们这里使用Adam的形式\n",
    "\n",
    "$m_{t}=\\beta_{1}m_{t-1}+(1-\\beta_{1})g_{t}$\n",
    "\n",
    "$v_t=\\beta_{2}v_{t-1}+(1-\\beta_2)g^{2}_t$\n",
    "\n",
    "$\\widehat{m_t}=\\frac{m_t}{1-\\beta_{1}^{t}}$\n",
    "\n",
    "$\\widehat{v_t}=\\frac{v_t}{1-\\beta_{2}^{t}}$\n",
    "\n",
    "$\\theta_{t+1}=\\theta_{t}-\\frac{\\eta}{\\sqrt{\\widehat{v_t}+\\epsilon}}\\cdot\\widehat{m_t}$\n",
    "\n",
    "建议 $β_1 ＝ 0.9,β_2 ＝ 0.999,ϵ ＝ 1e−8$,$\\alpha=0.001$"
   ]
  },
  {
   "cell_type": "code",
   "execution_count": 20,
   "metadata": {},
   "outputs": [],
   "source": [
    "def Update(L,dparameters,parameters,V,M,beta_1,beta_2,t,lr,epsilon=1e-8):\n",
    "    \"\"\"\n",
    "    Updating parameters and using Adam optimizeer.\n",
    "    \"\"\"\n",
    "    for l in range(L-1):\n",
    "        M['M_dW'+str(l+1)] = beta_1 * M['M_dW'+str(l+1)] + (1-beta_1) * dparameters['dW'+str(l+1)]\n",
    "        M['M_db'+str(l+1)] = beta_1 * M['M_db'+str(l+1)] + (1-beta_1) * dparameters['db'+str(l+1)]\n",
    "        \n",
    "        V['V_dW'+str(l+1)] = beta_2 * V['V_dW'+str(l+1)] + (1-beta_2) * np.square(dparameters['dW'+str(l+1)])\n",
    "        V['V_db'+str(l+1)] = beta_2 * V['V_db'+str(l+1)] + (1-beta_2) * np.square(dparameters['db'+str(l+1)])\n",
    "        \n",
    "        M_correct_dW = M['M_dW'+str(l+1)]/ (1-np.power(beta_1,t))\n",
    "        M_correct_db = M['M_db'+str(l+1)]/ (1-np.power(beta_1,t))\n",
    "        \n",
    "        V_correect_dW = V['V_dW'+str(l+1)]/ (1-np.power(beta_2,t))\n",
    "        V_correect_db = V['V_db'+str(l+1)]/ (1-np.power(beta_2,t))\n",
    "        \n",
    "        parameters['W'+str(l+1)] -= lr * M_correct_dW /(np.sqrt(V_correect_dW+epsilon)) \n",
    "        parameters['b'+str(l+1)] -= lr * M_correct_db /(np.sqrt(V_correect_db+epsilon)) \n",
    "    \n",
    "    return parameters,V,M"
   ]
  },
  {
   "cell_type": "code",
   "execution_count": 21,
   "metadata": {},
   "outputs": [
    {
     "name": "stdout",
     "output_type": "stream",
     "text": [
      "The loss is 2.2874135153867385\n"
     ]
    }
   ],
   "source": [
    "beta_1 = 0.9\n",
    "beta_2 = 0.999\n",
    "t = 1\n",
    "lr = 0.001\n",
    "parameters,V,M = Update(L,dparameters,parameters,V,M,beta_1,beta_2,t,lr)\n",
    "softmax_matrix,cache = forward(x_train,L,parameters)\n",
    "loss = Loss(softmax_matrix,y_train_hot_matrix)\n",
    "print('The loss is {}'.format(loss))"
   ]
  },
  {
   "cell_type": "markdown",
   "metadata": {},
   "source": [
    "### 3-5 Mini-Batchs\n",
    "\n",
    "现在我们创建Mini-batchs的形式,batch size为64.\n",
    "\n",
    "这里的y的形状为(n_sample,C)"
   ]
  },
  {
   "cell_type": "code",
   "execution_count": 22,
   "metadata": {},
   "outputs": [],
   "source": [
    "def random_mini_batchs(X,y,seed,batc_size=64):\n",
    "    \"\"\"\n",
    "    Create mini-batchs.\n",
    "    \"\"\"\n",
    "    np.random.seed(seed) # make sure every epochs the data is shuffle.\n",
    "    \n",
    "    m = X.shape[0]\n",
    "    mini_batchs = []\n",
    "    \n",
    "    index_ = np.random.permutation(m)\n",
    "    \n",
    "    shuffle_X = X[index_,:]\n",
    "    shuffle_y = y[index_,:]\n",
    "    \n",
    "    num_compute_minibatch_size = m // batc_size\n",
    "    for i in range(num_compute_minibatch_size):\n",
    "        mini_x = shuffle_X[i*batc_size:(i+1)*batc_size,:]\n",
    "    \n",
    "        mini_y = shuffle_y[i*batc_size:(i+1)*batc_size,:]\n",
    "        mini_batch = (mini_x,mini_y)\n",
    "        mini_batchs.append(mini_batch)\n",
    "        \n",
    "    if m % batc_size !=0:\n",
    "        mini_x = shuffle_X[num_compute_minibatch_size * batc_size:,:]\n",
    "        mini_y = shuffle_y[num_compute_minibatch_size * batc_size:,:]\n",
    "        mini_batch = (mini_x,mini_y)\n",
    "        mini_batchs.append(mini_batch)\n",
    "    \n",
    "    return mini_batchs"
   ]
  },
  {
   "cell_type": "markdown",
   "metadata": {},
   "source": [
    "### 3-6 Score Function\n",
    "\n",
    "创建评分函数,用于计算迭代过程中的training/validation 正确率和validation的loss."
   ]
  },
  {
   "cell_type": "code",
   "execution_count": 23,
   "metadata": {},
   "outputs": [],
   "source": [
    "def score(data,labels,L,parameters,is_loss=False):\n",
    "    \"\"\"\n",
    "    score model and return correct rate or loss value.\n",
    "    \"\"\"\n",
    "    m = labels.shape[0]\n",
    "    A,_ = forward(data,L,parameters)\n",
    "    predict_y = np.argmax(A,axis=1)\n",
    "    true_y = np.argmax(labels,axis=1)\n",
    "    acc = np.equal(true_y,predict_y).sum() / m\n",
    "    if is_loss:\n",
    "        loss = Loss(A,labels)\n",
    "        return acc,loss\n",
    "    else:\n",
    "        return acc"
   ]
  },
  {
   "cell_type": "markdown",
   "metadata": {},
   "source": [
    "### 3-7 Model\n",
    "\n",
    "到现在为止我们已经做好建立模型前的一切准备,现在可以开始建立模型"
   ]
  },
  {
   "cell_type": "code",
   "execution_count": 24,
   "metadata": {},
   "outputs": [],
   "source": [
    "def Softmax_Model(layers,data,labels,val_data,val_labels,lr,epochs,beta_1=0.9,beta_2=0.999,batc_size=64):\n",
    "    \n",
    "    \"\"\"\n",
    "    Implement softmax model.\n",
    "    NN model:Linear(25)--->Linear(12)--->Linear(10)\n",
    "    \"\"\"\n",
    "    layers.insert(0,data.shape[1])\n",
    "    L = len(layers)\n",
    "    n_classes = len(np.unique(labels))\n",
    "    y_train_hot = ONE_HOT(labels,n_classes)\n",
    "    y_val_hot = ONE_HOT(val_labels,n_classes)\n",
    "    seed = 0\n",
    "    t = 0\n",
    "    losses = []\n",
    "    val_losses = []\n",
    "    acc_trains = []\n",
    "    acc_vals = []\n",
    "    \n",
    "    parameters,V,M = initial_parameters(L,layers)\n",
    "    \n",
    "    num_minibatches  = data.shape[1] / batc_size\n",
    "    \n",
    "    for epoch in range(epochs):\n",
    "        epoch_cost = 0\n",
    "        seed +=1\n",
    "        mini_batchs = random_mini_batchs(data,y_train_hot,seed=seed,batc_size=batc_size)\n",
    "        for mini_x,mini_y in mini_batchs:\n",
    "            t += 1\n",
    "            A,cache = forward(mini_x,L,parameters)\n",
    "            dparameters = backward(A,mini_y,cache,parameters,L)\n",
    "            parameters,V,M = Update(L,dparameters,parameters,V,M,beta_1,beta_2,t,lr)\n",
    "            \n",
    "        acc_train,train_loss = score(data,y_train_hot,L,parameters,True)\n",
    "        acc_val,val_loss = score(val_data,y_val_hot,L,parameters,True)\n",
    "        \n",
    "        losses.append(train_loss)\n",
    "        val_losses.append(val_loss)\n",
    "        acc_trains.append(acc_train)\n",
    "        acc_vals.append(acc_val)\n",
    "        \n",
    "        print('\\033[0;35m [{}/{}] loss:{},acc_train:{},val_loss:{},acc_val:{}\\033[0m \\r'.format(epoch+1,\n",
    "                                                                                              epochs,\n",
    "                                                                                              loss,\n",
    "                                                                                              acc_train,\n",
    "                                                                                              val_loss,\n",
    "                                                                                              acc_val),end=\"\",flush=True)\n",
    "    return losses,val_losses,acc_trains,acc_vals,parameters\n",
    "        "
   ]
  },
  {
   "cell_type": "code",
   "execution_count": 25,
   "metadata": {},
   "outputs": [
    {
     "name": "stdout",
     "output_type": "stream",
     "text": [
      "\u001b[0;35m [20/20] loss:2.2874135153867385,acc_train:0.9821333333333333,val_loss:0.13249687020704093,acc_val:0.9646\u001b[0m \r"
     ]
    }
   ],
   "source": [
    "layers = [25,12,10]\n",
    "losses,val_losses,acc_trains,acc_vals,parameters = Softmax_Model(layers,x_train,y_train,x_test,y_test,\n",
    "                                                      lr=0.001,\n",
    "                                                      epochs=20,\n",
    "                                                      beta_1=0.9,\n",
    "                                                      beta_2=0.999,\n",
    "                                                      batc_size=64)"
   ]
  },
  {
   "cell_type": "markdown",
   "metadata": {},
   "source": [
    "## 4 PLot Loss/Accuracy"
   ]
  },
  {
   "cell_type": "code",
   "execution_count": 26,
   "metadata": {},
   "outputs": [
    {
     "data": {
      "text/plain": [
       "<matplotlib.legend.Legend at 0x125f47f98>"
      ]
     },
     "execution_count": 26,
     "metadata": {},
     "output_type": "execute_result"
    },
    {
     "data": {
      "image/png": "[encoded data removed]",
      "text/plain": [
       "<Figure size 1080x288 with 2 Axes>"
      ]
     },
     "metadata": {
      "needs_background": "light"
     },
     "output_type": "display_data"
    }
   ],
   "source": [
    "figure = plt.figure(figsize=(15,4))\n",
    "ax1 = figure.add_subplot(1,2,1)\n",
    "ax1.plot(losses,label=\"Train Loss\")\n",
    "ax1.plot(val_losses,label=\"Val Loss\")\n",
    "ax1.set_title('Loss')\n",
    "ax1.set_xlabel('#Iterate')\n",
    "ax1.set_ylabel('Values')\n",
    "ax1.legend()\n",
    "\n",
    "ax2 = figure.add_subplot(1,2,2)\n",
    "ax2.plot(acc_trains,label=\"Train Acc\")\n",
    "ax2.plot(acc_vals,label=\"Val Acc\")\n",
    "ax2.set_title('Accuracy')\n",
    "ax2.set_xlabel('#Iterate')\n",
    "ax2.set_ylabel('Values')\n",
    "ax2.legend()"
   ]
  },
  {
   "cell_type": "markdown",
   "metadata": {},
   "source": [
    "### 5 Test Your Image\n",
    "\n",
    "crop函数带的参数为(左,上,右,下)."
   ]
  },
  {
   "cell_type": "code",
   "execution_count": 27,
   "metadata": {},
   "outputs": [],
   "source": [
    "from PIL import Image"
   ]
  },
  {
   "cell_type": "markdown",
   "metadata": {},
   "source": [
    "加载我们要测试的图片,由于我们训练样本是灰度图,所以我们也需要将图片转换为灰度图."
   ]
  },
  {
   "cell_type": "code",
   "execution_count": 28,
   "metadata": {},
   "outputs": [
    {
     "data": {
      "text/plain": [
       "<matplotlib.image.AxesImage at 0x126133978>"
      ]
     },
     "execution_count": 28,
     "metadata": {},
     "output_type": "execute_result"
    },
    {
     "data": {
      "image/png": "[encoded data removed]",
      "text/plain": [
       "<Figure size 432x288 with 1 Axes>"
      ]
     },
     "metadata": {
      "needs_background": "light"
     },
     "output_type": "display_data"
    }
   ],
   "source": [
    "img = Image.open('test.jpg').convert('L') # change to gray\n",
    "# can choose it to crop image\n",
    "# img = img.crop((50,90,190,280)) \n",
    "plt.imshow(img,cmap='gray')"
   ]
  },
  {
   "cell_type": "markdown",
   "metadata": {},
   "source": [
    "我们的训练样本大小为(28,28),所以我们也需要将图片转换为(28,28),由于我们的图片比较简单,这里我们就使用线性插值法改变图片大小."
   ]
  },
  {
   "cell_type": "code",
   "execution_count": 29,
   "metadata": {},
   "outputs": [
    {
     "data": {
      "text/plain": [
       "<matplotlib.image.AxesImage at 0x126199160>"
      ]
     },
     "execution_count": 29,
     "metadata": {},
     "output_type": "execute_result"
    },
    {
     "data": {
      "image/png": "[encoded data removed]",
      "text/plain": [
       "<Figure size 432x288 with 1 Axes>"
      ]
     },
     "metadata": {
      "needs_background": "light"
     },
     "output_type": "display_data"
    }
   ],
   "source": [
    "img = img.resize((28,28))\n",
    "plt.imshow(img,cmap='gray')"
   ]
  },
  {
   "cell_type": "markdown",
   "metadata": {},
   "source": [
    "转换为data训练的shape(1,784)"
   ]
  },
  {
   "cell_type": "code",
   "execution_count": 30,
   "metadata": {},
   "outputs": [
    {
     "name": "stdout",
     "output_type": "stream",
     "text": [
      "The data shape is (1, 784)\n"
     ]
    }
   ],
   "source": [
    "data = np.asarray(img).reshape(1,-1) /255\n",
    "print('The data shape is {}'.format(data.shape))"
   ]
  },
  {
   "cell_type": "markdown",
   "metadata": {},
   "source": [
    "预测一下:"
   ]
  },
  {
   "cell_type": "code",
   "execution_count": 31,
   "metadata": {},
   "outputs": [
    {
     "name": "stdout",
     "output_type": "stream",
     "text": [
      "Predict labels is [5]\n"
     ]
    }
   ],
   "source": [
    "A,_ = forward(data,L,parameters)\n",
    "predict = np.argmax(A,axis=1)\n",
    "print('Predict labels is {}'.format(predict))"
   ]
  },
  {
   "cell_type": "markdown",
   "metadata": {},
   "source": [
    "Congratulations!,结果是正确的.当然如果结果错了也是正常现象."
   ]
  }
 ],
 "metadata": {
  "kernelspec": {
   "display_name": "Python 3",
   "language": "python",
   "name": "python3"
  },
  "language_info": {
   "codemirror_mode": {
    "name": "ipython",
    "version": 3
   },
   "file_extension": ".py",
   "mimetype": "text/x-python",
   "name": "python",
   "nbconvert_exporter": "python",
   "pygments_lexer": "ipython3",
   "version": "3.7.3"
  }
 },
 "nbformat": 4,
 "nbformat_minor": 2
}
