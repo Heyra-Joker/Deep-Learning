{
 "cells": [
  {
   "cell_type": "markdown",
   "metadata": {},
   "source": [
    "# Softmax(Keras)"
   ]
  },
  {
   "cell_type": "code",
   "execution_count": 1,
   "metadata": {},
   "outputs": [
    {
     "name": "stderr",
     "output_type": "stream",
     "text": [
      "Using TensorFlow backend.\n"
     ]
    }
   ],
   "source": [
    "import numpy as np\n",
    "import keras\n",
    "from keras.models import Sequential\n",
    "from keras.layers import Dense\n",
    "from keras.datasets import mnist\n",
    "import matplotlib.pyplot as plt"
   ]
  },
  {
   "cell_type": "markdown",
   "metadata": {},
   "source": [
    "## 1. Load Data\n",
    "\n",
    "我们使用keras自带的mnist数据集,由于我们的采用的损失函数```categorical_crossentropy```你的目标值应该是分类格式(即,如果你有10个类,每个样本的目标值应该是一个 10 维的向量,这个向量除了表示类别的那个索引为1,其他均为0).\n",
    "\n",
    "于是我们可以使用[to_categorical](https://keras.io/zh/utils/#to_categorical)来将其转换为\"Hot\"的形式.\n",
    "\n",
    "```python\n",
    "# 考虑一组 3 个类 {0,1,2} 中的 5 个标签数组：\n",
    "> labels\n",
    "array([0, 2, 1, 2, 0])\n",
    "# `to_categorical` 将其转换为具有尽可能多表示类别数的列的矩阵。\n",
    "# 行数保持不变。\n",
    "> to_categorical(labels)\n",
    "array([[ 1.,  0.,  0.],\n",
    "       [ 0.,  0.,  1.],\n",
    "       [ 0.,  1.,  0.],\n",
    "       [ 0.,  0.,  1.],\n",
    "       [ 1.,  0.,  0.]], dtype=float32)```"
   ]
  },
  {
   "cell_type": "code",
   "execution_count": 2,
   "metadata": {},
   "outputs": [],
   "source": [
    "def LoadData():\n",
    "    (x_train,y_train),(x_test,y_test) = mnist.load_data()\n",
    "    x_train = x_train.reshape(x_train.shape[0],-1) / 255\n",
    "    x_test = x_test.reshape(x_test.shape[0],-1) / 255\n",
    "\n",
    "    n_classes = len(np.unique(y_train))\n",
    "    y_train_hot = keras.utils.to_categorical(y_train,n_classes)\n",
    "    y_test_hot = keras.utils.to_categorical(y_test,n_classes)\n",
    "\n",
    "    return n_classes,x_train,y_train_hot,x_test,y_test_hot"
   ]
  },
  {
   "cell_type": "code",
   "execution_count": 3,
   "metadata": {},
   "outputs": [],
   "source": [
    "n_classes,x_train,y_train_hot,x_test,y_test_hot = LoadData()"
   ]
  },
  {
   "cell_type": "markdown",
   "metadata": {},
   "source": [
    "## 2. Build Softmax Model\n",
    "\n",
    "这里我们采用Sequential的形式,还是和之前一样:\n",
    "\n",
    "(1) 初始化Sequential模型:```Sequential()```.\n",
    "\n",
    "(2) 增加三层普通层Dense,神经节点数分别为24,12,10,前两次采用```relu```,初始化方式为```he_normal```.\n",
    "\n",
    "(3) Optimizer我们选择Adam,损失我们使用```categorical_crossentropy```.\n",
    "\n",
    "(4) 编译模型,输出加入accuracy.\n",
    "\n",
    "(5) 训练模型,```batch_size = 64```,```validation_data=(val_datas,val_labels)```,最后epochs为20次."
   ]
  },
  {
   "cell_type": "code",
   "execution_count": 13,
   "metadata": {},
   "outputs": [],
   "source": [
    "def softmaxModel(data,labels,val_datas,val_labels,lr,epochs,BATCH_SIZE):\n",
    "    \n",
    "    m,n = data.shape\n",
    "    initializer = keras.initializers.he_normal(seed=1)\n",
    "    model = Sequential()\n",
    "    model.add(Dense(units=25,input_shape=(n,),activation='relu',kernel_initializer=initializer))\n",
    "    model.add(Dense(units=12,activation='relu',kernel_initializer=initializer))\n",
    "    model.add(Dense(units=10,activation='softmax',kernel_initializer=initializer))\n",
    "    \n",
    "\n",
    "    optimizer = keras.optimizers.Adam(lr=lr,epsilon=1e-6)\n",
    "    model.compile(optimizer=optimizer,loss='categorical_crossentropy',metrics=['accuracy'])\n",
    "    \n",
    "    model.fit(data,labels,batch_size=BATCH_SIZE,epochs=epochs,verbose=1,validation_data=(val_datas,val_labels))\n",
    "    \n",
    "    return model"
   ]
  },
  {
   "cell_type": "code",
   "execution_count": 14,
   "metadata": {},
   "outputs": [
    {
     "name": "stdout",
     "output_type": "stream",
     "text": [
      "Train on 60000 samples, validate on 10000 samples\n",
      "Epoch 1/20\n",
      "60000/60000 [==============================] - 2s 26us/step - loss: 0.4973 - acc: 0.8521 - val_loss: 0.2494 - val_acc: 0.9294\n",
      "Epoch 2/20\n",
      "60000/60000 [==============================] - 1s 22us/step - loss: 0.2182 - acc: 0.9359 - val_loss: 0.1970 - val_acc: 0.9429\n",
      "Epoch 3/20\n",
      "60000/60000 [==============================] - 2s 29us/step - loss: 0.1799 - acc: 0.9469 - val_loss: 0.1725 - val_acc: 0.9488\n",
      "Epoch 4/20\n",
      "60000/60000 [==============================] - 1s 22us/step - loss: 0.1579 - acc: 0.9533 - val_loss: 0.1649 - val_acc: 0.9518\n",
      "Epoch 5/20\n",
      "60000/60000 [==============================] - 1s 22us/step - loss: 0.1435 - acc: 0.9579 - val_loss: 0.1542 - val_acc: 0.9561\n",
      "Epoch 6/20\n",
      "60000/60000 [==============================] - 1s 22us/step - loss: 0.1304 - acc: 0.9611 - val_loss: 0.1536 - val_acc: 0.9563\n",
      "Epoch 7/20\n",
      "60000/60000 [==============================] - 1s 21us/step - loss: 0.1225 - acc: 0.9635 - val_loss: 0.1432 - val_acc: 0.9599\n",
      "Epoch 8/20\n",
      "60000/60000 [==============================] - 1s 22us/step - loss: 0.1142 - acc: 0.9652 - val_loss: 0.1460 - val_acc: 0.9555\n",
      "Epoch 9/20\n",
      "60000/60000 [==============================] - 1s 23us/step - loss: 0.1077 - acc: 0.9667 - val_loss: 0.1440 - val_acc: 0.9586\n",
      "Epoch 10/20\n",
      "60000/60000 [==============================] - 1s 22us/step - loss: 0.1011 - acc: 0.9681 - val_loss: 0.1386 - val_acc: 0.9594\n",
      "Epoch 11/20\n",
      "60000/60000 [==============================] - 1s 22us/step - loss: 0.0962 - acc: 0.9713 - val_loss: 0.1467 - val_acc: 0.9594\n",
      "Epoch 12/20\n",
      "60000/60000 [==============================] - 1s 22us/step - loss: 0.0898 - acc: 0.9725 - val_loss: 0.1402 - val_acc: 0.9575\n",
      "Epoch 13/20\n",
      "60000/60000 [==============================] - 1s 23us/step - loss: 0.0869 - acc: 0.9729 - val_loss: 0.1504 - val_acc: 0.9575\n",
      "Epoch 14/20\n",
      "60000/60000 [==============================] - 1s 23us/step - loss: 0.0818 - acc: 0.9743 - val_loss: 0.1409 - val_acc: 0.9597\n",
      "Epoch 15/20\n",
      "60000/60000 [==============================] - 1s 22us/step - loss: 0.0785 - acc: 0.9752 - val_loss: 0.1459 - val_acc: 0.9587\n",
      "Epoch 16/20\n",
      "60000/60000 [==============================] - 1s 23us/step - loss: 0.0749 - acc: 0.9767 - val_loss: 0.1435 - val_acc: 0.9597\n",
      "Epoch 17/20\n",
      "60000/60000 [==============================] - 1s 23us/step - loss: 0.0726 - acc: 0.9775 - val_loss: 0.1505 - val_acc: 0.9582\n",
      "Epoch 18/20\n",
      "60000/60000 [==============================] - 1s 22us/step - loss: 0.0694 - acc: 0.9782 - val_loss: 0.1584 - val_acc: 0.9574\n",
      "Epoch 19/20\n",
      "60000/60000 [==============================] - 1s 23us/step - loss: 0.0660 - acc: 0.9801 - val_loss: 0.1429 - val_acc: 0.9624\n",
      "Epoch 20/20\n",
      "60000/60000 [==============================] - 1s 23us/step - loss: 0.0642 - acc: 0.9796 - val_loss: 0.1418 - val_acc: 0.9636\n"
     ]
    }
   ],
   "source": [
    "keras.backend.clear_session() # clear session\n",
    "model = softmaxModel(x_train,y_train_hot,x_test,y_test_hot,lr=0.001,epochs=20,BATCH_SIZE=64)"
   ]
  },
  {
   "cell_type": "markdown",
   "metadata": {},
   "source": [
    "训练完毕之后发现效果还是可以接受."
   ]
  },
  {
   "cell_type": "markdown",
   "metadata": {},
   "source": [
    "## 3. Plot Accuracy/Loss\n",
    "\n",
    "我们使用```model.history.history```来提取训练过程中的loss和accuracy,当然更加建议使用Tensorbord."
   ]
  },
  {
   "cell_type": "code",
   "execution_count": 6,
   "metadata": {},
   "outputs": [],
   "source": [
    "train_loss = model.history.history['loss']\n",
    "train_acc = model.history.history['acc']\n",
    "val_loss = model.history.history['val_loss']\n",
    "val_acc = model.history.history['val_acc']"
   ]
  },
  {
   "cell_type": "code",
   "execution_count": 7,
   "metadata": {},
   "outputs": [
    {
     "data": {
      "text/plain": [
       "<matplotlib.legend.Legend at 0xb47dd4a90>"
      ]
     },
     "execution_count": 7,
     "metadata": {},
     "output_type": "execute_result"
    },
    {
     "data": {
      "image/png": "[encoded data removed]",
      "text/plain": [
       "<Figure size 1080x288 with 2 Axes>"
      ]
     },
     "metadata": {
      "needs_background": "light"
     },
     "output_type": "display_data"
    }
   ],
   "source": [
    "figure = plt.figure(figsize=(15,4))\n",
    "ax1 = figure.add_subplot(1,2,1)\n",
    "ax1.plot(train_loss,label=\"Train Loss\")\n",
    "ax1.plot(val_loss,label=\"Val Loss\")\n",
    "ax1.set_title('Loss')\n",
    "ax1.set_xlabel('#Iterate')\n",
    "ax1.set_ylabel('Values')\n",
    "ax1.legend()\n",
    "\n",
    "ax2 = figure.add_subplot(1,2,2)\n",
    "ax2.plot(train_acc,label=\"Train Acc\")\n",
    "ax2.plot(val_acc,label=\"Val Acc\")\n",
    "ax2.set_title('Accuracy')\n",
    "ax2.set_xlabel('#Iterate')\n",
    "ax2.set_ylabel('Values')\n",
    "ax2.legend()"
   ]
  },
  {
   "cell_type": "markdown",
   "metadata": {},
   "source": [
    "可以看出训练样本起始的正确率就较高,看样子Keras在迭代完Mini-batchs后在进行一次validation的测试.另外模型也发生了轻微的过拟合."
   ]
  },
  {
   "cell_type": "markdown",
   "metadata": {},
   "source": [
    "## 4. Tets Image\n",
    "\n",
    "这个部分就不在多提了,可以查看Softmax(Application)中的详细解释."
   ]
  },
  {
   "cell_type": "code",
   "execution_count": 8,
   "metadata": {},
   "outputs": [],
   "source": [
    "from PIL import Image"
   ]
  },
  {
   "cell_type": "code",
   "execution_count": 9,
   "metadata": {
    "scrolled": true
   },
   "outputs": [
    {
     "data": {
      "text/plain": [
       "<matplotlib.image.AxesImage at 0xb4a2fdfd0>"
      ]
     },
     "execution_count": 9,
     "metadata": {},
     "output_type": "execute_result"
    },
    {
     "data": {
      "image/png": "[encoded data removed]",
      "text/plain": [
       "<Figure size 432x288 with 1 Axes>"
      ]
     },
     "metadata": {
      "needs_background": "light"
     },
     "output_type": "display_data"
    }
   ],
   "source": [
    "img = Image.open('test.jpg').convert('L') # change to gray\n",
    "plt.imshow(img,cmap='gray')"
   ]
  },
  {
   "cell_type": "code",
   "execution_count": 10,
   "metadata": {},
   "outputs": [
    {
     "data": {
      "text/plain": [
       "<matplotlib.image.AxesImage at 0xb4a3a17f0>"
      ]
     },
     "execution_count": 10,
     "metadata": {},
     "output_type": "execute_result"
    },
    {
     "data": {
      "image/png": "[encoded data removed]",
      "text/plain": [
       "<Figure size 432x288 with 1 Axes>"
      ]
     },
     "metadata": {
      "needs_background": "light"
     },
     "output_type": "display_data"
    }
   ],
   "source": [
    "img = img.resize((28,28))\n",
    "plt.imshow(img,cmap='gray')"
   ]
  },
  {
   "cell_type": "code",
   "execution_count": 11,
   "metadata": {},
   "outputs": [
    {
     "name": "stdout",
     "output_type": "stream",
     "text": [
      "The data shape is (1, 784)\n"
     ]
    }
   ],
   "source": [
    "data = np.asarray(img).reshape(1,-1) /255\n",
    "print('The data shape is {}'.format(data.shape))"
   ]
  },
  {
   "cell_type": "code",
   "execution_count": 12,
   "metadata": {},
   "outputs": [
    {
     "name": "stdout",
     "output_type": "stream",
     "text": [
      "predict classes is: 3\n"
     ]
    }
   ],
   "source": [
    "predict_ = model.predict_classes(data)\n",
    "print('predict classes is: {}'.format(predict_[0]))"
   ]
  },
  {
   "cell_type": "markdown",
   "metadata": {},
   "source": [
    "很遗憾,预测错误,没关系,等待我们的CNN登场就可以很好的解决."
   ]
  }
 ],
 "metadata": {
  "kernelspec": {
   "display_name": "Python 3",
   "language": "python",
   "name": "python3"
  },
  "language_info": {
   "codemirror_mode": {
    "name": "ipython",
    "version": 3
   },
   "file_extension": ".py",
   "mimetype": "text/x-python",
   "name": "python",
   "nbconvert_exporter": "python",
   "pygments_lexer": "ipython3",
   "version": "3.7.3"
  }
 },
 "nbformat": 4,
 "nbformat_minor": 2
}
