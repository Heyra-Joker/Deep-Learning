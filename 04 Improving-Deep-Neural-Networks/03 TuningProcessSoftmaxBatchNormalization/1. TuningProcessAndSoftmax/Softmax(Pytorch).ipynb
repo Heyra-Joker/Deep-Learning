{
 "cells": [
  {
   "cell_type": "markdown",
   "metadata": {},
   "source": [
    "# Softmax(Pytorch)"
   ]
  },
  {
   "cell_type": "code",
   "execution_count": 1,
   "metadata": {},
   "outputs": [
    {
     "name": "stderr",
     "output_type": "stream",
     "text": [
      "Using TensorFlow backend.\n"
     ]
    }
   ],
   "source": [
    "import numpy as np\n",
    "import torch \n",
    "import torch.nn as nn\n",
    "import torch.utils.data as Data\n",
    "from torch.autograd import Variable\n",
    "from keras.datasets import mnist\n",
    "import matplotlib.pyplot as plt"
   ]
  },
  {
   "cell_type": "markdown",
   "metadata": {},
   "source": [
    "## 1. Load dataset\n",
    "\n",
    "这里使用Keras的minist数据集."
   ]
  },
  {
   "cell_type": "code",
   "execution_count": 2,
   "metadata": {},
   "outputs": [],
   "source": [
    "(x_train, y_train), (x_test, y_test) = mnist.load_data()"
   ]
  },
  {
   "cell_type": "code",
   "execution_count": 3,
   "metadata": {},
   "outputs": [],
   "source": [
    "x_train = x_train.reshape(x_train.shape[0],-1) / 255\n",
    "x_test = x_test.reshape(x_test.shape[0],-1) / 255"
   ]
  },
  {
   "cell_type": "markdown",
   "metadata": {},
   "source": [
    "## 2. Forward\n",
    "\n",
    "构建pytorch的向前传播.\n",
    "\n",
    "线性层的结构为:(input units, output units)"
   ]
  },
  {
   "cell_type": "code",
   "execution_count": 4,
   "metadata": {},
   "outputs": [],
   "source": [
    "class Model_softmax(nn.Module):\n",
    "    \"\"\"\n",
    "    Build forward propagation \n",
    "    \"\"\"\n",
    "    def __init__(self,layers):\n",
    "        \"\"\"\n",
    "        Initialization linear model. Linear-->relu-->Linear-->...-->Output layer\n",
    "        \n",
    "        Arguments:\n",
    "        ---------\n",
    "            layers: #hidden layer's units.\n",
    "        \"\"\"\n",
    "        nn.Module.__init__(self)\n",
    "        self.L = len(layers)\n",
    "        # build linear model.\n",
    "        self.linears = nn.ModuleList([nn.Linear(layers[l],layers[l+1]) for l in range(self.L - 1)])\n",
    "        print('Model Sumarray:')\n",
    "        print(self.linears)\n",
    "        # change weights initializer value,using \"He\".\n",
    "        [nn.init.kaiming_uniform_(linear.weight) for linear in self.linears]\n",
    "    \n",
    "    def forward(self,X):\n",
    "        \"\"\"\n",
    "        build forward propagation.\n",
    "        \n",
    "        Arguments:\n",
    "        ---------\n",
    "            X: data set, shape like (m_sample,features)\n",
    "        Return:\n",
    "        ------\n",
    "            X: output layer value. shape is (m_sample,n_classes)\n",
    "            Notice:it have not through any activate function,because,we use loss function is nn.CrossEntropyLoss(),\n",
    "                it's euqal nn.LogSoftmax() + nn.NLLLoss().\n",
    "        \"\"\"\n",
    "        for l in range(self.L -1):\n",
    "            X = self.linears[l](X)\n",
    "            if l != self.L - 2:\n",
    "                X = torch.relu(X)\n",
    "            else:\n",
    "                return X"
   ]
  },
  {
   "cell_type": "code",
   "execution_count": 15,
   "metadata": {
    "scrolled": true
   },
   "outputs": [
    {
     "name": "stdout",
     "output_type": "stream",
     "text": [
      "Model Sumarray:\n",
      "ModuleList(\n",
      "  (0): Linear(in_features=784, out_features=25, bias=True)\n",
      "  (1): Linear(in_features=25, out_features=12, bias=True)\n",
      "  (2): Linear(in_features=12, out_features=10, bias=True)\n",
      ")\n",
      "\n",
      "The softmax check:\n",
      "tensor([1.0000, 1.0000, 1.0000,  ..., 1.0000, 1.0000, 1.0000],\n",
      "       grad_fn=<SumBackward2>)\n",
      "\n",
      "The output layer shape is:\n",
      "torch.Size([60000, 10])\n"
     ]
    }
   ],
   "source": [
    "layers = [x_train.shape[1],25,12,10]\n",
    "model = Model_softmax(layers)\n",
    "X = Variable(torch.from_numpy(x_train)).float()\n",
    "X = model.forward(X)\n",
    "print('\\nThe softmax check:')\n",
    "print(torch.sum(torch.softmax(X,dim=1),dim=1))\n",
    "print('\\nThe output layer shape is:')\n",
    "print(X.size())"
   ]
  },
  {
   "cell_type": "markdown",
   "metadata": {},
   "source": [
    "接下来我们可以搭建Pytorch of Softmax Model."
   ]
  },
  {
   "cell_type": "markdown",
   "metadata": {},
   "source": [
    "## 3. Score\n",
    "\n",
    "这里我们搭建测试模型时的评分函数,用于查看在训练过程中trian/validation的loss与correct rate."
   ]
  },
  {
   "cell_type": "code",
   "execution_count": 6,
   "metadata": {},
   "outputs": [],
   "source": [
    "def score(model,cost,data,labels,is_loss=False):\n",
    "    \"\"\"\n",
    "    Score Function\n",
    "    Arguments:\n",
    "    ---------\n",
    "        model: pytorch model.\n",
    "        cost: loss function,In this case we use ```nn.CrossEntropyLoss()```.\n",
    "        data: score data.\n",
    "        labels: score loss\n",
    "        is_loss: calculate loss with given score data, if is_loss equal True.default False\n",
    "    \n",
    "    Returns:\n",
    "        acc: score data's correct rate.\n",
    "        loss: score data's loss value.\n",
    "    \"\"\"\n",
    "    out = model.forward(data)\n",
    "    softmax_out = torch.softmax(out,dim=1)\n",
    "    predict = torch.argmax(softmax_out,dim=1)\n",
    "    correct_ = torch.eq(predict,labels).type(torch.FloatTensor)\n",
    "    acc = torch.mean(correct_)\n",
    "    if is_loss:\n",
    "        loss = cost(out,labels)\n",
    "        return acc,loss\n",
    "    else:\n",
    "        return acc    "
   ]
  },
  {
   "cell_type": "markdown",
   "metadata": {},
   "source": [
    "## 4. Create Softmax Model\n",
    "\n",
    "下面我们开始搭建Softmax Model.\n",
    "\n",
    "(1) 因为我们在测试阶段是无需计算数据/标签的梯度渐变的,所以我们使用```with torch.no_grad():```来设置测试阶段的数据/标签.\n",
    "\n",
    "```python\n",
    "with torch.no_grad():\n",
    "    ...```\n",
    "    \n",
    "(2) 我们选择[nn.CrossEntropyLoss()](https://pytorch.org/docs/stable/nn.html#torch.nn.CrossEntropyLoss)来计算loss,对于该损失函数有两点需要主要的:\n",
    "\n",
    ">(2.1) 该函数不支持\"One-Hot\"的形式,所以我们传入的True labels的形状为(m_smaple,)或者(m_smaple,1),该损失函数会依据类索引进行计算也就是如下形式(更多详细查看[RuntimeError: multi-target not supported (newbie)\n",
    "](https://discuss.pytorch.org/t/runtimeerror-multi-target-not-supported-newbie/10216)):\n",
    "\n",
    "<img src=\"../../../picture/123.png\" width=300 height=300>\n",
    "\n",
    "> (2.2) 该函数的target argument 需要是Long类型,所以我们在```with torch.no_grad():```使用```torch.LongTensor(labels)```的形式.\n",
    "\n",
    "\n",
    "(3) 我们使用Pytorch自己的数据集划分Mini-Batchs与Tensorflow不同的是,Pytorch的方式简单许多只有两步:\n",
    "\n",
    "(3.1) ```Data.TensorDataset(X_tensor,y_tensor)```:将需要划分的tensor data 放入,多元素以元组的方式.\n",
    "\n",
    "(3.2) ```Data.DataLoader```:划分数据集,该函数自身就是一个迭代器\n",
    "\n",
    "- ```dataset```:要划分的数据集\n",
    "- ```batch_size```:每一轮的批次\n",
    "- ```shuffle```:每一个epoch是否需要打乱原数据,这里我们应该选择打乱.\n",
    "- ```num_workers```:是否以多线程的方式快速加载划分数据集,需要注意的是,线程的数量不可过多,会爬虫的朋友应该都熟悉."
   ]
  },
  {
   "cell_type": "code",
   "execution_count": 7,
   "metadata": {},
   "outputs": [],
   "source": [
    "def softmax(layers,data,labels,val_data,val_labels,lr,epochs,BATCH_SIZE):\n",
    "    \"\"\"\n",
    "    Implement Softmax Model.\n",
    "    \n",
    "    Arguments:\n",
    "    ---------\n",
    "        layers: hidden layers units\n",
    "        data: training data set.\n",
    "        labels: training data labels.\n",
    "        val_data: validation data set.\n",
    "        val_labels: validation data labels.\n",
    "        lr: learning rate.\n",
    "        epochs: #Iterate.\n",
    "        BATCH_SIZE: batch size.\n",
    "    Returns:\n",
    "    -------\n",
    "        train_loss_list: include train set  loss value.\n",
    "        val_loss_list: include val data set  loss value.\n",
    "        train_accs_list: include train set  correct rate.\n",
    "        val_accs_list: include val set correct rate.\n",
    "    \"\"\"\n",
    "    # Pretreatment\n",
    "    m,n = data.shape\n",
    "    n_classes = len(np.unique(labels))\n",
    "    layers.insert(0,n)\n",
    "    \n",
    "    # using testing model, don't caculate grad !\n",
    "    with torch.no_grad():\n",
    "        data_tensor = Variable(torch.FloatTensor(data))\n",
    "        labels_tensor = Variable(torch.LongTensor(labels))\n",
    "        \n",
    "        val_data_tensor = Variable(torch.FloatTensor(val_data))\n",
    "        val_labels_tensor = Variable(torch.LongTensor(val_labels))\n",
    "        \n",
    "        \n",
    "    # Create Model\n",
    "    model = Model_softmax(layers)\n",
    "    # using CrossEntropyLoss\n",
    "    cost = nn.CrossEntropyLoss()\n",
    "    # using Adam Optimizer.\n",
    "    optimizer = torch.optim.Adam(model.parameters(),lr=lr)\n",
    "    \n",
    "    # Split Mini-Batchs.\n",
    "    X_tensor = torch.Tensor(data)\n",
    "    y_tensor = torch.LongTensor(labels) # It's Long type must be careful !\n",
    "    data_set = Data.TensorDataset(X_tensor,y_tensor)\n",
    "    loder = Data.DataLoader(dataset=data_set,batch_size=BATCH_SIZE,shuffle=True,num_workers=2)\n",
    "    \n",
    "    # cache loss and correct rate\n",
    "    train_loss_list = []\n",
    "    val_loss_list = []\n",
    "    train_accs_list = []\n",
    "    val_accs_list = []\n",
    "    \n",
    "    # Strat training.\n",
    "    for epoch in range(epochs):\n",
    "        for mini_x,mini_y in loder:\n",
    "            \n",
    "            out = model.forward(mini_x)\n",
    "            \n",
    "            loss = cost(out,mini_y)\n",
    "            \n",
    "            optimizer.zero_grad()\n",
    "            loss.backward()\n",
    "            optimizer.step()\n",
    "        \n",
    "        # Testing Time.\n",
    "        acc_train,loss_train = score(model,cost,data_tensor,labels_tensor,is_loss=True)\n",
    "        acc_val,loss_val = score(model,cost,val_data_tensor,val_labels_tensor,is_loss=True)\n",
    "        \n",
    "        train_accs_list.append(acc_train);train_loss_list.append(loss_train)\n",
    "        val_accs_list.append(acc_val);val_loss_list.append(loss_val)\n",
    "        \n",
    "        print('\\033[0;35m [{}/{}] loss:{:.4f},acc_train:{:.4f},val_loss:{:.4f},acc_val:{:.4f}\\033[0m\\r'.format(\n",
    "        epoch+1,epochs,loss_train,acc_train,loss_val,acc_val),end=\"\",flush=True)\n",
    "        \n",
    "    return train_loss_list,train_accs_list,val_loss_list,val_accs_list\n",
    "        "
   ]
  },
  {
   "cell_type": "code",
   "execution_count": 11,
   "metadata": {},
   "outputs": [
    {
     "name": "stdout",
     "output_type": "stream",
     "text": [
      "Model Sumarray:\n",
      "ModuleList(\n",
      "  (0): Linear(in_features=784, out_features=25, bias=True)\n",
      "  (1): Linear(in_features=25, out_features=12, bias=True)\n",
      "  (2): Linear(in_features=12, out_features=10, bias=True)\n",
      ")\n",
      "\u001b[0;35m [20/20] loss:0.0640,acc_train:0.9801,val_loss:0.1427,acc_val:0.9608\u001b[0m\r"
     ]
    }
   ],
   "source": [
    "layers = [25,12,10]\n",
    "train_loss,train_accs,val_loss,val_accs = softmax(layers,x_train,y_train,x_test,y_test,lr=0.001,\n",
    "                                                  epochs=20,BATCH_SIZE=64)"
   ]
  },
  {
   "cell_type": "markdown",
   "metadata": {},
   "source": [
    "可以看到与Softmax(Application)中的结果非常相似.并且有请微微的过拟合发生,接下去我们来绘制一下Accuracy/Loss."
   ]
  },
  {
   "cell_type": "markdown",
   "metadata": {},
   "source": [
    "## 5. Plot Accuracy/Loss"
   ]
  },
  {
   "cell_type": "code",
   "execution_count": 12,
   "metadata": {},
   "outputs": [
    {
     "data": {
      "text/plain": [
       "<matplotlib.legend.Legend at 0x105bb5a20>"
      ]
     },
     "execution_count": 12,
     "metadata": {},
     "output_type": "execute_result"
    },
    {
     "data": {
      "image/png": "[encoded data removed]",
      "text/plain": [
       "<Figure size 1080x288 with 2 Axes>"
      ]
     },
     "metadata": {
      "needs_background": "light"
     },
     "output_type": "display_data"
    }
   ],
   "source": [
    "figure = plt.figure(figsize=(15,4))\n",
    "ax1 = figure.add_subplot(1,2,1)\n",
    "ax1.plot(train_loss,label=\"Train Loss\")\n",
    "ax1.plot(val_loss,label=\"Val Loss\")\n",
    "ax1.set_title('Loss')\n",
    "ax1.set_xlabel('#Iterate')\n",
    "ax1.set_ylabel('Values')\n",
    "ax1.legend()\n",
    "\n",
    "ax2 = figure.add_subplot(1,2,2)\n",
    "ax2.plot(train_accs,label=\"Train Acc\")\n",
    "ax2.plot(val_accs,label=\"Val Acc\")\n",
    "ax2.set_title('Accuracy')\n",
    "ax2.set_xlabel('#Iterate')\n",
    "ax2.set_ylabel('Values')\n",
    "ax2.legend()"
   ]
  },
  {
   "cell_type": "markdown",
   "metadata": {},
   "source": [
    "可以看到确实有轻微微过拟合发生,我们可以选择最简单的办法early-stop,来解决此类轻微微过拟合."
   ]
  }
 ],
 "metadata": {
  "kernelspec": {
   "display_name": "Python 3",
   "language": "python",
   "name": "python3"
  },
  "language_info": {
   "codemirror_mode": {
    "name": "ipython",
    "version": 3
   },
   "file_extension": ".py",
   "mimetype": "text/x-python",
   "name": "python",
   "nbconvert_exporter": "python",
   "pygments_lexer": "ipython3",
   "version": "3.7.3"
  }
 },
 "nbformat": 4,
 "nbformat_minor": 2
}
