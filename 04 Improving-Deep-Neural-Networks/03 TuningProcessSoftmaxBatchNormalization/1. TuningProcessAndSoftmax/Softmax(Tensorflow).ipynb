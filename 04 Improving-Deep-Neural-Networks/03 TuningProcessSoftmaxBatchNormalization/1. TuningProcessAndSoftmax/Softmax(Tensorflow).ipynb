{
 "cells": [
  {
   "cell_type": "code",
   "execution_count": 1,
   "metadata": {},
   "outputs": [
    {
     "name": "stderr",
     "output_type": "stream",
     "text": [
      "Using TensorFlow backend.\n"
     ]
    }
   ],
   "source": [
    "import numpy as np\n",
    "import tensorflow as tf\n",
    "from tensorflow.python.framework import ops\n",
    "import matplotlib.pyplot as plt\n",
    "from keras.datasets import mnist"
   ]
  },
  {
   "cell_type": "markdown",
   "metadata": {},
   "source": [
    "## 1. Load Data set\n",
    "\n",
    "这里我们依然使用Keras的Minist数据集."
   ]
  },
  {
   "cell_type": "code",
   "execution_count": 2,
   "metadata": {},
   "outputs": [],
   "source": [
    "(x_train, y_train), (x_test, y_test) = mnist.load_data()"
   ]
  },
  {
   "cell_type": "code",
   "execution_count": 3,
   "metadata": {},
   "outputs": [],
   "source": [
    "x_train = x_train.reshape(x_train.shape[0],-1) / 255\n",
    "x_test = x_test.reshape(x_test.shape[0],-1) / 255"
   ]
  },
  {
   "cell_type": "markdown",
   "metadata": {},
   "source": [
    "## 2. Initialization\n",
    "\n",
    "使用Tensorflow初始化weights and bias."
   ]
  },
  {
   "cell_type": "code",
   "execution_count": 4,
   "metadata": {},
   "outputs": [],
   "source": [
    "def initializer_parameters(L,layers):\n",
    "    \"\"\"\n",
    "    Arguments:\n",
    "    ---------\n",
    "        L: #input'units + hidden layers'units\n",
    "        layers: hidden layers's units\n",
    "    Return:\n",
    "    ------\n",
    "        parameters: include weights and bias.\n",
    "    Note:\n",
    "    ----\n",
    "        In this case, weights's initializer is \"He\".\n",
    "    \"\"\"\n",
    "    parameters = {}\n",
    "    initializer_W = tf.keras.initializers.he_normal(seed=1)\n",
    "    initializer_b = tf.keras.initializers.zeros()\n",
    "    for l in range(L-1):\n",
    "        parameters['W'+str(l+1)] = tf.get_variable('W'+str(l+1),[layers[l],layers[l+1]],initializer=initializer_W)\n",
    "        parameters['b'+str(l+1)] = tf.get_variable('b'+str(l+1),[1,layers[l+1]],initializer=initializer_b)\n",
    "    return parameters"
   ]
  },
  {
   "cell_type": "markdown",
   "metadata": {},
   "source": [
    "## 3. Forward\n",
    "\n",
    "构建forward Propagation."
   ]
  },
  {
   "cell_type": "code",
   "execution_count": 5,
   "metadata": {},
   "outputs": [],
   "source": [
    "def forward(L,X,parameters):\n",
    "    \"\"\"\n",
    "    Implement forward propagation\n",
    "    \n",
    "    Arguments:\n",
    "    ---------\n",
    "        L: #input'units + hidden layers'units\n",
    "        X: data set, shape like [n_sample,features]\n",
    "        parameters: include weights and bias.\n",
    "        \n",
    "    Return:\n",
    "    ------\n",
    "        X: output layer value,\n",
    "        Notice,it not use activate function,because,we loss function choose:\n",
    "            tf.nn.softmax_cross_entropy_with_logits_v2.\n",
    "    \n",
    "    \"\"\"\n",
    "    for l in range(L-1):\n",
    "        \n",
    "        W = parameters['W'+str(l+1)]\n",
    "        b = parameters['b'+str(l+1)]\n",
    "        \n",
    "        X = tf.add(tf.matmul(X,W),b)\n",
    "        if l != L-2:\n",
    "            X = tf.nn.relu(X)\n",
    "        else:\n",
    "            return X"
   ]
  },
  {
   "cell_type": "code",
   "execution_count": 6,
   "metadata": {},
   "outputs": [
    {
     "name": "stdout",
     "output_type": "stream",
     "text": [
      "WARNING:tensorflow:From /anaconda3/lib/python3.7/site-packages/tensorflow/python/framework/op_def_library.py:263: colocate_with (from tensorflow.python.framework.ops) is deprecated and will be removed in a future version.\n",
      "Instructions for updating:\n",
      "Colocations handled automatically by placer.\n",
      "out shape is: (60000, 10)\n"
     ]
    }
   ],
   "source": [
    "tf.reset_default_graph()\n",
    "layers = [5,2,10]\n",
    "layers.insert(0,x_train.shape[1])\n",
    "L = len(layers)\n",
    "parameters = initializer_parameters(L,layers)\n",
    "out = forward(L,tf.cast(x_train,tf.float32),parameters)\n",
    "with tf.Session() as sess:\n",
    "    sess.run(tf.global_variables_initializer())\n",
    "    print('out shape is:',sess.run(out).shape)"
   ]
  },
  {
   "cell_type": "markdown",
   "metadata": {},
   "source": [
    "可以看到整体向前传播的逻辑没有错误,那么接下来我们开始构建Softmax Model.\n",
    "\n",
    "------------"
   ]
  },
  {
   "cell_type": "markdown",
   "metadata": {},
   "source": [
    "## 4. Build Softmax Model\n",
    "\n",
    "之前我们拆分Mini-Batch是使用Numpy的形式,现在我们采用Tensorflow自带的函数来拆分数据.\n",
    "\n",
    "```python\n",
    "dataset = tf.data.Dataset.from_tensor_slices((X,y_hot)).repeat()\n",
    "dataset = dataset.shuffle(buffer_size=100).batch(BATCH_SIZE)\n",
    "iter_ = dataset.make_initializable_iterator()\n",
    "mini_x, mini_y = iter_.get_next()```"
   ]
  },
  {
   "cell_type": "markdown",
   "metadata": {},
   "source": [
    "(1) 我们依照```tf.data.Dataset.from_tensor_slices```来拆分数据样本和标签,我这里是采用占位符形式,repeat表示指定数据集被迭代的次数,如果不指定代表永久循环,通常永久运行循环和在标准循环中直接控制 epoch 的数量可以得到不错的结果.\n",
    "\n",
    "(2) 我们可以使用```dataset.shuffle```来打乱样本,shuffle是预防过拟合的一个重要措施,默认是在每一个 epoch 中将数据集 shuffle 一次,参数 buffer_size,下一个元素将从该固定大小的缓存中均匀地选取.\n",
    "\n",
    "(3) 我们使用```dataset.make_initializable_iterator()```来初始化迭代器,注意在大样本的情况下迭代器的效率会比直接for loop的效率高很多.\n",
    "\n",
    "(4) 最后每次调用,我们使用```iter_.get_next()```来获取元素.\n",
    "\n",
    "需要注意的是,我们使用了Dataset类进行划分数据,那么我们就可以直接应用于training model.\n",
    "\n",
    "```python\n",
    "parameters = initializer_parameters(L,layers)\n",
    "out = forward(L,mini_x,parameters)\n",
    "cost = tf.reduce_mean(tf.nn.softmax_cross_entropy_with_logits_v2(logits=out,labels=mini_y))\n",
    "optimizer = tf.train.AdamOptimizer(learning_rate=lr).minimize(cost)```\n",
    "\n",
    "由于我们最后进行测试的时候是整体的train/validation set,而不是划分出来的mini_x,mini_y,所以我们就要重新编制一个testing model code.\n",
    "用于测试用,主要区别在于```place holder```的取值.\n",
    "```python\n",
    "out_test = forward(L,X,parameters)\n",
    "cost_test = tf.reduce_mean(tf.nn.softmax_cross_entropy_with_logits_v2(logits=out_test,labels=y_hot))\n",
    "softmax_y = tf.nn.softmax(logits=out_test,axis=1)\n",
    "correct = tf.equal(y,tf.argmax(softmax_y,axis=1))\n",
    "accuracy = tf.reduce_mean(tf.cast(correct,tf.float32))```\n",
    "\n",
    "最后我们开启Tensorflow训练,先使用```sess.run(iter_.initializer,feed_dict={X:data,y_hot:labels_hot})```来将数据放入Dataset类中进行划分.另外因为我们是使用的mini_x,mini_y,所以我们不需要在feed任何参数.\n",
    "\n",
    "**Reference:**\n",
    "\n",
    "[如何在TensorFlow中高效使用数据集](https://www.jiqizhixin.com/articles/03137)"
   ]
  },
  {
   "cell_type": "markdown",
   "metadata": {},
   "source": [
    "**PS:**\n",
    "\n",
    "<span style=\"color:red\">目前来说不要使用```tf.one_hot()```进行hot矩阵的转换,因为其是一个tensor,如果使用那么计算速度会非常的慢(个人认为主要还是因为TF将hot矩阵也进行梯度渐变了).所以我们还是使用numpy的变化形式```np.eye()```</span>"
   ]
  },
  {
   "cell_type": "code",
   "execution_count": 26,
   "metadata": {},
   "outputs": [],
   "source": [
    "def SoftmaxModel(layers,data,labels,val_data,val_labels,lr,epochs,BATCH_SIZE):\n",
    "    \"\"\"\n",
    "    Build Softmax model\n",
    "    Arguments:\n",
    "    ---------\n",
    "        layers: hidden layers's units\n",
    "        data: training date set.\n",
    "        labels: training labels.\n",
    "        val_data: validation data set.\n",
    "        val_labels: validation labels.\n",
    "        lr: learning rate.\n",
    "        epochs: #iterate\n",
    "        BATCH_SIZE: batch size in Mini-Batch.\n",
    "    Returns:\n",
    "    -------\n",
    "    train_loss_list: include train set  loss value in every 100 epoch.\n",
    "    val_loss_list: include val data set  loss value in every 100 epoch.\n",
    "    train_accs_list: include train set  correct rate  in every 100 epoch.\n",
    "    val_accs_list: include val set correct rate in every 100 epoch.\n",
    "        \n",
    "    \"\"\"\n",
    "    \n",
    "    ops.reset_default_graph() # celar graph\n",
    "    \n",
    "    # Pretreatment\n",
    "    m,n = data.shape\n",
    "    n_classes = len(np.unique(labels))\n",
    "    layers.insert(0,n)\n",
    "    L = len(layers)\n",
    "    labels_hot = np.eye(n_classes)[labels]\n",
    "    val_labels_hot = np.eye(n_classes)[val_labels]\n",
    "    \n",
    "    # Create place holder\n",
    "    X = tf.placeholder(tf.float32,[None,n])\n",
    "    y_hot = tf.placeholder(tf.float32,[None,n_classes])\n",
    "    y = tf.placeholder(tf.int64,[None,])\n",
    "    \n",
    "    # split data,using tensorflow.\n",
    "    dataset = tf.data.Dataset.from_tensor_slices((X,y_hot)).repeat()\n",
    "    dataset = dataset.shuffle(buffer_size=100).batch(BATCH_SIZE)\n",
    "    iter_ = dataset.make_initializable_iterator()\n",
    "    mini_x, mini_y = iter_.get_next()\n",
    "    \n",
    "    # training model code.\n",
    "    parameters = initializer_parameters(L,layers)\n",
    "    out = forward(L,mini_x,parameters)\n",
    "    cost = tf.reduce_mean(tf.nn.softmax_cross_entropy_with_logits_v2(logits=out,labels=mini_y))\n",
    "    optimizer = tf.train.AdamOptimizer(learning_rate=lr).minimize(cost)\n",
    "    \n",
    "    # testing model code.\n",
    "    out_test = forward(L,X,parameters)\n",
    "    cost_test = tf.reduce_mean(tf.nn.softmax_cross_entropy_with_logits_v2(logits=out_test,labels=y_hot))\n",
    "    softmax_y = tf.nn.softmax(logits=out_test,axis=1)\n",
    "    correct = tf.equal(y,tf.argmax(softmax_y,axis=1))\n",
    "    accuracy = tf.reduce_mean(tf.cast(correct,tf.float32))\n",
    "    \n",
    "    \n",
    "    seed = 0\n",
    "    init = tf.global_variables_initializer()\n",
    "    # cache train/validation loss value and accuracy value.\n",
    "    train_loss_list = []\n",
    "    val_loss_list = []\n",
    "    train_accs_list = []\n",
    "    val_accs_list = []\n",
    "    with tf.Session() as sess:\n",
    "        sess.run(init)\n",
    "        sess.run(iter_.initializer,feed_dict={X:data,y_hot:labels_hot})\n",
    "\n",
    "        for epoch in range(epochs):\n",
    "            _ = sess.run(optimizer)\n",
    "            if epoch % 100 == 0:\n",
    "                acc_train,loss_train = sess.run([accuracy,cost_test],feed_dict={X:data,y:labels,y_hot:labels_hot})\n",
    "                acc_val,loss_val = sess.run([accuracy,cost_test],feed_dict={X:val_data,y:val_labels,y_hot:val_labels_hot})\n",
    "                print('\\033[0;35m [{}/{}] loss:{:.4f},acc_train:{:.4f},val_loss:{:.4f},acc_val:{:.4f}\\033[0m\\r'.format(\n",
    "                epoch+100,epochs,loss_train,acc_train,loss_val,acc_val),end=\"\",flush=True)\n",
    "                train_loss_list.append(loss_train)\n",
    "                val_loss_list.append(loss_val)\n",
    "                train_accs_list.append(acc_train)\n",
    "                val_accs_list.append(acc_val)\n",
    "        return train_loss_list,train_accs_list,val_loss_list,val_accs_list"
   ]
  },
  {
   "cell_type": "code",
   "execution_count": 27,
   "metadata": {},
   "outputs": [
    {
     "name": "stdout",
     "output_type": "stream",
     "text": [
      "\u001b[0;35m [4000/4000] loss:0.1323,acc_train:0.9612,val_loss:0.1563,acc_val:0.9569\u001b[0m\r"
     ]
    }
   ],
   "source": [
    "layers = [25,12,10]\n",
    "train_loss,train_accs,val_loss,val_accs= SoftmaxModel(layers,x_train,y_train,x_test,y_test,lr=0.001,epochs=4000,\n",
    "                                                      BATCH_SIZE=64)"
   ]
  },
  {
   "cell_type": "markdown",
   "metadata": {},
   "source": [
    "可以看到在当前NN下,训练集的正确率在96%,验证集的正确率在95%左右.接下去让我们来绘制一下loss和accuracy."
   ]
  },
  {
   "cell_type": "markdown",
   "metadata": {},
   "source": [
    "## 5. PLot Loss/Accuracy"
   ]
  },
  {
   "cell_type": "code",
   "execution_count": 28,
   "metadata": {},
   "outputs": [
    {
     "data": {
      "text/plain": [
       "<matplotlib.legend.Legend at 0xb24d761d0>"
      ]
     },
     "execution_count": 28,
     "metadata": {},
     "output_type": "execute_result"
    },
    {
     "data": {
      "image/png": "[encoded data removed]",
      "text/plain": [
       "<Figure size 1080x288 with 2 Axes>"
      ]
     },
     "metadata": {
      "needs_background": "light"
     },
     "output_type": "display_data"
    }
   ],
   "source": [
    "figure = plt.figure(figsize=(15,4))\n",
    "ax1 = figure.add_subplot(1,2,1)\n",
    "ax1.plot(train_loss,label=\"Train Loss\")\n",
    "ax1.plot(val_loss,label=\"Val Loss\")\n",
    "ax1.set_title('Loss')\n",
    "ax1.set_xlabel('#Iterate')\n",
    "ax1.set_ylabel('Values')\n",
    "ax1.legend()\n",
    "\n",
    "ax2 = figure.add_subplot(1,2,2)\n",
    "ax2.plot(train_accs,label=\"Train Acc\")\n",
    "ax2.plot(val_accs,label=\"Val Acc\")\n",
    "ax2.set_title('Accuracy')\n",
    "ax2.set_xlabel('#Iterate')\n",
    "ax2.set_ylabel('Values')\n",
    "ax2.legend()"
   ]
  },
  {
   "cell_type": "markdown",
   "metadata": {},
   "source": [
    "可以看出使用tensorflow方式拆分Mini-Batch的效果比我们单纯使用Numpy的效果会好很多,train/validation两者没有任何过拟合的现象."
   ]
  }
 ],
 "metadata": {
  "kernelspec": {
   "display_name": "Python 3",
   "language": "python",
   "name": "python3"
  },
  "language_info": {
   "codemirror_mode": {
    "name": "ipython",
    "version": 3
   },
   "file_extension": ".py",
   "mimetype": "text/x-python",
   "name": "python",
   "nbconvert_exporter": "python",
   "pygments_lexer": "ipython3",
   "version": "3.7.3"
  }
 },
 "nbformat": 4,
 "nbformat_minor": 2
}
