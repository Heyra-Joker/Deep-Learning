{
 "cells": [
  {
   "cell_type": "markdown",
   "metadata": {},
   "source": [
    "# Batch Normalization(Dropout Effect)\n",
    "\n",
    "这里我们来体现一下BN的具有轻微的Dropout效果"
   ]
  },
  {
   "cell_type": "code",
   "execution_count": 1,
   "metadata": {},
   "outputs": [],
   "source": [
    "import numpy as np\n",
    "import tensorflow as tf\n",
    "import matplotlib.pyplot as plt\n",
    "from miniBatch import random_mini_batche  \n",
    "from data_utils import get_CIFAR10_data\n",
    "from tensorflow.python.framework import ops\n",
    "import os"
   ]
  },
  {
   "cell_type": "code",
   "execution_count": 2,
   "metadata": {},
   "outputs": [
    {
     "name": "stdout",
     "output_type": "stream",
     "text": [
      "X_train:  (49000, 3, 32, 32)\n",
      "y_train:  (49000,)\n",
      "X_val:  (1000, 3, 32, 32)\n",
      "y_val:  (1000,)\n",
      "X_test:  (1000, 3, 32, 32)\n",
      "y_test:  (1000,)\n"
     ]
    }
   ],
   "source": [
    "# Load the (preprocessed) CIFAR10 data.\n",
    "data = get_CIFAR10_data()\n",
    "for k, v in data.items():\n",
    "    print('%s: ' % k, v.shape)"
   ]
  },
  {
   "cell_type": "code",
   "execution_count": 35,
   "metadata": {},
   "outputs": [],
   "source": [
    "def load_data(index_train,index_val,index_test):\n",
    "    train_x = data['X_train'][:index_train].reshape(index_train,-1)\n",
    "    train_y = data['y_train'][:index_train]\n",
    "    \n",
    "    val_x = data['X_val'][:index_val].reshape(index_val,-1)\n",
    "    val_y = data['y_val'][:index_val]\n",
    "    \n",
    "    test_x = data['X_test'][:index_test].reshape(index_test,-1)\n",
    "    test_y = data['y_test'][:index_test]\n",
    "    \n",
    "    return train_x,train_y,val_x,val_y,test_x,test_y"
   ]
  },
  {
   "cell_type": "code",
   "execution_count": 36,
   "metadata": {},
   "outputs": [],
   "source": [
    "train_x,train_y,val_x,val_y,test_x,test_y = load_data(2000,100,100)"
   ]
  },
  {
   "cell_type": "code",
   "execution_count": 37,
   "metadata": {},
   "outputs": [],
   "source": [
    "def init_parameters(n,mode):\n",
    "    cache = []\n",
    "    if mode == \"BL\":\n",
    "        W1 = tf.get_variable('W1',[n,100],initializer=tf.contrib.layers.xavier_initializer(seed=0))\n",
    "        b1 = tf.get_variable('b1',[1,100],initializer=tf.zeros_initializer())\n",
    "        W2 = tf.get_variable('W2',[100,80],initializer=tf.contrib.layers.xavier_initializer(seed=1))\n",
    "        b2 = tf.get_variable('b2',[1,80],initializer=tf.zeros_initializer())\n",
    "        W3 = tf.get_variable('W3',[80,50],initializer=tf.contrib.layers.xavier_initializer(seed=3))\n",
    "        b3 = tf.get_variable('b3',[1,50],initializer=tf.zeros_initializer())\n",
    "        W4 = tf.get_variable('W4',[50,30],initializer=tf.contrib.layers.xavier_initializer(seed=4))\n",
    "        b4 = tf.get_variable('b4',[1,30],initializer=tf.zeros_initializer())\n",
    "        W5 = tf.get_variable('W5',[30,10],initializer=tf.contrib.layers.xavier_initializer(seed=5))\n",
    "        b5 = tf.get_variable('b5',[1,10],initializer=tf.zeros_initializer())\n",
    "        cache.append(W1)\n",
    "        cache.append(b1)\n",
    "        cache.append(W2)\n",
    "        cache.append(b2)\n",
    "        cache.append(W3)\n",
    "        cache.append(b3)\n",
    "        cache.append(W4)\n",
    "        cache.append(b4)\n",
    "        cache.append(W5)\n",
    "        cache.append(b5)\n",
    "        return cache\n",
    "    else:\n",
    "        W1 = tf.get_variable('W1',[n,100],initializer=tf.contrib.layers.xavier_initializer(seed=0))\n",
    "        W2 = tf.get_variable('W2',[100,80],initializer=tf.contrib.layers.xavier_initializer(seed=1))\n",
    "        W3 = tf.get_variable('W3',[80,50],initializer=tf.contrib.layers.xavier_initializer(seed=3))\n",
    "        W4 = tf.get_variable('W4',[50,30],initializer=tf.contrib.layers.xavier_initializer(seed=4))\n",
    "        W5 = tf.get_variable('W5',[30,10],initializer=tf.contrib.layers.xavier_initializer(seed=5))\n",
    "        cache.append(W1)\n",
    "        cache.append(W2)\n",
    "        cache.append(W3)\n",
    "        cache.append(W4)\n",
    "        cache.append(W5)\n",
    "        return cache"
   ]
  },
  {
   "cell_type": "code",
   "execution_count": 44,
   "metadata": {},
   "outputs": [],
   "source": [
    "def forward(X,cache,mode,is_training=None):\n",
    "    \n",
    "    if mode==\"BL\":\n",
    "        W1,b1,W2,b2,W3,b3,W4,b4,W5,b5 = cache\n",
    "\n",
    "        Z1 = tf.add(tf.matmul(X,W1),b1)\n",
    "        A1 = tf.nn.relu(Z1)\n",
    "        Z2 = tf.add(tf.matmul(A1,W2),b2)\n",
    "        A2 = tf.nn.relu(Z2)\n",
    "        Z3 = tf.add(tf.matmul(A2,W3),b3)\n",
    "        A3 = tf.nn.relu(Z3)\n",
    "        Z4 = tf.add(tf.matmul(A3,W4),b4)\n",
    "        A4 = tf.nn.relu(Z4)\n",
    "        Z5 = tf.add(tf.matmul(A4,W5),b5)\n",
    "        return Z5\n",
    "    \n",
    "    else:\n",
    "        W1,W2,W3,W4,W5 = cache\n",
    "        \n",
    "        Z1 = tf.matmul(X,W1)\n",
    "        Z1_norm = tf.layers.batch_normalization(Z1,axis=1,training=is_training)\n",
    "        A1 = tf.nn.relu(Z1_norm)\n",
    "        Z2 = tf.matmul(A1,W2)\n",
    "        Z2_norm = tf.layers.batch_normalization(Z2,axis=1,training=is_training)\n",
    "        A2 = tf.nn.relu(Z2_norm)\n",
    "        Z3 = tf.matmul(A2,W3)\n",
    "        Z3_norm = tf.layers.batch_normalization(Z3,axis=1,training=is_training)\n",
    "        A3 = tf.nn.relu(Z3_norm)\n",
    "        Z4 = tf.matmul(A3,W4)\n",
    "        Z4_norm = tf.layers.batch_normalization(Z4,axis=1,training=is_training)\n",
    "        A4 = tf.nn.relu(Z4_norm)\n",
    "        Z5 = tf.matmul(A4,W5)\n",
    "        Z5_norm = tf.layers.batch_normalization(Z5,axis=1,training=is_training)\n",
    "        return Z5_norm"
   ]
  },
  {
   "cell_type": "code",
   "execution_count": 45,
   "metadata": {},
   "outputs": [],
   "source": [
    "def main(data,labels,val_data,val_labels,lr,epochs,batch_size,mode):\n",
    "    ops.reset_default_graph()\n",
    "    m,n = data.shape\n",
    "    labels_hot = np.eye(10)[np.squeeze(labels)]\n",
    "    val_labels_hot = np.eye(10)[np.squeeze(val_labels)]\n",
    "    \n",
    "    X = tf.placeholder(tf.float32,[None,n])\n",
    "    y_hot = tf.placeholder(tf.float32,[None,10])\n",
    "    y = tf.placeholder(tf.int64,[None,])\n",
    "    is_training = tf.placeholder(tf.bool)\n",
    "    \n",
    "    cache = init_parameters(n,mode)\n",
    "    \n",
    "    out = forward(X,cache,mode,is_training)\n",
    "    \n",
    "    cost = tf.reduce_mean(tf.nn.softmax_cross_entropy_with_logits_v2(logits=out,labels=y_hot))\n",
    "    \n",
    "    if mode == \"BL\":\n",
    "        optimizer = tf.train.GradientDescentOptimizer(learning_rate=lr).minimize(cost)\n",
    "    else:\n",
    "        with tf.control_dependencies(tf.get_collection(tf.GraphKeys.UPDATE_OPS)):\n",
    "            optimizer = tf.train.GradientDescentOptimizer(learning_rate=lr).minimize(cost)\n",
    "   \n",
    "\n",
    "    predict = tf.argmax(tf.nn.softmax(logits=out,axis=1),axis=1)\n",
    "    correct_ = tf.equal(predict,y)\n",
    "    accuracy = tf.reduce_mean(tf.cast(correct_,tf.float32))\n",
    "    \n",
    "    init = tf.global_variables_initializer()\n",
    "    \n",
    "    with tf.Session() as sess:\n",
    "        sess.run(init)\n",
    "        acc_trains = []\n",
    "        acc_vals = []\n",
    "        loss_trains = []\n",
    "        loss_vals = []\n",
    "        seed = 0\n",
    "        \n",
    "        for epoch in range(epochs):\n",
    "            seed = seed + 1\n",
    "            batchs = random_mini_batche(data,labels,mini_batche_size=batch_size,seed=seed)\n",
    "            for mini_x,mini_y in batchs:\n",
    "                mini_y_hot = np.eye(10)[np.squeeze(mini_y)]\n",
    "                \n",
    "                _,loss = sess.run([optimizer,cost],feed_dict={X:mini_x,y_hot:mini_y_hot,\n",
    "                                                             is_training:True})\n",
    "                \n",
    "            if epoch % 100 == 0:\n",
    "                acc_train = sess.run(accuracy,feed_dict={X:data,\n",
    "                                                         y:labels,\n",
    "                                                         y_hot:labels_hot,\n",
    "                                                         is_training:False})\n",
    "                acc_val = sess.run(accuracy,feed_dict={X:val_data,\n",
    "                                                       y:val_labels,\n",
    "                                                       y_hot:val_labels_hot,\n",
    "                                                        is_training:False})\n",
    "                val_loss = sess.run(cost,feed_dict={X:val_data,\n",
    "                                                    y:val_labels,\n",
    "                                                    y_hot:val_labels_hot,\n",
    "                                                    is_training:False})\n",
    "                print('[{}/{}] loss:{},acc train:{},val loss:{},acc val:{}'.format(epoch+100,\n",
    "                                                                                  epochs,\n",
    "                                                                                  loss,\n",
    "                                                                                  acc_train,\n",
    "                                                                                  val_loss,\n",
    "                                                                                  acc_val))\n",
    "                acc_trains.append(acc_train)\n",
    "                acc_vals.append(acc_val)\n",
    "                loss_trains.append(loss)\n",
    "                loss_vals.append(val_loss)\n",
    "                    \n",
    "        return acc_trains,acc_vals,loss_trains,loss_vals   "
   ]
  },
  {
   "cell_type": "code",
   "execution_count": 46,
   "metadata": {
    "scrolled": false
   },
   "outputs": [
    {
     "name": "stdout",
     "output_type": "stream",
     "text": [
      "[100/1000] loss:2.640714168548584,acc train:0.24799999594688416,val loss:3.6277291774749756,acc val:0.15000000596046448\n",
      "[200/1000] loss:0.0375417098402977,acc train:0.9664999842643738,val loss:6.360824108123779,acc val:0.3400000035762787\n",
      "[300/1000] loss:0.026369214057922363,acc train:0.9869999885559082,val loss:8.164749145507812,acc val:0.33000001311302185\n",
      "[400/1000] loss:0.05249543488025665,acc train:0.972000002861023,val loss:7.535989284515381,acc val:0.3799999952316284\n",
      "[500/1000] loss:0.0010020455811172724,acc train:0.9959999918937683,val loss:9.532320022583008,acc val:0.3100000023841858\n",
      "[600/1000] loss:0.001044394914060831,acc train:0.9965000152587891,val loss:10.011442184448242,acc val:0.3100000023841858\n",
      "[700/1000] loss:0.0019006375223398209,acc train:0.9980000257492065,val loss:9.477468490600586,acc val:0.3100000023841858\n",
      "[800/1000] loss:0.011513758450746536,acc train:0.9980000257492065,val loss:10.456961631774902,acc val:0.3199999928474426\n",
      "[900/1000] loss:0.0002868911251425743,acc train:0.9984999895095825,val loss:10.758899688720703,acc val:0.3100000023841858\n",
      "[1000/1000] loss:0.0004891026183031499,acc train:0.9984999895095825,val loss:10.992016792297363,acc val:0.3100000023841858\n"
     ]
    }
   ],
   "source": [
    "acc_trains,acc_vals,loss_trains,loss_vals = main(data=train_x,\n",
    "                                                 labels=train_y,\n",
    "                                                 val_data=val_x,\n",
    "                                                 val_labels=val_y,\n",
    "                                                 lr=0.001,\n",
    "                                                 epochs=1000,\n",
    "                                                 batch_size=32,\n",
    "                                                 mode=\"BL\")"
   ]
  },
  {
   "cell_type": "code",
   "execution_count": 47,
   "metadata": {},
   "outputs": [
    {
     "name": "stdout",
     "output_type": "stream",
     "text": [
      "WARNING:tensorflow:From /Users/huwang/anaconda3/lib/python3.7/site-packages/tensorflow/python/ops/math_ops.py:3066: to_int32 (from tensorflow.python.ops.math_ops) is deprecated and will be removed in a future version.\n",
      "Instructions for updating:\n",
      "Use tf.cast instead.\n",
      "[100/1000] loss:2.6521835327148438,acc train:0.10899999737739563,val loss:2.342073440551758,acc val:0.07999999821186066\n",
      "[200/1000] loss:0.8678107857704163,acc train:0.9679999947547913,val loss:2.025632381439209,acc val:0.3400000035762787\n",
      "[300/1000] loss:0.4223669767379761,acc train:1.0,val loss:2.1317086219787598,acc val:0.4000000059604645\n",
      "[400/1000] loss:0.5139300227165222,acc train:1.0,val loss:2.0828042030334473,acc val:0.41999998688697815\n",
      "[500/1000] loss:0.506619930267334,acc train:0.9990000128746033,val loss:2.226933240890503,acc val:0.36000001430511475\n",
      "[600/1000] loss:0.12937407195568085,acc train:1.0,val loss:2.203216075897217,acc val:0.3799999952316284\n",
      "[700/1000] loss:0.1511097550392151,acc train:1.0,val loss:2.1886699199676514,acc val:0.41999998688697815\n",
      "[800/1000] loss:0.2637440264225006,acc train:1.0,val loss:2.3085923194885254,acc val:0.41999998688697815\n",
      "[900/1000] loss:0.40933072566986084,acc train:1.0,val loss:2.33309006690979,acc val:0.4000000059604645\n",
      "[1000/1000] loss:0.12599270045757294,acc train:1.0,val loss:2.2863073348999023,acc val:0.4099999964237213\n"
     ]
    }
   ],
   "source": [
    "acc_trains_bn,acc_vals_bn,loss_trains_bn,loss_vals_bn = main(data=train_x,\n",
    "                                                 labels=train_y,\n",
    "                                                 val_data=val_x,\n",
    "                                                 val_labels=val_y,\n",
    "                                                 lr=0.001,\n",
    "                                                 epochs=1000,\n",
    "                                                 batch_size=32,\n",
    "                                                 mode=\"BN\")"
   ]
  },
  {
   "cell_type": "code",
   "execution_count": 48,
   "metadata": {},
   "outputs": [],
   "source": [
    "def plot_(costs_bn,costs,cache_acc_train_bn,cache_acc_train,cache_acc_val_bn,cache_acc_val):\n",
    "    fig=plt.figure(figsize=(20,4))\n",
    "    ax1=fig.add_subplot(1,3,1)      \n",
    "    ax1.plot(costs_bn,c='orange',label='batch normal')\n",
    "    ax1.plot(costs,label='base line')\n",
    "    ax1.set_title('Loss:batch normal & base line')\n",
    "    ax1.set_xlabel('#epoch')\n",
    "    ax1.set_ylabel('Value')\n",
    "    ax1.legend()\n",
    "\n",
    "    ax2 =fig.add_subplot(1,3,2)      \n",
    "    ax2.plot(cache_acc_train_bn,c='orange',label='batch normal')\n",
    "    ax2.plot(cache_acc_train,label='base line')\n",
    "    ax2.set_title('Train acc:batch normal & base line')\n",
    "    ax2.set_xlabel('#epoch')\n",
    "    ax2.set_ylabel('Value')\n",
    "    ax2.legend()\n",
    "\n",
    "    ax3 =fig.add_subplot(1,3,3)      \n",
    "    ax3.plot(cache_acc_val_bn,c='orange',label='batch normal')\n",
    "    ax3.plot(cache_acc_val,label='base line')\n",
    "    ax3.set_title('Val acc:batch normal & base line')\n",
    "    ax3.set_xlabel('#epoch')\n",
    "    ax3.set_ylabel('Value')\n",
    "    ax3.legend()\n",
    "\n",
    "    plt.show()"
   ]
  },
  {
   "cell_type": "code",
   "execution_count": 49,
   "metadata": {},
   "outputs": [
    {
     "data": {
      "image/png": "[encoded data removed]",
      "text/plain": [
       "<Figure size 1440x288 with 3 Axes>"
      ]
     },
     "metadata": {
      "needs_background": "light"
     },
     "output_type": "display_data"
    }
   ],
   "source": [
    "plot_(costs_bn=loss_trains_bn,\n",
    "      costs=loss_trains,\n",
    "      cache_acc_train_bn=acc_trains_bn,\n",
    "      cache_acc_train=acc_trains,\n",
    "      cache_acc_val_bn=acc_vals_bn,\n",
    "      cache_acc_val=acc_vals)"
   ]
  },
  {
   "cell_type": "code",
   "execution_count": 55,
   "metadata": {},
   "outputs": [
    {
     "data": {
      "image/png": "[encoded data removed]",
      "text/plain": [
       "<Figure size 432x288 with 1 Axes>"
      ]
     },
     "metadata": {
      "needs_background": "light"
     },
     "output_type": "display_data"
    }
   ],
   "source": [
    "plt.plot(loss_vals_bn,c='green',label=\"val loss BN\")\n",
    "plt.plot(loss_vals,label=\"val loss base lines\")\n",
    "plt.title('Validation Loss')\n",
    "plt.legend()\n",
    "plt.show()"
   ]
  },
  {
   "cell_type": "markdown",
   "metadata": {},
   "source": [
    "图中蓝色的线为Base Lines的validation data loss,基本上从一开始,loss就上升,意味着整个模型就开始过拟合,但是在BN中,validation data loss却是一直稳定在一个区间内,虽然没有Regularization/Dropout那么强劲,但是也在一定程度上缓解了过拟合."
   ]
  }
 ],
 "metadata": {
  "kernelspec": {
   "display_name": "Python 3",
   "language": "python",
   "name": "python3"
  },
  "language_info": {
   "codemirror_mode": {
    "name": "ipython",
    "version": 3
   },
   "file_extension": ".py",
   "mimetype": "text/x-python",
   "name": "python",
   "nbconvert_exporter": "python",
   "pygments_lexer": "ipython3",
   "version": "3.7.1"
  }
 },
 "nbformat": 4,
 "nbformat_minor": 2
}
