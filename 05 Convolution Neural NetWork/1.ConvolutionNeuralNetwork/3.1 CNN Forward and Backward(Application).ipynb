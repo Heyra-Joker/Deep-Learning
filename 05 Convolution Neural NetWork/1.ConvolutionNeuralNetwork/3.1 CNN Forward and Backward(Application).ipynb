{
 "cells": [
  {
   "cell_type": "markdown",
   "metadata": {},
   "source": [
    "# CNN Forward and Backward(Application)"
   ]
  },
  {
   "cell_type": "code",
   "execution_count": 1,
   "metadata": {},
   "outputs": [
    {
     "name": "stderr",
     "output_type": "stream",
     "text": [
      "Using TensorFlow backend.\n"
     ]
    }
   ],
   "source": [
    "import numpy as np\n",
    "from utils import *\n",
    "import matplotlib.pyplot as plt\n",
    "from keras.datasets import mnist"
   ]
  },
  {
   "cell_type": "markdown",
   "metadata": {},
   "source": [
    "## 前言"
   ]
  },
  {
   "cell_type": "markdown",
   "metadata": {},
   "source": [
    "在模型创建之前,我们要先来看看什么是计算机中的图片,为了讲述方便,我们这里拟生成1张$(4\\times 4\\times 3)$的图片"
   ]
  },
  {
   "cell_type": "code",
   "execution_count": 2,
   "metadata": {},
   "outputs": [
    {
     "name": "stdout",
     "output_type": "stream",
     "text": [
      "image is:\n",
      " [[[[0.90366057 0.89601028 0.58995011]\n",
      "   [0.98727338 0.8516035  0.20881651]\n",
      "   [0.76662286 0.03280564 0.29674602]\n",
      "   [0.57035959 0.83466854 0.16072966]]\n",
      "\n",
      "  [[0.34841114 0.03089059 0.98635311]\n",
      "   [0.50147651 0.43779437 0.65269985]\n",
      "   [0.47098865 0.94848052 0.58783855]\n",
      "   [0.0203519  0.81767704 0.97718902]]\n",
      "\n",
      "  [[0.17734062 0.84989453 0.90663793]\n",
      "   [0.6995828  0.71729717 0.57699405]\n",
      "   [0.39880399 0.2461832  0.52378494]\n",
      "   [0.4713492  0.02030052 0.63465865]]\n",
      "\n",
      "  [[0.9279022  0.88884168 0.70394648]\n",
      "   [0.20400131 0.83652811 0.77435923]\n",
      "   [0.91949173 0.56923432 0.77944544]\n",
      "   [0.18595296 0.86888762 0.66068526]]]]\n"
     ]
    }
   ],
   "source": [
    "np.random.seed(432)\n",
    "image = np.random.rand(1,4,4,3)\n",
    "print('image is:\\n',image)"
   ]
  },
  {
   "cell_type": "code",
   "execution_count": 3,
   "metadata": {},
   "outputs": [
    {
     "data": {
      "text/plain": [
       "Text(0.5, 1.0, 'image1')"
      ]
     },
     "execution_count": 3,
     "metadata": {},
     "output_type": "execute_result"
    },
    {
     "data": {
      "image/png": "[encoded data removed]",
      "text/plain": [
       "<Figure size 432x288 with 1 Axes>"
      ]
     },
     "metadata": {
      "needs_background": "light"
     },
     "output_type": "display_data"
    }
   ],
   "source": [
    "plt.imshow(image[0])\n",
    "plt.title('image1')"
   ]
  },
  {
   "cell_type": "markdown",
   "metadata": {},
   "source": [
    "图片大小为$(4\\times 4)$,在Matlibplotlib 中Channels的排布为$R,G,B$.\n",
    "\n",
    "<img src=\"../../picture/167.png\" width=700 height=700>\n"
   ]
  },
  {
   "cell_type": "markdown",
   "metadata": {},
   "source": [
    "也就是说:上面随机产生的image,数组形状为$(smaple,height,width,channels)$,也就是说,每一个$height$有4个$width$,组合起来就是$(16\\times 3)$."
   ]
  },
  {
   "cell_type": "markdown",
   "metadata": {},
   "source": [
    "## CNN Model"
   ]
  },
  {
   "cell_type": "markdown",
   "metadata": {},
   "source": [
    "我们以CNN(Theory)中的模型为例子(Single Sample):\n",
    "\n",
    "<img src=\"../../picture/156.png\" width=700 height=700>"
   ]
  },
  {
   "cell_type": "markdown",
   "metadata": {},
   "source": [
    "## 1.Load Dtaset\n",
    "\n",
    "这里我们采用手写数字,因为LeNet-5是用于最早识别数字的网络.\n",
    "\n",
    "由于原模型输入是$(32\\times 32 \\times3)$,而我们这里的数据是$(28\\times 28)$,所以第一层我们采用padding,使之得到$(28\\times 28\\times6)$的结果.\n",
    "\n",
    "接下来我们有两个方案可选:\n",
    "\n",
    "1.将原图转换为$(28\\times 28\\times 1)$的形式,那么CONV1的$W^{[1]}=(5,5,1,6)$.\n",
    "\n",
    "2.原图依然为$(28\\times 28)$,那么CONV1的$W^{[1]}=(5,5,6)$.\n",
    "\n",
    "这里我选择第一种形似,其目的为为了说明$Channels$.在代码中的使用.\n",
    "\n",
    "之后的模型部分不变."
   ]
  },
  {
   "cell_type": "code",
   "execution_count": 4,
   "metadata": {},
   "outputs": [],
   "source": [
    "def Load_data(index,limit_train,limit_test):\n",
    "    (X_train,Y_train),(X_test,Y_test) = mnist.load_data()\n",
    "    x_train = X_train[:limit_train,...].reshape(-1,28,28,1)\n",
    "    x_test = X_test[:limit_test,...].reshape(-1,28,28,1)\n",
    "    \n",
    "    n_classes = len(np.unique(Y_train))\n",
    "    y_train = np.eye(n_classes)[Y_train[:limit_train,...]].T\n",
    "    y_test = np.eye(n_classes)[Y_test[:limit_test,...]].T\n",
    "    \n",
    "    print('x_train reshape:\\n',x_train.shape)\n",
    "    print('x_test reshape:\\n',x_test.shape)\n",
    "    print('Hot y_train shape:\\n ',y_train.shape)\n",
    "    print('Hot y_test shape:\\n ',y_test.shape)\n",
    "    print('The Number is:{}'.format(Y_train[index]))\n",
    "    plt.imshow(X_train[index],cmap='gray')\n",
    "    plt.show()\n",
    "    \n",
    "    return x_train/255,x_test/255,y_train,y_test"
   ]
  },
  {
   "cell_type": "code",
   "execution_count": 5,
   "metadata": {},
   "outputs": [
    {
     "name": "stdout",
     "output_type": "stream",
     "text": [
      "x_train reshape:\n",
      " (100, 28, 28, 1)\n",
      "x_test reshape:\n",
      " (10, 28, 28, 1)\n",
      "Hot y_train shape:\n",
      "  (10, 100)\n",
      "Hot y_test shape:\n",
      "  (10, 10)\n",
      "The Number is:5\n"
     ]
    },
    {
     "data": {
      "image/png": "[encoded data removed]",
      "text/plain": [
       "<Figure size 432x288 with 1 Axes>"
      ]
     },
     "metadata": {
      "needs_background": "light"
     },
     "output_type": "display_data"
    }
   ],
   "source": [
    "x_train,x_test,y_train,y_test = Load_data(0,100,10)"
   ]
  },
  {
   "cell_type": "markdown",
   "metadata": {},
   "source": [
    "## 2.CONV Forward"
   ]
  },
  {
   "cell_type": "markdown",
   "metadata": {},
   "source": [
    "### 2.0 Initialization  Parameters\n",
    "\n",
    "对于整个模型,我们需要将整个模型的参数初始化.\n",
    "\n",
    "[1] CONV1:\n",
    "\n",
    "- $W^{[1]}shape:(5\\times 5\\times 1\\times 6)$\n",
    "\n",
    "- $b^{[1]}shape:(1\\times 1\\times 6)$\n",
    "\n",
    "[2] CONV2:\n",
    "\n",
    "- $W^{[2]}shape:(5\\times 5\\times 6\\times 16)$\n",
    "\n",
    "- $b^{[2]}shape:(1\\times 1\\times 16)$\n",
    "\n",
    "[3] FC3:\n",
    "\n",
    "- $W^{[3]}shape:(120\\times 400)$\n",
    "\n",
    "- $b^{[3]}shape:(120\\times 1)$\n",
    "\n",
    "[4] FC4:\n",
    "\n",
    "- $W^{[4]}shape:(84\\times 120)$\n",
    "\n",
    "- $b^{[4]}shape:(84\\times 1)$\n",
    "\n",
    "[5] FC5:\n",
    "\n",
    "- $W^{[5]}shape:(10\\times 84)$\n",
    "\n",
    "- $b^{[5]}shape:(10\\times 1)$"
   ]
  },
  {
   "cell_type": "code",
   "execution_count": 6,
   "metadata": {},
   "outputs": [],
   "source": [
    "def initial_parameters():\n",
    "    np.random.seed(2)\n",
    "    parameters = {}\n",
    "    \n",
    "    V = {}\n",
    "    M = {}\n",
    "    \n",
    "    W1 = np.random.randn(5,5,1,6) / np.sqrt(28*28*1)\n",
    "    b1 = np.zeros((1,1,6))\n",
    "    W2 = np.random.randn(5,5,6,16) / np.sqrt(5*5*1*6)\n",
    "    b2 = np.zeros((1,1,16))\n",
    "    W3 = np.random.randn(120,400) / np.sqrt(400)\n",
    "    b3 = np.zeros((120,1))\n",
    "    W4 = np.random.randn(84,120) / np.sqrt(120)\n",
    "    b4 = np.zeros((84,1))\n",
    "    W5 = np.random.randn(10,84) / np.sqrt(84)\n",
    "    b5 = np.zeros((10,1))\n",
    "    \n",
    "    parameters['W1'],V['V_dW1'],M['M_dW1'] = W1,np.zeros(W1.shape),np.zeros(W1.shape)\n",
    "    parameters['b1'],V['V_db1'],M['M_db1'] = b1,np.zeros(b1.shape),np.zeros(b1.shape) \n",
    "    parameters['W2'],V['V_dW2'],M['M_dW2'] = W2,np.zeros(W2.shape),np.zeros(W2.shape) \n",
    "    parameters['b2'],V['V_db2'],M['M_db2'] = b2,np.zeros(b2.shape),np.zeros(b2.shape) \n",
    "    parameters['W3'],V['V_dW3'],M['M_dW3'] = W3,np.zeros(W3.shape),np.zeros(W3.shape)\n",
    "    parameters['b3'],V['V_db3'],M['M_db3'] = b3,np.zeros(b3.shape),np.zeros(b3.shape) \n",
    "    parameters['W4'],V['V_dW4'],M['M_dW4'] = W4,np.zeros(W4.shape),np.zeros(W4.shape)\n",
    "    parameters['b4'],V['V_db4'],M['M_db4'] = b4,np.zeros(b4.shape),np.zeros(b4.shape)\n",
    "    parameters['W5'],V['V_dW5'],M['M_dW5'] = W5,np.zeros(W5.shape),np.zeros(W5.shape)\n",
    "    parameters['b5'],V['V_db5'],M['M_db5'] = b5,np.zeros(b5.shape),np.zeros(b5.shape)\n",
    "    \n",
    "    \n",
    "    \n",
    "    return parameters,V,M"
   ]
  },
  {
   "cell_type": "markdown",
   "metadata": {},
   "source": [
    "### 2.1 Padding\n",
    "\n",
    "实际上在Nump中,我们可以直接将数组进行pad,详情请看[np.pad](https://docs.scipy.org/doc/numpy/reference/generated/numpy.pad.html):\n",
    "\n",
    "我们可以使用```np.pad(arr3D, ((0, 0),(1,1),(2,2),(0,0)), 'constant',constant_values=(6,7))```来padding.\n",
    "\n",
    "其中元组```((0, 0),(1,1),(2,2))```表示第一维度不填充(因为我们这里表示的是样本数量),第二维度左右填充数量为1,第三维度左右填充数量为2,第四维度不填充(因为我们这里表示的是Channels),填充的方式为\"constant\",填充的值(constant_values)为左为6,右为7.\n",
    "\n",
    "如果有更多维度:\n",
    "\n",
    "if you want to pad the array \"a\" of shape $(5,5,5,5,5)$ with pad = 1 for the 2nd dimension, pad = 3 for the 4th dimension and pad = 0 for the rest, you would do:\n",
    "\n",
    "a = np.pad(a, ((0,0), (1,1), (0,0), (3,3), (0,0)), 'constant', constant_values = (..,..))\n"
   ]
  },
  {
   "cell_type": "markdown",
   "metadata": {},
   "source": [
    "所以如果数据排列是(m, n_H,n_W,n_C)我们需要的形式如下:\n",
    "\n",
    "```np.pad(data, pad_width=((0,0),(padder,padder),(padder,padder),(0,0)),mode='constant',constant_values=(0,0))```\n",
    "\n",
    "返回的将是:\n",
    "\n",
    "```(m, n_H + 2*pad, n_W + 2*pad, n_C)```\n",
    "\n",
    "**Reference:**\n",
    "\n",
    "[1] [图文并茂的Python教程-numpy.pad](https://blog.csdn.net/hustqb/article/details/77726660)"
   ]
  },
  {
   "cell_type": "code",
   "execution_count": 7,
   "metadata": {},
   "outputs": [],
   "source": [
    "def Padding(data,padder_h=0,padder_w=0):\n",
    "    \"\"\"\n",
    "    Implmention padding layer.\n",
    "    \n",
    "    Arguments:\n",
    "    ---------\n",
    "        data: python numpy array of shape (m, n_H, n_W, n_C) representing a batch of m images\n",
    "        size: padd width.\n",
    "        padder: padd value defaule 0.incloud padder_h and padder_w.\n",
    "    Return:\n",
    "    ------\n",
    "        res_padd: padded image of shape (m, n_H + 2*pad, n_W + 2*pad, n_C)\n",
    "    \"\"\"\n",
    "    res_padd = np.pad(data, pad_width=((0,0),(padder_h,padder_h),(padder_w,padder_w),(0,0)),mode='constant',constant_values=(0,0))\n",
    "    \n",
    "    return res_padd"
   ]
  },
  {
   "cell_type": "markdown",
   "metadata": {},
   "source": [
    "假设我们需要将第两张图片矩阵padding,其中$p=4$"
   ]
  },
  {
   "cell_type": "code",
   "execution_count": 8,
   "metadata": {},
   "outputs": [
    {
     "name": "stdout",
     "output_type": "stream",
     "text": [
      "Original data shape is:\n",
      " (2, 28, 28, 1)\n",
      "Padd 1 data shape is:\n",
      " (2, 36, 36, 1)\n"
     ]
    }
   ],
   "source": [
    "test = x_train[0:2,...]\n",
    "padd_test = Padding(test,4,4)\n",
    "print('Original data shape is:\\n',test.shape)\n",
    "print('Padd 1 data shape is:\\n',padd_test.shape)"
   ]
  },
  {
   "cell_type": "code",
   "execution_count": 9,
   "metadata": {},
   "outputs": [
    {
     "data": {
      "text/plain": [
       "<matplotlib.image.AxesImage at 0xb32934160>"
      ]
     },
     "execution_count": 9,
     "metadata": {},
     "output_type": "execute_result"
    },
    {
     "data": {
      "image/png": "[encoded data removed]",
      "text/plain": [
       "<Figure size 432x288 with 2 Axes>"
      ]
     },
     "metadata": {
      "needs_background": "light"
     },
     "output_type": "display_data"
    }
   ],
   "source": [
    "fig, axarr = plt.subplots(1, 2)\n",
    "axarr[0].set_title('Original')\n",
    "axarr[0].imshow(test[0,:,:,0],cmap='gray')\n",
    "axarr[1].set_title('pad')\n",
    "axarr[1].imshow(padd_test[0,:,:,0],cmap='gray')"
   ]
  },
  {
   "cell_type": "markdown",
   "metadata": {},
   "source": [
    "仔细观察可以发下,pad图的高和宽要大于Original."
   ]
  },
  {
   "cell_type": "markdown",
   "metadata": {},
   "source": [
    "### 2.2 CONV layers\n",
    "\n",
    "这里我们是用im2col进行卷积操作,我们知道im2col的效率会比for loop速度快很多,并将padding融入到CONV中.\n",
    "\n",
    "\n",
    "**Note:**\n",
    "\n",
    "> 在灰度图中(3. CNN Edges)我们使用的是```im2col_data = np.zeros((f*f,conv_H*conv_W))```,也就是说,最后的卷积操作实际上是卷积核kernel与矩阵中的```f*f```做点积.那么对于现在多Channels的情况,我们也可以写出类似的代码```np.zeros((m,f_h*f_w*f_c,conv_H*conv_W))```,也就是说,无论添加多少样本,多少Channels,卷积核依然只是和感受野内的元素做点积.\n",
    "\n",
    "> 实际上就是:```im2col_data = np.zeros((f*f,conv_H*conv_W))``` 等价于```im2col_data = np.zeros((1,f*f*1,conv_H*conv_W))```.\n",
    "\n",
    "> 之后的展平卷积核与im2col_data点成注意维度就行了."
   ]
  },
  {
   "cell_type": "code",
   "execution_count": 10,
   "metadata": {},
   "outputs": [],
   "source": [
    "def CONV(data,kernel,bias,stride,padd=\"SAME\"):\n",
    "    \"\"\"\n",
    "    Implemention img2col of CONV.\n",
    "    Arguments:\n",
    "    ----------\n",
    "        data: Input data, the shape is (m,n_h,n_w,n_c).\n",
    "        kernel: conv Weights, the shape is (f_h,f_w,f_c,#f),usually,f_h = f_w,f_c = n_c\n",
    "        stride: conv kernel stride.\n",
    "        padd: input shape euqal output shape,choose \"SAME\". if padding=0,choose \"Valid\".default \"SAME\".\n",
    "        \n",
    "    Return:\n",
    "    -------\n",
    "        CONV_im2col_data: conv result.shape is (m,CONV_h,CONV_w,#f).\n",
    "        CONV_h: floor{(n_h+2*p-f_h)/s + 1}\n",
    "        CONV_w: floor{(n_w+2*p-f_w)/s + 1}\n",
    "    \"\"\"\n",
    "    m,n_h,n_w,n_c = data.shape\n",
    "    f_h,f_w,f_c,f_m = kernel.shape\n",
    "    \n",
    "    if padd == \"SAME\":\n",
    "        p_h = int((f_h-1)/2) # padding height\n",
    "        p_w = int((f_w-1)/2) # padding width\n",
    "        data = Padding(data,p_h,p_w)\n",
    "    elif padd == \"Valid\":\n",
    "        p_h = 0\n",
    "        p_w = 0\n",
    "        data = data\n",
    "    else:\n",
    "        raise ValueError('%s is Error!'%padd)\n",
    "    \n",
    "    \n",
    "    conv_H = np.int(np.floor((n_h+2*p_h-f_h)/stride +1))\n",
    "    conv_W = np.int(np.floor((n_w+2*p_w-f_w)/stride +1))\n",
    "    \n",
    "    \n",
    "    ############### cache im2col result #################\n",
    "    X_col = np.zeros((m,f_h*f_w*f_c,conv_H*conv_W))\n",
    "    ################### end #############################\n",
    "\n",
    "    for index in range(m):\n",
    "        count = 0\n",
    "        for i in range(conv_H):\n",
    "            for j in range(conv_W):\n",
    "                son_data = data[index,i*stride:(i*stride+f_h),j*stride:(j*stride+f_w),:] # get receptive field.\n",
    "                \n",
    "                X_col[index,:,count] = son_data.flatten() # flatten matrix.\n",
    "                count +=1\n",
    "    \n",
    "    ###########################  dot kernel and im2col matrix ################\n",
    "    W_row = kernel.reshape(f_m,-1)\n",
    "    CONV_im2col_data = np.dot(W_row,X_col).reshape(m,conv_H,conv_W,f_m) + bias\n",
    "    ###############################  end #####################################\n",
    "    \n",
    "    return CONV_im2col_data,stride\n"
   ]
  },
  {
   "cell_type": "markdown",
   "metadata": {},
   "source": [
    "接下来我们使用一张图片来尝试一下模型中的CONV1$f=5,s=1$\n",
    "\n",
    "因为我们要保证输出为$28\\times 28$,所以我们需要选择```padd=\"SAME\"```"
   ]
  },
  {
   "cell_type": "markdown",
   "metadata": {},
   "source": [
    "我们先使用soble卷积核和随机初始化$W1$来看看效果."
   ]
  },
  {
   "cell_type": "code",
   "execution_count": 11,
   "metadata": {},
   "outputs": [
    {
     "name": "stdout",
     "output_type": "stream",
     "text": [
      "Kerneka shape is:  (3, 3, 1, 1)\n",
      "CONV result shape is:  (2, 28, 28, 1)\n"
     ]
    }
   ],
   "source": [
    "conv_soble = np.array([[1,0,-1],[2,0,-2],[1,0,-1]]).reshape((3,3,1,1))\n",
    "print('Kerneka shape is: ',conv_soble.shape)\n",
    "bias_soble = np.zeros((1,1,1,1))\n",
    "CONV_soble,_ = CONV(x_train[0:2,...],conv_soble,bias=bias_soble,stride=1,padd=\"SAME\")\n",
    "print('CONV result shape is: ',CONV_soble.shape)"
   ]
  },
  {
   "cell_type": "code",
   "execution_count": 12,
   "metadata": {},
   "outputs": [
    {
     "name": "stdout",
     "output_type": "stream",
     "text": [
      "Kerneka shape is:  (5, 5, 1, 6)\n",
      "CONV result shape is:  (2, 28, 28, 6)\n"
     ]
    }
   ],
   "source": [
    "parameters,_,_ = initial_parameters()\n",
    "W1 = parameters['W1']\n",
    "b1 = parameters['b1']\n",
    "print('Kerneka shape is: ',W1.shape)\n",
    "CONV_W1,_ = CONV(x_train[0:2,...],W1,bias=b1,stride=1,padd=\"SAME\")\n",
    "print('CONV result shape is: ',CONV_W1.shape)"
   ]
  },
  {
   "cell_type": "code",
   "execution_count": 13,
   "metadata": {
    "scrolled": true
   },
   "outputs": [
    {
     "data": {
      "image/png": "[encoded data removed]",
      "text/plain": [
       "<Figure size 432x288 with 2 Axes>"
      ]
     },
     "metadata": {
      "needs_background": "light"
     },
     "output_type": "display_data"
    }
   ],
   "source": [
    "fig, axarr = plt.subplots(1, 2)\n",
    "axarr[0].set_title('soble')\n",
    "axarr[0].imshow(CONV_soble[0,:,:,0],cmap='gray')\n",
    "axarr[1].set_title('W1')\n",
    "axarr[1].imshow(CONV_W1[0,:,:,0],cmap='gray')\n",
    "plt.show()"
   ]
  },
  {
   "cell_type": "markdown",
   "metadata": {},
   "source": [
    "可以看到soble的效果是对的,由于我们的$W1$是随机初始化,所以在训练前效果肯定是不好的."
   ]
  },
  {
   "cell_type": "markdown",
   "metadata": {},
   "source": [
    "### 2.3 Pooling layers\n",
    "\n",
    "Pooling layers 依然可以使用im2col,只是最后求\"Max\" or \"AVERAGE\"无需求```np.dot()```.\n",
    "\n",
    "一般我们不在Pooling层中使用padding,另外感受野的大小一般是$f=3,s=2$,或者$f=2,s=2$.很少有$f_w \\neq f_h$的,所以我们这里不包含这种情况.\n",
    "\n",
    "**Note:**\n",
    "\n",
    "> 在灰度图中(3. CNN Edges)我们使用的是:```im2col_pool = np.zeros((f*f,conv_H*conv_W))```,也就是说,我们比求的是```f*f```中的结果,也就是一个感受野内的特征.\n",
    "\n",
    "> 但是现在是多Channels的情况,我们可以仿照思想写出```X_pool = np.zeros((m,f*f,pool_H*pool_W,n_c))```,也就说,我们只是单纯的增加维度,应为无论样本数是多少,Channels是多少,我们依然还是求```f*f```感受野内的最大值或者平均值,也就是说:\n",
    "\n",
    "> ```im2col_pool = np.zeros((f*f,conv_H*conv_W))``` 等价于```im2col_pool = np.zeros((1,f*f,conv_H*conv_W,1))```.\n",
    "\n",
    "> 需要注意的是,我们已经不能单纯的使用```son_data.flatten()```了,因为我们现在含有Channels,需要使用```son_data.reshape(-1,n_c)```.也就是说实际上在灰度图中```son_data.flatten()```等价于```son_data.reshape(-1,1)```."
   ]
  },
  {
   "cell_type": "code",
   "execution_count": 14,
   "metadata": {},
   "outputs": [],
   "source": [
    "def Pool(data,pool_dict,padd=\"Valid\",method=\"MAX\"):\n",
    "    \"\"\"\n",
    "    Implemention Pool layer.\n",
    "    \n",
    "    Arguments:\n",
    "    ----------\n",
    "        data: Pool data,the shape is (m,n_h,n_w,n_c).\n",
    "        pool_dict: This a dictionary, include f(filter,f_h,f_w) and s(stride).\n",
    "        padd:padding method,can choose \"SAME\" or \"Valid\", default \"Valid\".\n",
    "        method: Pool method default \"MAX\". can choose \"AVERAGE\".\n",
    "    Returns:\n",
    "    -------\n",
    "        Pool_im2col_data: Pooling result,the shape is (m,pool_H,pool_W,n_c).\n",
    "    \"\"\"\n",
    "    cache_P = {}\n",
    "    m,n_h,n_w,n_c = data.shape\n",
    "    f_h,f_w = pool_dict['f_h'],pool_dict['f_w']\n",
    "    s = pool_dict['s']\n",
    "    \n",
    "    cache_P['n_h'],cache_P['n_w'],cache_P['method'],cache_P['f_h'],cache_P['f_w'],cache_P['s']=n_h,n_w,method,f_h,f_w,s\n",
    "    \n",
    "    \n",
    "    if padd == \"SAME\":\n",
    "        p_h = int((f_h-1)/2)\n",
    "        p_w = int((f_w-1)/2)\n",
    "        data = Padding(data,p_h,p_w)\n",
    "    elif padd == \"Valid\":\n",
    "        p = 0\n",
    "        data = data\n",
    "    else:\n",
    "        raise ValueError('%s is Error!'%padd)\n",
    "    \n",
    "    \n",
    "    pool_H = np.int(np.floor((n_h+2*p-f_h)/s +1))\n",
    "    pool_W = np.int(np.floor((n_w+2*p-f_w)/s +1))\n",
    "    cache_P['pool_H'],cache_P['pool_W'] = pool_H,pool_W\n",
    "    \n",
    "    \n",
    "    ############### cache im2col result #################\n",
    "    # X_pool shape is (m,f*f,p_h*p+w,n_c),              #\n",
    "    # so in the \"MAX or AVERAGE\" comparison below use   #\n",
    "    # axis=1.                                           #\n",
    "    X_pool = np.zeros((m,f_h*f_w,pool_H*pool_W,n_c))\n",
    "    ################### end #############################\n",
    "\n",
    "    for index in range(m):\n",
    "        count = 0 \n",
    "        for i in range(pool_H):\n",
    "            for j in range(pool_W):\n",
    "                son_data = data[index,i*s:(i*s+f_h),j*s:(j*s+f_w),:] # get receptive field.\n",
    "                \n",
    "                son_data = son_data.reshape(-1,n_c)\n",
    "                X_pool[index,:,count,:] += son_data # flatten matrix.\n",
    "                count += 1\n",
    "    \n",
    "   ###########################  choose method inim2col matrix ################\n",
    "    if method == \"MAX\":\n",
    "        Pool_im2col_data = np.max(X_pool,axis=1,keepdims=True).reshape(m,pool_H,pool_W,n_c)\n",
    "        Arg_Max_Pool = np.argmax(X_pool,axis=1)\n",
    "        cache_P['Arg_Max_Pool'] = Arg_Max_Pool\n",
    "        \n",
    "    elif method == \"AVERAGE\":\n",
    "        Pool_im2col_data = np.mean(X_pool,axis=1,keepdims=True).reshape(m,pool_H,pool_W,n_c)\n",
    "        \n",
    "    else:\n",
    "        raise ValueError('%s method Error!'%method)\n",
    "    ###############################  end #####################################\n",
    "    \n",
    "    return Pool_im2col_data,cache_P"
   ]
  },
  {
   "cell_type": "markdown",
   "metadata": {},
   "source": [
    "同样用soble卷积后的结果和随机初始化$W1$卷积后的结果来看看Pool的效果."
   ]
  },
  {
   "cell_type": "code",
   "execution_count": 15,
   "metadata": {},
   "outputs": [
    {
     "name": "stdout",
     "output_type": "stream",
     "text": [
      "Pool result shape is:  (2, 14, 14, 1)\n"
     ]
    }
   ],
   "source": [
    "pool_dict = {'f_h':2,'f_w':2,'s':2}\n",
    "Pool_soble,_= Pool(CONV_soble,pool_dict,padd=\"Valid\",method=\"MAX\")\n",
    "print('Pool result shape is: ',Pool_soble.shape)"
   ]
  },
  {
   "cell_type": "code",
   "execution_count": 16,
   "metadata": {},
   "outputs": [
    {
     "name": "stdout",
     "output_type": "stream",
     "text": [
      "Pool result shape is:  (2, 14, 14, 6)\n"
     ]
    }
   ],
   "source": [
    "pool_dict = {'f_h':2,'f_w':2,'s':2}\n",
    "Pool_W1,cache_W1_P = Pool(CONV_W1,pool_dict,padd=\"Valid\",method=\"MAX\")\n",
    "print('Pool result shape is: ',Pool_W1.shape)"
   ]
  },
  {
   "cell_type": "code",
   "execution_count": 17,
   "metadata": {},
   "outputs": [
    {
     "data": {
      "image/png": "[encoded data removed]",
      "text/plain": [
       "<Figure size 432x288 with 2 Axes>"
      ]
     },
     "metadata": {
      "needs_background": "light"
     },
     "output_type": "display_data"
    }
   ],
   "source": [
    "fig, axarr = plt.subplots(1, 2)\n",
    "axarr[0].set_title('soble')\n",
    "axarr[0].imshow(Pool_soble[0,:,:,0],cmap='gray')\n",
    "axarr[1].set_title('W1')\n",
    "axarr[1].imshow(Pool_W1[0,:,:,0],cmap='gray')\n",
    "plt.show()"
   ]
  },
  {
   "cell_type": "markdown",
   "metadata": {},
   "source": [
    "可以看Pool的结果是为原来的一半,因为$f=2,s=2$.可以看到特征会更加明显."
   ]
  },
  {
   "cell_type": "markdown",
   "metadata": {},
   "source": [
    "### 2.4 FC(Fully connected layer)\n",
    "\n",
    "我们知道全连接层实际上和DNN中是一样的,所以我们直接定义"
   ]
  },
  {
   "cell_type": "code",
   "execution_count": 18,
   "metadata": {},
   "outputs": [],
   "source": [
    "def FC(data,Weights,bias):\n",
    "    out = np.dot(Weights,data) + bias\n",
    "    return out"
   ]
  },
  {
   "cell_type": "markdown",
   "metadata": {},
   "source": [
    "### 3 Forward"
   ]
  },
  {
   "cell_type": "code",
   "execution_count": 19,
   "metadata": {},
   "outputs": [],
   "source": [
    "def CNN_Forward(data,parameters):\n",
    "    \"\"\"\n",
    "    Forward propagation of CNN.\n",
    "    \n",
    "    Arguments:\n",
    "    ---------\n",
    "        data: training data set. shape is (m,n_h,n_w,n_c)\n",
    "        parameters: Initialization parameters,include weigths and bias.\n",
    "    \n",
    "    Returns:\n",
    "    -------\n",
    "        A5: output layer value.\n",
    "        cache_fp: cache linear value or activation values,using in backward.\n",
    "        cache_Pool: cache stride or something,using in backward.\n",
    "    \"\"\"\n",
    "    Z1,stride_1 = CONV(data,parameters['W1'],parameters['b1'],stride=1,padd=\"SAME\")\n",
    "    A1 = relu(Z1)\n",
    "    P1,cache_P1 = Pool(A1,{'f_h':2,'f_w':2,'s':2},padd='Valid',method='MAX')\n",
    "    \n",
    "    Z2,stride_2 = CONV(P1,parameters['W2'],parameters['b2'],stride=1,padd=\"Valid\")\n",
    "    A2 = relu(Z2)\n",
    "    P2,cache_P2 = Pool(A2,{'f_h':2,'f_w':2,'s':2},padd=\"Valid\",method=\"MAX\")\n",
    "    \n",
    "    Flatten = P2.reshape(-1,P2.shape[0])\n",
    "    \n",
    "    Z3 = FC(Flatten,parameters['W3'],parameters['b3'])\n",
    "    A3 = relu(Z3)\n",
    "    \n",
    "    Z4 = FC(A3,parameters['W4'],parameters['b4'])\n",
    "    A4 = relu(Z4)\n",
    "    Z5 = FC(A4,parameters['W5'],parameters['b5'])\n",
    "    A5 = softmax(Z5)\n",
    "    \n",
    "    cache_fp = (data,Z1,A1,P1,Z2,A2,P2,Flatten,Z3,A3,Z4,A4,Z5,stride_1,stride_2)\n",
    "    cache_Pool = {'cache_Pool1':cache_P1,'cache_Pool2':cache_P2}\n",
    "    return A5,cache_fp,cache_Pool"
   ]
  },
  {
   "cell_type": "code",
   "execution_count": 20,
   "metadata": {},
   "outputs": [
    {
     "name": "stdout",
     "output_type": "stream",
     "text": [
      "Out layer shape is:  (10, 100)\n"
     ]
    }
   ],
   "source": [
    "parameters,V,M = initial_parameters()\n",
    "A5,cache_fp,cache_Pool = CNN_Forward(x_train,parameters)\n",
    "print('Out layer shape is: ',A5.shape)"
   ]
  },
  {
   "cell_type": "markdown",
   "metadata": {},
   "source": [
    "下面我们来看看损失"
   ]
  },
  {
   "cell_type": "code",
   "execution_count": 21,
   "metadata": {
    "scrolled": true
   },
   "outputs": [
    {
     "name": "stdout",
     "output_type": "stream",
     "text": [
      "The loss is:  2.3026982474509294\n"
     ]
    }
   ],
   "source": [
    "loss = Loss(A5,y_train)\n",
    "print('The loss is: ',loss)"
   ]
  },
  {
   "cell_type": "markdown",
   "metadata": {},
   "source": [
    "### 4. Backward"
   ]
  },
  {
   "cell_type": "markdown",
   "metadata": {},
   "source": [
    "#### 4.1 dPool"
   ]
  },
  {
   "cell_type": "markdown",
   "metadata": {},
   "source": [
    "在理解CNN的Pool BP前,我们先来重新回顾一下计算机中的图片:\n",
    "<img src=\"../../picture/167.png\" width=700 height=700>\n"
   ]
  },
  {
   "cell_type": "markdown",
   "metadata": {},
   "source": [
    "如果以$f=2,s=2$,的感受野在图片上滑动,那么实际上走的数组为:\n",
    "\n"
   ]
  },
  {
   "cell_type": "code",
   "execution_count": 22,
   "metadata": {},
   "outputs": [
    {
     "name": "stdout",
     "output_type": "stream",
     "text": [
      "First receptive field is:\n",
      " [[[0.90366057 0.89601028 0.58995011]\n",
      "  [0.98727338 0.8516035  0.20881651]]\n",
      "\n",
      " [[0.34841114 0.03089059 0.98635311]\n",
      "  [0.50147651 0.43779437 0.65269985]]]\n",
      "Second receptive field is:\n",
      " [[[0.76662286 0.03280564 0.29674602]\n",
      "  [0.57035959 0.83466854 0.16072966]]\n",
      "\n",
      " [[0.47098865 0.94848052 0.58783855]\n",
      "  [0.0203519  0.81767704 0.97718902]]]\n",
      "Third receptive field is:\n",
      " [[[0.90366057 0.89601028 0.58995011]\n",
      "  [0.98727338 0.8516035  0.20881651]]\n",
      "\n",
      " [[0.34841114 0.03089059 0.98635311]\n",
      "  [0.50147651 0.43779437 0.65269985]]]\n",
      "Fourth receptive field is:\n",
      " [[[0.90366057 0.89601028 0.58995011]\n",
      "  [0.98727338 0.8516035  0.20881651]]\n",
      "\n",
      " [[0.34841114 0.03089059 0.98635311]\n",
      "  [0.50147651 0.43779437 0.65269985]]]\n"
     ]
    }
   ],
   "source": [
    "First = image[0,0:2,0:2,:]\n",
    "print('First receptive field is:\\n',First)\n",
    "Second = image[0,0:2,2:4,:]\n",
    "print('Second receptive field is:\\n',Second)\n",
    "Third = image[0,2:4,0:2,:]\n",
    "print('Third receptive field is:\\n',First)\n",
    "Fourth = image[0,2:4,2:4,:]\n",
    "print('Fourth receptive field is:\\n',First)"
   ]
  },
  {
   "cell_type": "markdown",
   "metadata": {},
   "source": [
    "接下去我们知道在Pooling的BP时,如果采用的是\"MAX\",我们需要将梯度$dP$中的值依次放回原Pooling之前大小的感受野内的最大值的位置即:\n",
    "\n",
    "<img src=\"../../picture/163.png\" width=700 height=700>\n",
    "\n",
    "**Ps:**\n",
    "注意这里为了演示才将BP中的值与FP输出的值令成相同.实际上其是不同的.\n"
   ]
  },
  {
   "cell_type": "markdown",
   "metadata": {},
   "source": [
    "那么我们可以在Pool中缓存每一个感受野的最大值的索引```Arg_Max_Pool```,在Bp的时候按照位置放回即可,需要注意的是,我们这里的```Arg_Max_Pool```是将每一个感受野展平$shape(-1,n_c)$的索引,也就是说,```Arg_Max_Pool```中的索引是感受野展平为行后的最大值的索引,每一列为一个通道的最大值,如下所示:\n",
    "\n",
    "<img src=\"../../picture/168.png\" width=500 height=500>"
   ]
  },
  {
   "cell_type": "markdown",
   "metadata": {},
   "source": [
    "\n",
    "\n",
    "黄色部分代表每一个感受野中R,G,B中最大值索引值,以黄色的框为(感受野第一次滑过)例子:R通道的最大值的索引位置在1,G通道的最大值的索引位置在0,B通道的最大值的索引在2.可以对照img看看.\n",
    "\n",
    "所以我们在BP中放回原位的时候也需要将每一个感受野滑过的窗口展平为```𝑠ℎ𝑎𝑝𝑒(−1,n_c)```.\n",
    "\n",
    "即:```dPool```中代码:```son_data = son_data.reshape((-1,n_c))```."
   ]
  },
  {
   "cell_type": "markdown",
   "metadata": {},
   "source": [
    "接下去假设我们的BP为```dp```."
   ]
  },
  {
   "cell_type": "code",
   "execution_count": 23,
   "metadata": {},
   "outputs": [
    {
     "name": "stdout",
     "output_type": "stream",
     "text": [
      "dp is:\n",
      " [[[[0.54340494 0.27836939 0.42451759]\n",
      "   [0.84477613 0.00471886 0.12156912]]\n",
      "\n",
      "  [[0.67074908 0.82585276 0.13670659]\n",
      "   [0.57509333 0.89132195 0.20920212]]]]\n"
     ]
    }
   ],
   "source": [
    "np.random.seed(100)\n",
    "dp = np.random.rand(1,2,2,3)\n",
    "print('dp is:\\n',dp)"
   ]
  },
  {
   "cell_type": "markdown",
   "metadata": {},
   "source": [
    "那么我们就需要将这些值放回到原来感受野滑过窗口$(2\\times 2)$中最大值的索引位置.也就是,在```dPool```中,我们也像```Pool```中一样滑动输入值,使用```Arg_Max_Pool```将```dp```的值依次放入即可.\n",
    "\n",
    "**小技巧:**\n",
    "\n",
    "实际上```dp```的形状可以和```Arg_Max_Pool```一致,比如对于image,那么经过Pool之后的形状为$(1\\times 2\\times 2\\times 3)$,将```dp```reshape为$(1\\times 4\\times 3)$,那么形状就和```Arg_Max_Pool```$(1\\times 4\\times 3)$一致,继而在窗口内还原最大值的位置时就会方便许多,因为维度一样可以保证连同$Channels$一同放入.\n",
    "\n",
    "也就是下面的代码:\n",
    "\n",
    "```python\n",
    "data_reshape = data.reshape(m,p_h*p_w,n_c)\n",
    "son_data[Arg_Max_Pool[0,count],N_C] = data_reshape[0,count]```\n"
   ]
  },
  {
   "cell_type": "markdown",
   "metadata": {},
   "source": [
    "产生的结果为:\n",
    "\n",
    "这里为了简洁,就展示第一个窗口,其他的可以运行代码自行比较.\n",
    "\n",
    "<div style=\"float:left;border:solid 1px 000;margin:2px;\"><img src=\"../../picture/169.png\"  width=\"400\" height=\"500\" ></div>\n",
    "\n",
    "<div style=\"float:left;border:solid 1px 000;margin:2px;\"><img src=\"../../picture/170.png\" width=\"400\" height=\"500\" ></div>"
   ]
  },
  {
   "cell_type": "markdown",
   "metadata": {},
   "source": [
    "可以看到,这样```dp```中的值就回到了原来窗口中最大值的位置."
   ]
  },
  {
   "cell_type": "markdown",
   "metadata": {},
   "source": [
    "对于\"AVEERAGE\"就简单许多,我们只需要将```dp```中的元素除上感受野的大小$f\\times f$再发如BP的感受野内即可:\n",
    "\n",
    "```son_data[:,N_C] = data_reshape[0,count] / (f*f)```"
   ]
  },
  {
   "cell_type": "markdown",
   "metadata": {},
   "source": [
    "产生的结果如下:\n",
    "\n",
    "<img src=\"../../picture/172.png\" width=300 height=300>"
   ]
  },
  {
   "cell_type": "markdown",
   "metadata": {},
   "source": [
    "可以看到,窗口内每一个值都是```dp```的均值."
   ]
  },
  {
   "cell_type": "markdown",
   "metadata": {},
   "source": [
    "**Ps:**\n",
    "\n",
    "针对于以上方法,速度会比For Loop和\"Mask\"方式快许多,下面时候测试$(10000\\times 4\\times 4\\times 6)$的运行效率(\"Mac Book Pro\")\n",
    "<img src=\"../../picture/171.png\" width=400 height=400>\n"
   ]
  },
  {
   "cell_type": "markdown",
   "metadata": {},
   "source": [
    "#### 4.1 Pool of Backward"
   ]
  },
  {
   "cell_type": "code",
   "execution_count": 24,
   "metadata": {},
   "outputs": [],
   "source": [
    "def dPool(data,cache_P):\n",
    "    \"\"\"\n",
    "    Backward of Pooling layers.\n",
    "    \n",
    "    Arguments:\n",
    "    ---------\n",
    "        data: Derivative of Pool,the shape is (m,p_h(after pool),p_w(after pool),n_c).\n",
    "        cache_P: cache dictionary of Forward Pooling layer,\n",
    "                include \"pool_H\",\"pool_W\",'f','s','n_h','n_w','Arg_Max_Pool'(if choose \"MAX\" Pool),\"method\".\n",
    "    Returns:\n",
    "    -------\n",
    "        dp_0: Revert to the original Pool, shape is (m,p_h(original),p_w(original),n_c) \n",
    "    \"\"\"\n",
    "    m,p_h,p_w,n_c = data.shape\n",
    "    pool_H,pool_W,f_h,f_w,s = cache_P['pool_H'],cache_P['pool_W'],cache_P['f_h'],cache_P['f_w'],cache_P['s']\n",
    "    n_h,n_w,Arg_Max_Pool,method = cache_P['n_h'],cache_P['n_w'],cache_P['Arg_Max_Pool'],cache_P['method']\n",
    "    \n",
    "    data_reshape = data.reshape(m,p_h*p_w,n_c) # reshape input data.\n",
    "    dp_0 = np.zeros((m,n_h,n_w,n_c)) # Revert original shape.\n",
    "    \n",
    "    N_C = np.array([i for i in range(n_c)])\n",
    "    for index in range(m):\n",
    "        count = 0\n",
    "        for i in range(pool_H):\n",
    "            for j in range(pool_W):\n",
    "                son_data = dp_0[index,i*s:(i*s+f_h),j*s:(j*s+f_w),:] # get receptive field.\n",
    "                son_data = son_data.reshape((-1,n_c))\n",
    "                if method == \"MAX\":\n",
    "                    son_data[Arg_Max_Pool[0,count],N_C] = data_reshape[0,count]\n",
    "                else:\n",
    "                    son_data[:,N_C] = data_reshape[0,count] / (f_h*f_w)\n",
    "                    \n",
    "                dp_0[index,i*s:(i*s+f_h),j*s:(j*s+f_w),:]=son_data.reshape(f_h,f_w,n_c)\n",
    "                count += 1   \n",
    "    return dp_0"
   ]
  },
  {
   "cell_type": "markdown",
   "metadata": {},
   "source": [
    "下面我们来针对$W2$来进行测试,经过Pool后CONV2层的形状为$(2\\times5\\times5\\times16)$:"
   ]
  },
  {
   "cell_type": "code",
   "execution_count": 25,
   "metadata": {},
   "outputs": [
    {
     "name": "stdout",
     "output_type": "stream",
     "text": [
      "dp_2 shape is:\n",
      " (100, 10, 10, 16)\n"
     ]
    }
   ],
   "source": [
    "cache_P = cache_Pool['cache_Pool2']\n",
    "dp_test = np.random.rand(100,5,5,16) # testing dp.\n",
    "dp_2 = dPool(dp_test,cache_P)\n",
    "print('dp_2 shape is:\\n',dp_2.shape)"
   ]
  },
  {
   "cell_type": "markdown",
   "metadata": {},
   "source": [
    "#### 4.2 dCONV\n",
    "\n",
    "现在已经能够求出$dP2$了,接下去的$dReLu(Z^{[2]})$我们可以直接写出来,那么我们来看看$dCONV$的情况"
   ]
  },
  {
   "cell_type": "markdown",
   "metadata": {},
   "source": [
    "在CNN Forward and Backward(Theory01)中我们已经知道了BP时CONV的流程,实际上也是一个卷积操作.下面一步一步来分析\n",
    "\n",
    "[0] \n",
    "\n",
    "> 由于我们知道$\\left \\lfloor \\frac{n+2p-f}{s} +1 \\right \\rfloor \\times \\left \\lfloor \\frac{n+2p-f}{s} +1 \\right \\rfloor $\n",
    "\n",
    "> 那么:\n",
    "\n",
    "> $\\frac{n_{input}+2p-f}{s} +1=n_{out}$,由于$n_{input},f,s,n_{out}$都是已知,我们就可以计算出在BP的时候外层padding的值.以上面的例子为例:\n",
    "\n",
    "> $\\frac{2+2p-2}{1}+1=3 \\rightarrow p=1$\n",
    "\n",
    "> $p = \\frac{(n_{out}-1)*s+f-n_{input}}{2}$\n",
    "\n",
    "> 以$dA$为例:\n",
    "\n",
    "> ```kernel_root180 = np.rot90(kernel,k=2,axes=(0,1))\n",
    "dA_p_h = int(((A_H-1) * stride + k_f_h - n_h) / 2)\n",
    "dA_p_w = int(((A_W-1) * stride + k_f_w - n_w) / 2)\n",
    "dA_dZ_pool = Padding(dZ,dA_p_h,dA_p_w)```\n",
    "\n",
    "[1] $rot180$,对于卷积核逆时针旋转180度,我们可以使用```np.rot90(arr,k=2,axes=(0,1))```,rot90表示逆时针旋转90度,k指定旋转次数,axes表示旋转的轴.注意在CONV中我们旋转的轴为宽和高的轴.\n",
    "\n",
    "[2] 对于已知$dZ$求$dA$的时候我们要注意(以$dZ^{[2]}$为例子):\n",
    "\n",
    "- 我们将$dZ^{[2]}(100, 10, 10, 16)$看做样本,$dW^{[2]}(5,5,6,16)$看做卷积核,输出$dA^{[1]}(100,14,14,6)$.由于卷积操作是要保证Channels一致,所以我们需要将$dW$看做是$(5,5,16,6)$进行卷积操作.\n",
    "\n",
    "- ```dAX_col = np.zeros((m,k_f_h*k_f_w*k_f_m,A_H*A_W)),dk_col = kernel_root180.reshape(k_f_c,-1)```\n",
    "\n",
    "[3] 对于已知$dZ$求$dW$的时候我们要注意(以$dZ^{[2]}$为例子):\n",
    "\n",
    "- 我们将$dZ^{[2]}(100, 10, 10, 16)$看做样本,$A^{[1]}(100,14,14,6)$看做卷积核,输出$dW^{[2]}(5,5,6,16)$.由于卷积操作是要保证Channels一致,所以我们需要将$dZ^{[2]}$看做是$(16,10,10,100)$,也就是说样本数量为16,样本高宽为10,深度为100.将$A^{[1]}$看做是$(14,14,100,6)$,也就是说卷积核高宽为14,深度为100,有6个卷积核.这样我们才能拿到正确的输出$dW^{[2]}$.\n",
    "\n",
    "- ```dkX_col = np.zeros((k_f_m,A_H*A_W*A_m,k_f_h*k_f_w)),dA_col = A.reshape(A_C,-1)```\n",
    "\n",
    "[4] 对于已知$dZ$求$db$的时候我们要注意(以$dZ^{[2]}$为例子):\n",
    "\n",
    "- 由于我们的输入是$dZ^{[2]}(100, 10, 10, 16)$,我们需要变形为$reshape((-1,16))$,再按照第0轴进行求和,接着reshape为$db^{[2]}(1,1,16)$."
   ]
  },
  {
   "cell_type": "code",
   "execution_count": 26,
   "metadata": {},
   "outputs": [],
   "source": [
    "def dCONV(dZ,A,kernel,stride):\n",
    "    \"\"\"\n",
    "    Implemention derivative CONV.\n",
    "    Arguments:\n",
    "    ---------\n",
    "        dZ: derivative Z, shape is (m,n_h,n_w,n_c).\n",
    "        A: Forward A. shape is (A_m,A_H,A_W,A_C).\n",
    "        kernel: Weights. shape is (k_f_h,k_f_w,k_f_c,k_f_m).\n",
    "        stride: Kernel stride in CONV.\n",
    "    \n",
    "    Returns:\n",
    "    -------\n",
    "        dA: derivative A. shape same as A.\n",
    "        dW: derivative weights. shape same as W.\n",
    "        db: derivative bias. shape same b.\n",
    "    \"\"\"\n",
    "    \n",
    "    m,n_h,n_w,n_c = dZ.shape\n",
    "    k_f_h,k_f_w,k_f_c,k_f_m = kernel.shape # Very Important!!\n",
    "    A_m,A_H,A_W,A_C = A.shape\n",
    "    \n",
    "    \n",
    "    #~~~~~~~~~~~~~~~~~~~~~~~~~~~~ dA ~~~~~~~~~~~~~~~~~~~~~~~~~~~~~~~~~~~~~~~~~~~\n",
    "    kernel_root180 = np.rot90(kernel,k=2,axes=(0,1))\n",
    "    dA_p_h = int(((A_H-1) * stride + k_f_h - n_h) / 2)\n",
    "    dA_p_w = int(((A_W-1) * stride + k_f_w - n_w) / 2)\n",
    "    dA_dZ_pool = Padding(dZ,dA_p_h,dA_p_w)\n",
    "    \n",
    "    dAX_col = np.zeros((m,k_f_h*k_f_w*k_f_m,A_H*A_W))\n",
    "    \n",
    "    for index in range(m):\n",
    "        count = 0\n",
    "        for i in range(A_H):\n",
    "            for j in range(A_W):\n",
    "                son_data = dA_dZ_pool[index,i*stride:(i*stride+k_f_h),j*stride:(j*stride+k_f_w),:] \n",
    "\n",
    "                dAX_col[index,:,count] = son_data.flatten() # flatten matrix.\n",
    "                count +=1\n",
    "    \n",
    "    dk_col = kernel_root180.reshape(k_f_c,-1)\n",
    "    dA = np.dot(dk_col,dAX_col).reshape(m,A_H,A_W,k_f_c)\n",
    "    #~~~~~~~~~~~~~~~~~~~~~~~~~ end of dA ~~~~~~~~~~~~~~~~~~~~~~~~~~~~~~~~~~~~~~~~~~\n",
    "    \n",
    "\n",
    "    #~~~~~~~~~~~~~~~~~~~~~~~~~~~ dW ~~~~~~~~~~~~~~~~~~~~~~~~~~~~~~~~~~~~~~~~~~~~~~~\n",
    "    dZ_reshape = dZ.reshape((n_c,n_h,n_w,m))\n",
    "    k_p_h = int(((k_f_h-1) * stride + A_H - n_h) / 2)\n",
    "    k_p_w = int(((k_f_w-1) * stride + A_W - n_w) / 2)\n",
    "    k_dZ_pool = Padding(dZ_reshape,k_p_h,k_p_w)\n",
    "    A_reshape = A.reshape((A_H,A_W,A_m,A_C))\n",
    "    \n",
    "    dkX_col = np.zeros((k_f_m,A_H*A_W*A_m,k_f_h*k_f_w))\n",
    "    \n",
    "    for index in range(k_f_m):\n",
    "        count = 0\n",
    "        for i in range(k_f_h):\n",
    "            for j in range(k_f_w):\n",
    "                son_data = k_dZ_pool[index,i*stride:(i*stride+A_H),j*stride:(j*stride+A_W),:]\n",
    "                dkX_col[index,:,count] = son_data.flatten() # flatten matrix.\n",
    "                count +=1\n",
    "            \n",
    "    dA_col = A.reshape(A_C,-1)\n",
    "    dk = np.dot(dA_col,dkX_col).reshape(k_f_m,k_f_h,k_f_w,k_f_c)\n",
    "    dk_reshape = dk.reshape((k_f_h,k_f_w,k_f_c,k_f_m)) # reshaping original weights shape.\n",
    "    dW = np.rot90(dk_reshape,k=2) / m\n",
    "    #~~~~~~~~~~~~~~~~~~~~~~~~~~~ end of dW ~~~~~~~~~~~~~~~~~~~~~~~~~~~~~~~~~~~~~~~~~~\n",
    "    \n",
    "    #~~~~~~~~~~~~~~~~~~~~~~~~~~~ db ~~~~~~~~~~~~~~~~~~~~~~~~~~~~~~~~~~~~~~~~~~~~~~~~~\n",
    "    db = np.sum(dZ.reshape((-1,n_c)),axis=0,keepdims=True) / m\n",
    "    db = db.reshape((1,1,n_c))\n",
    "    #~~~~~~~~~~~~~~~~~~~~~~~~~~~ end of db ~~~~~~~~~~~~~~~~~~~~~~~~~~~~~~~~~~~~~~~~~~\n",
    "    \n",
    "    return dA,dW,db"
   ]
  },
  {
   "cell_type": "markdown",
   "metadata": {},
   "source": [
    "现在我们按照$dZ^{[2]}$的形状模拟进行$dCONV$."
   ]
  },
  {
   "cell_type": "code",
   "execution_count": 27,
   "metadata": {},
   "outputs": [],
   "source": [
    "np.random.seed(432)\n",
    "dZ2 = np.random.rand(100, 10, 10, 16)\n",
    "W2 = np.random.rand(5,5,6,16)\n",
    "b2 = np.random.rand(1,1,16)\n",
    "P1 = np.random.rand(100,14,14,6)"
   ]
  },
  {
   "cell_type": "code",
   "execution_count": 28,
   "metadata": {},
   "outputs": [
    {
     "name": "stdout",
     "output_type": "stream",
     "text": [
      "dP_1 shape is: (100, 14, 14, 6)\n",
      "dW_1 shape is: (5, 5, 6, 16)\n",
      "db_1 shape is: (1, 1, 16)\n"
     ]
    }
   ],
   "source": [
    "dP,dW,db = dCONV(dZ2,P1,W2,1)\n",
    "print(\"dP_1 shape is:\",dP.shape)\n",
    "print(\"dW_1 shape is:\",dW.shape)\n",
    "print(\"db_1 shape is:\",db.shape)"
   ]
  },
  {
   "cell_type": "code",
   "execution_count": 29,
   "metadata": {
    "scrolled": true
   },
   "outputs": [
    {
     "name": "stdout",
     "output_type": "stream",
     "text": [
      "Z1 (100, 28, 28, 1)\n",
      "A1 (100, 28, 28, 6)\n",
      "P1 (100, 28, 28, 6)\n",
      "Z2 (100, 14, 14, 6)\n",
      "A2 (100, 10, 10, 16)\n",
      "P2 (100, 10, 10, 16)\n",
      "Flatten (100, 5, 5, 16)\n",
      "Z3 (400, 100)\n",
      "A3 (120, 100)\n",
      "Z4 (120, 100)\n",
      "A4 (84, 100)\n",
      "Z5 (84, 100)\n"
     ]
    }
   ],
   "source": [
    "for name,i in zip(['Z1','A1','P1','Z2','A2','P2','Flatten','Z3','A3','Z4','A4','Z5'],cache_fp):\n",
    "    print(name,i.shape)"
   ]
  },
  {
   "cell_type": "markdown",
   "metadata": {},
   "source": [
    "#### 4.3 Build Backward.\n",
    "\n",
    "现在我们来完整构建BP."
   ]
  },
  {
   "cell_type": "code",
   "execution_count": 30,
   "metadata": {},
   "outputs": [],
   "source": [
    "def Backward(A5,y,cache_fp,cache_Pool,parameters):\n",
    "    \"\"\"\n",
    "    Backward of CNN\n",
    "    Arguments:\n",
    "    ---------\n",
    "        A5: output layer value.\n",
    "        y: true labels.\n",
    "        cache_fp:cache some layers' value in Forward propagation .\n",
    "        cache_Pool:cache f,s in Pooling layers.\n",
    "        parameters: include weights and bias\n",
    "    Returns:\n",
    "    -------\n",
    "        dparameters: derivative parameters, it's a dictionary,include weights and bias.\n",
    "    \"\"\"\n",
    "    m = y.shape[1]\n",
    "    (X,Z1,A1,P1,Z2,A2,P2,Flatten,Z3,A3,Z4,A4,Z5,stride_1,stride_2) = cache_fp\n",
    "    \n",
    "    dZ5 = A5 - y\n",
    "    \n",
    "    dW5 = np.dot(dZ5,A4.T) / m\n",
    "    db5 = np.sum(dZ5,axis=1,keepdims=True) / m\n",
    "    dA4 = np.dot(parameters['W5'].T,dZ5)\n",
    "    \n",
    "    dZ4 = np.multiply(dA4,np.int64(Z4>0))\n",
    "    dW4 = np.dot(dZ4,A3.T) / m\n",
    "    db4 = np.sum(dZ4,axis=1,keepdims=True) / m\n",
    "    dA3 = np.dot(parameters['W4'].T,dZ4)\n",
    "    \n",
    "    dZ3 = np.multiply(dA3,np.int64(Z3>0))\n",
    "    dW3 = np.dot(dZ3,Flatten.T) / m\n",
    "    db3 = np.sum(dZ3,axis=1,keepdims=True) / m\n",
    "    dFlatten = np.dot(parameters['W3'].T,dZ3)\n",
    "    \n",
    "    dP2 = dFlatten.reshape(P2.shape)\n",
    "    dA2 = dPool(dP2,cache_Pool['cache_Pool2'])\n",
    "    dZ2 = np.multiply(dA2,np.int64(Z2>0))\n",
    "    dP1,dW2,db2 = dCONV(dZ2,A1,parameters['W2'],stride_2)\n",
    "    \n",
    "    dA1 = dPool(dP1,cache_Pool['cache_Pool1'])\n",
    "    dZ1 = np.multiply(dA1,np.int64(Z1>0))\n",
    "    _,dW1,db1 = dCONV(dZ1,X,parameters['W1'],stride_1)\n",
    "    \n",
    "    dparameters = {'dW5':dW5,'db5':db5,'dW4':dW4,'db4':db4,'dW3':dW3,'db3':db3,'dW2':dW2,'db2':db2,'dW1':dW1,'db1':db1}\n",
    "    return dparameters\n"
   ]
  },
  {
   "cell_type": "code",
   "execution_count": 31,
   "metadata": {},
   "outputs": [],
   "source": [
    "parameters,V,M = initial_parameters()\n",
    "A5,cache_fp,cache_Pool = CNN_Forward(x_train,parameters)\n",
    "dparameters = Backward(A5,y_train,cache_fp,cache_Pool,parameters)"
   ]
  },
  {
   "cell_type": "markdown",
   "metadata": {},
   "source": [
    "### Update\n",
    "\n",
    "这里我们使用Adam Optimizer进行更新参数"
   ]
  },
  {
   "cell_type": "code",
   "execution_count": 32,
   "metadata": {},
   "outputs": [],
   "source": [
    "parameters,V,M = Update(5,dparameters,parameters,V,M,beta_1=0.9,beta_2=0.999,t=1,lr=0.001)"
   ]
  },
  {
   "cell_type": "code",
   "execution_count": 33,
   "metadata": {},
   "outputs": [
    {
     "name": "stdout",
     "output_type": "stream",
     "text": [
      "The loss is:  2.2983748424135575\n"
     ]
    }
   ],
   "source": [
    "A5,cache_fp,cache_Pool = CNN_Forward(x_train,parameters)\n",
    "loss = Loss(A5,y_train)\n",
    "print('The loss is: ',loss)"
   ]
  },
  {
   "cell_type": "markdown",
   "metadata": {},
   "source": [
    "可以看到损失已经下降,说明开始学习,下面我们就开始搭建CNN"
   ]
  },
  {
   "cell_type": "markdown",
   "metadata": {},
   "source": [
    "### Score\n",
    "\n",
    "我们创建评分函数"
   ]
  },
  {
   "cell_type": "code",
   "execution_count": 34,
   "metadata": {},
   "outputs": [],
   "source": [
    "def Score(data,labels,parameters,is_loss=False):\n",
    "    \"\"\"\n",
    "    Score function\n",
    "    \n",
    "    Arguments:\n",
    "    ---------\n",
    "        data: score data,the shape is (m,n_h,n_w,n_c)\n",
    "        labels: score labels shape is (n_classes,m)\n",
    "        parameters: include weights and bias.\n",
    "        is_loss: caculate loss is is_loss equal True.\n",
    "    Returns:\n",
    "    -------\n",
    "        accuracy: accurate \n",
    "        loss: loss value.\n",
    "    \"\"\"\n",
    "    m = labels.shape[1]\n",
    "    A5,_,_ = CNN_Forward(data,parameters)\n",
    "    predict = np.argmax(A5,axis=0)\n",
    "    true_labels = np.argmax(labels,axis=0)\n",
    "    accuracy = np.sum(predict==true_labels)/ m\n",
    "    if is_loss:\n",
    "        loss = Loss(A5,labels)\n",
    "        return accuracy,loss\n",
    "    else:\n",
    "        return accuracy"
   ]
  },
  {
   "cell_type": "markdown",
   "metadata": {},
   "source": [
    "### CNN Model"
   ]
  },
  {
   "cell_type": "code",
   "execution_count": 38,
   "metadata": {},
   "outputs": [],
   "source": [
    "def CNN_Model(data,labels,epochs,batch_size,lr):\n",
    "    \"\"\"\n",
    "    Build CNN Model.\n",
    "    \n",
    "    Arguments:\n",
    "    ---------\n",
    "        data: training set. the shape is (m,n_h,n_w,n_c)\n",
    "        labels: training labels. the shape is (n_classes,m)\n",
    "        epochs: #Iterate.\n",
    "        batch_size: Mini-batch size.\n",
    "        lr:learning rate.\n",
    "    \"\"\"\n",
    "    L = 5\n",
    "    t = 0\n",
    "    seed = 0\n",
    "    parameters,V,M = initial_parameters()\n",
    "    for epoch in range(epochs):\n",
    "        seed +=1\n",
    "        mini_batchs = random_mini_batche(data,labels,seed=seed,mini_batche_size=batch_size)\n",
    "        for mini_x,mini_y in mini_batchs:\n",
    "            t += 1\n",
    "            A5,cache_fp,cache_Pool = CNN_Forward(data,parameters)\n",
    "            dparameters = Backward(A5,labels,cache_fp,cache_Pool,parameters)\n",
    "            parameters,V,M = Update(5,dparameters,parameters,V,M,beta_1=0.9,beta_2=0.999,t=t,lr=lr)\n",
    "        if epoch % 10 ==0:\n",
    "            accuracy_train,loss_train = Score(data,labels,parameters,is_loss=True)\n",
    "            print('Train Loss:{} Train acc:{}'.format(loss_train,accuracy_train))"
   ]
  },
  {
   "cell_type": "code",
   "execution_count": 39,
   "metadata": {
    "scrolled": true
   },
   "outputs": [
    {
     "name": "stdout",
     "output_type": "stream",
     "text": [
      "Train Loss:2.2946237215133336 Train acc:0.15\n",
      "Train Loss:2.140223344342747 Train acc:0.4\n",
      "Train Loss:1.509160990494695 Train acc:0.64\n",
      "Train Loss:0.709806027763834 Train acc:0.89\n",
      "Train Loss:0.2764945761805435 Train acc:1.0\n"
     ]
    }
   ],
   "source": [
    "CNN_Model(x_train,y_train,epochs=50,batch_size=64,lr=0.001)"
   ]
  },
  {
   "cell_type": "markdown",
   "metadata": {},
   "source": [
    "由于计算异常缓慢,这里特意调小了样本数量(我这里使用的是100个训练样本),至于验证集和测试集我们也没有必要测试,因为样本量太少了.接下去我们来看看框架是如何实现的."
   ]
  }
 ],
 "metadata": {
  "kernelspec": {
   "display_name": "Python 3",
   "language": "python",
   "name": "python3"
  },
  "language_info": {
   "codemirror_mode": {
    "name": "ipython",
    "version": 3
   },
   "file_extension": ".py",
   "mimetype": "text/x-python",
   "name": "python",
   "nbconvert_exporter": "python",
   "pygments_lexer": "ipython3",
   "version": "3.7.3"
  }
 },
 "nbformat": 4,
 "nbformat_minor": 2
}
