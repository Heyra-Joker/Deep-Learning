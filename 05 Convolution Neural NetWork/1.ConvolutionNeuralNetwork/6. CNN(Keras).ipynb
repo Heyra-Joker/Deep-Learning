{
 "cells": [
  {
   "cell_type": "markdown",
   "metadata": {},
   "source": [
    "#  CNN(Keras)"
   ]
  },
  {
   "cell_type": "markdown",
   "metadata": {},
   "source": [
    "![](../../picture/tf_CONV.png)\n",
    "\n",
    "这里我们使用CNN(Tensorflow)中的模型."
   ]
  },
  {
   "cell_type": "code",
   "execution_count": 8,
   "metadata": {},
   "outputs": [],
   "source": [
    "import numpy as np\n",
    "import keras\n",
    "from keras.models import Sequential\n",
    "from keras.layers import Dropout,Activation,Flatten,Dense\n",
    "from keras.layers import Conv2D,MaxPooling2D\n",
    "from keras.datasets import mnist\n",
    "\n",
    "import matplotlib.pyplot as plt"
   ]
  },
  {
   "cell_type": "markdown",
   "metadata": {},
   "source": [
    "## Load Datasets\n",
    "\n",
    "加载数据和之前是一样的,这里就不在多说了,其数据的形状为:$data:(m,n_h,n_w,n_c),labels:(m,n_{classes})$"
   ]
  },
  {
   "cell_type": "code",
   "execution_count": 6,
   "metadata": {},
   "outputs": [],
   "source": [
    "def Load_data(index,limit_train,limit_test):\n",
    "    \"\"\"\n",
    "    Load data set.\n",
    "    Arguments:\n",
    "    ---------\n",
    "        index: show minist digits index.\n",
    "        limit_train: sample limit of training set,in this case, choose 10K.\n",
    "        limit_test: sample limit of validation set,in this case,choose 0,1K.\n",
    "    Returns:\n",
    "    -------\n",
    "        x_train: training data set. divide by 255.-->normal\n",
    "        x_test: testing data set. divide by 255.-->normal\n",
    "        y_train: training data labels. It's a hot vector, shape is (m,n_classes).\n",
    "        y_test: testing data labels,a hot vector,shape is (m,n_classes).\n",
    "    \"\"\"\n",
    "    (X_train,Y_train),(X_test,Y_test) = mnist.load_data()\n",
    "    x_train = X_train[:limit_train,...].reshape(-1,28,28,1)\n",
    "    x_test = X_test[:limit_test,...].reshape(-1,28,28,1)\n",
    "    \n",
    "    n_classes = 10\n",
    "    y_train = keras.utils.to_categorical(Y_train[:limit_train],n_classes)\n",
    "    y_test = keras.utils.to_categorical(Y_test[:limit_test],n_classes)\n",
    "    \n",
    "    print('x_train reshape:\\n',x_train.shape)\n",
    "    print('x_test reshape:\\n',x_test.shape)\n",
    "    print('y_train shape:\\n ',y_train.shape)\n",
    "    print('y_test shape:\\n ',y_test.shape)\n",
    "    print('The Number is:{}'.format(Y_train[index]))\n",
    "    plt.imshow(X_train[index],cmap='gray')\n",
    "    plt.show()\n",
    "    \n",
    "    return x_train/255,x_test/255,y_train,y_test"
   ]
  },
  {
   "cell_type": "code",
   "execution_count": 7,
   "metadata": {},
   "outputs": [
    {
     "name": "stdout",
     "output_type": "stream",
     "text": [
      "x_train reshape:\n",
      " (60000, 28, 28, 1)\n",
      "x_test reshape:\n",
      " (10000, 28, 28, 1)\n",
      "y_train shape:\n",
      "  (60000, 10)\n",
      "y_test shape:\n",
      "  (10000, 10)\n",
      "The Number is:0\n"
     ]
    },
    {
     "data": {
      "image/png": "[encoded data removed]",
      "text/plain": [
       "<Figure size 432x288 with 1 Axes>"
      ]
     },
     "metadata": {
      "needs_background": "light"
     },
     "output_type": "display_data"
    }
   ],
   "source": [
    "x_train,x_test,y_train,y_test = Load_data(1,60000,10000)"
   ]
  },
  {
   "cell_type": "markdown",
   "metadata": {},
   "source": [
    "## Keras of CNN Model\n",
    "\n",
    "接下去我们使用Keras搭建CNN模型,其网络结构为:\n",
    "\n",
    "Input(28,28,1)-->CONV1(28,28,32)-->Relu1-->MaxPool1(28,28,32)-->CONV2(28,28,64)-->Relu2-->MaxPool2(28,28,64)-->Flatten-->FC3(1024)-->Dropout(0.3)-->FC4(10).\n",
    "\n",
    "[1] [Conv2D](https://keras.io/zh/layers/convolutional/#conv2d)\n",
    "\n",
    "- 遵循默认```cnannels_last```也即是:$(batch,N_h,N_w,N_c)$\n",
    "\n",
    "- filters:卷积核个数\n",
    "\n",
    "- kernel_size: 卷积核形状,int类型($F_h=F_w=int$)或者tuple类型$(F_h,F_w)$\n",
    "\n",
    "- strides:感受野步长,int类型($S_h=S_w=int$)或者tuple类型$(S_h,S_w)$\n",
    "\n",
    "- padding:可以选择\"same\"或者\"valid\",需要注意的是大小写敏感.\n",
    "\n",
    "[2] [MaxPooling2D](https://keras.io/zh/layers/pooling/#maxpooling2d)\n",
    "\n",
    "- 遵循默认```cnannels_last```也即是:$(batch,N_h,N_w,N_c)$\n",
    "\n",
    "- pool_size: 卷积窗口大小,int类型($P_h=P_w=int$)或者tuple类型$(P_h,P_w)$\n",
    "\n",
    "- strides:感受野步长,默认为None,如果是None表示使用$(S_h=S_w=2)$,int类型($S_h=S_w=int$)或者tuple类型$(S_h,S_w)$\n",
    "\n",
    "- padding:可以选择\"same\"或者\"valid\",需要注意的是大小写敏感.\n",
    "\n",
    "[3] [Flatten](https://keras.io/zh/layers/core/#flatten)\n",
    "\n",
    "- 遵循默认```cnannels_last```也即是:$(batch,N_h,N_w,N_c)$\n",
    "\n",
    "- 如果是```cnannels_last```,则输出为```(batch,-1)```"
   ]
  },
  {
   "cell_type": "code",
   "execution_count": 17,
   "metadata": {},
   "outputs": [],
   "source": [
    "def CNN_Model(data,labels,val_data,val_laebls,epochs,lr,BATCH_SIZE):\n",
    "    \"\"\"\n",
    "    Build Keras of CNN Model.\n",
    "    \n",
    "    Arguments:\n",
    "    ---------\n",
    "        data: training data set,the shape is (m,n_h,n_w,n_c).\n",
    "        labels: training data labels,the shape is (m,n_classes).\n",
    "        val_data: validation data set,shape equal data's shape.\n",
    "        val_laebls: validation labels,shape equal labels's shape.\n",
    "        epochs: Number of iterate.\n",
    "        lr: learning rate.\n",
    "        BATCH_SIZE: batch size.\n",
    "    Return:\n",
    "    ------\n",
    "        model: keras model.\n",
    "    \"\"\"\n",
    "    \n",
    "    _,n_clsses = labels.shape\n",
    "    model = Sequential() # create Sequential model.\n",
    "    ################ start build Keras of CNN Model #######################################################\n",
    "    model.add(Conv2D(filters=32,kernel_size=(5,5),strides=(1,1),padding='same',input_shape=data.shape[1:]))\n",
    "    model.add(Activation('relu'))\n",
    "    model.add(MaxPooling2D(pool_size=(2,2),strides=(2,2),padding='same'))\n",
    "    model.add(Conv2D(filters=64,kernel_size=(5,5),strides=(1,1),padding='same'))\n",
    "    model.add(Activation('relu'))\n",
    "    model.add(MaxPooling2D(pool_size=(2,2),strides=(2,2),padding='same'))\n",
    "    \n",
    "    model.add(Flatten())\n",
    "    model.add(Dense(1024))\n",
    "    model.add(Activation('relu'))\n",
    "    model.add(Dropout(0.3))\n",
    "    model.add(Dense(n_clsses))\n",
    "    model.add(Activation('softmax'))\n",
    "    ################# end of CNN model #####################################################################\n",
    "    optimizer = keras.optimizers.adam(lr=lr)\n",
    "    \n",
    "    model.compile(loss='categorical_crossentropy',\n",
    "                 optimizer = optimizer,\n",
    "                 metrics=['accuracy'])\n",
    "    \n",
    "    model.fit(data,labels,batch_size=BATCH_SIZE,epochs=epochs,validation_data=(val_data,val_laebls),shuffle=True)\n",
    "    \n",
    "    return model"
   ]
  },
  {
   "cell_type": "code",
   "execution_count": 19,
   "metadata": {
    "scrolled": true
   },
   "outputs": [
    {
     "name": "stdout",
     "output_type": "stream",
     "text": [
      "Train on 60000 samples, validate on 10000 samples\n",
      "Epoch 1/6\n",
      "60000/60000 [==============================] - 120s 2ms/step - loss: 0.2935 - acc: 0.9180 - val_loss: 0.0819 - val_acc: 0.9752\n",
      "Epoch 2/6\n",
      "60000/60000 [==============================] - 123s 2ms/step - loss: 0.0783 - acc: 0.9765 - val_loss: 0.0503 - val_acc: 0.9835\n",
      "Epoch 3/6\n",
      "60000/60000 [==============================] - 121s 2ms/step - loss: 0.0552 - acc: 0.9839 - val_loss: 0.0360 - val_acc: 0.9879\n",
      "Epoch 4/6\n",
      "60000/60000 [==============================] - 123s 2ms/step - loss: 0.0436 - acc: 0.9868 - val_loss: 0.0322 - val_acc: 0.9896\n",
      "Epoch 5/6\n",
      "60000/60000 [==============================] - 130s 2ms/step - loss: 0.0361 - acc: 0.9889 - val_loss: 0.0289 - val_acc: 0.9898\n",
      "Epoch 6/6\n",
      "60000/60000 [==============================] - 140s 2ms/step - loss: 0.0301 - acc: 0.9911 - val_loss: 0.0309 - val_acc: 0.9891\n"
     ]
    }
   ],
   "source": [
    "model = CNN_Model(x_train,y_train,x_test,y_test,epochs=6,lr=1e-4,BATCH_SIZE=64)"
   ]
  },
  {
   "cell_type": "markdown",
   "metadata": {},
   "source": [
    "可以看到经过6个epoch后,train acc为0.9911,val acc为0.9891,结果是可以接受的."
   ]
  },
  {
   "cell_type": "markdown",
   "metadata": {},
   "source": [
    "## Save Model And Load Model\n",
    "\n",
    "保存模型,我们只需要运行```model.save```即可,给予的数据格式是```h5```,所以需要确保已经安装了```HDFF5```模块.\n",
    "\n",
    "加载模型,我们只需要运行```load_model```即可,给予保存时候的文件```.h5```."
   ]
  },
  {
   "cell_type": "code",
   "execution_count": 20,
   "metadata": {},
   "outputs": [],
   "source": [
    "def SaveModel(model,model_name,model_dir='keras_save_model'):\n",
    "    \"\"\"\n",
    "    Save Model.\n",
    "    \n",
    "    Arguments:\n",
    "    ---------\n",
    "        model: keras model.\n",
    "        model_name: model name,it's \".h5\" file.\n",
    "        model_dir: dir default \"./keras_save_model/\"\n",
    "    \"\"\"\n",
    "    import os\n",
    "    if not os.path.isdir(model_dir):\n",
    "        os.mkdir(model_dir)\n",
    "    model_path = os.path.join(model_dir,model_name)\n",
    "    model.save(model_path)\n",
    "    print('Model Saved at %s'% model_path)"
   ]
  },
  {
   "cell_type": "code",
   "execution_count": 22,
   "metadata": {
    "scrolled": false
   },
   "outputs": [
    {
     "name": "stdout",
     "output_type": "stream",
     "text": [
      "Model Saved at keras_save_model/mnist_model.h5\n"
     ]
    }
   ],
   "source": [
    "SaveModel(model,'mnist_model.h5')"
   ]
  },
  {
   "cell_type": "markdown",
   "metadata": {},
   "source": [
    "保存好模型之后,我们加载模型并预测训练集的前两个样本."
   ]
  },
  {
   "cell_type": "code",
   "execution_count": 39,
   "metadata": {},
   "outputs": [],
   "source": [
    "def LoadModel(model_path,data,labels):\n",
    "    \"\"\"\n",
    "    Load model.\n",
    "    \n",
    "    Arguments:\n",
    "    ---------\n",
    "        model_path: save model path, it's \".h5\" file.\n",
    "        data: predict data.\n",
    "    \"\"\"\n",
    "    from keras.models import load_model\n",
    "    \n",
    "    model = load_model(model_path)\n",
    "    predict = np.argmax(model.predict(data),axis=1)\n",
    "    for i,value in enumerate(predict):\n",
    "        print('The {} picture,predict:{},the ture label:{}'.format(i,value,np.argmax(labels[i])))"
   ]
  },
  {
   "cell_type": "code",
   "execution_count": 40,
   "metadata": {},
   "outputs": [
    {
     "name": "stdout",
     "output_type": "stream",
     "text": [
      "The 0 picture,predict:5,the ture label:5\n",
      "The 1 picture,predict:0,the ture label:0\n"
     ]
    }
   ],
   "source": [
    "LoadModel('keras_save_model/mnist_model.h5',x_train[:2],y_train[:2])"
   ]
  },
  {
   "cell_type": "markdown",
   "metadata": {},
   "source": [
    "另外还有其他保存模型并调用的方式;\n",
    "\n",
    "第一种是只保存权重而不保存模型的结构:\n",
    "\n",
    "```python\n",
    "# save and load weights\n",
    "model.save_weights('my_model_weights.h5')\n",
    "model.load_weights('my_model_weights.h5')```\n",
    "\n",
    "第二种是用```model.to_json```保存完结构之后,然后再去加载这个```json_string```.\n",
    "\n",
    "```python\n",
    "# save and load fresh network without trained weights\n",
    "from keras.models import model_from_json\n",
    "json_string = model.to_json()\n",
    "model = model_from_json(json_string)```"
   ]
  }
 ],
 "metadata": {
  "kernelspec": {
   "display_name": "Python 3",
   "language": "python",
   "name": "python3"
  },
  "language_info": {
   "codemirror_mode": {
    "name": "ipython",
    "version": 3
   },
   "file_extension": ".py",
   "mimetype": "text/x-python",
   "name": "python",
   "nbconvert_exporter": "python",
   "pygments_lexer": "ipython3",
   "version": "3.7.3"
  }
 },
 "nbformat": 4,
 "nbformat_minor": 2
}
