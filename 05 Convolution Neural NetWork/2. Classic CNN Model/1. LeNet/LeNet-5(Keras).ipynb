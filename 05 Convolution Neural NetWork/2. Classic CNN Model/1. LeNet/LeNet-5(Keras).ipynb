{
 "cells": [
  {
   "cell_type": "markdown",
   "metadata": {},
   "source": [
    "# LeNet-5(Keras)\n"
   ]
  },
  {
   "cell_type": "code",
   "execution_count": 16,
   "metadata": {},
   "outputs": [],
   "source": [
    "import keras\n",
    "from keras.models import Sequential\n",
    "from keras.datasets import mnist\n",
    "from keras.layers import Conv2D,AveragePooling2D,Dense,Activation,ZeroPadding2D,Flatten\n",
    "\n",
    "\n",
    "import matplotlib.pyplot as plt\n",
    "from sklearn.model_selection import train_test_split"
   ]
  },
  {
   "cell_type": "markdown",
   "metadata": {},
   "source": [
    "## Load Dataset\n",
    "\n",
    "这里使用Keras数据集中的Minist数据集,train set 60K,test set 10K.\n",
    "\n",
    "这里将样本拆分为: train set 60K,validation set 7K, test set 3K.同时将样本reshape为$(28,28,1)$."
   ]
  },
  {
   "cell_type": "code",
   "execution_count": 14,
   "metadata": {},
   "outputs": [],
   "source": [
    "def loadDataset(index,split_rate):\n",
    "    \"\"\"\n",
    "    Load data set.\n",
    "    \n",
    "    Arguments:\n",
    "    ---------\n",
    "        index: show index images.\n",
    "        split_rate: validation set and test set split rate.\n",
    "    \n",
    "    Returns:\n",
    "    -------\n",
    "        x_train: training set shape is (m,n_c,n_h,n_w)\n",
    "        y_train: training labels shape is (m,)\n",
    "        x_val: validation set shape is (m,n_c,n_h,n_w)\n",
    "        y_val: validation labels shape is (m,)\n",
    "        x_test: testing set shape is (m,n_c,n_h,n_w)\n",
    "        y_test: testing labels shape is (m,)\n",
    "    \"\"\"\n",
    "    (x_train,y_train),(X,Y) = mnist.load_data()\n",
    "    n_classes = 10\n",
    "    \n",
    "    plt.imshow(x_train[index],cmap='gray')\n",
    "    plt.show()\n",
    "    \n",
    "    x_train,X = x_train / 255,X/255\n",
    "    x_val, x_test, y_val, y_test = train_test_split(X, Y, test_size=split_rate)\n",
    "    \n",
    "    x_train = x_train.reshape((-1,28,28,1))\n",
    "    x_val = x_val.reshape((-1,28,28,1))\n",
    "    x_test = x_test.reshape((-1,28,28,1))\n",
    "    \n",
    "    y_train = keras.utils.to_categorical(y_train,num_classes=n_classes)\n",
    "    y_val = keras.utils.to_categorical(y_val,num_classes=n_classes)\n",
    "    y_test = keras.utils.to_categorical(y_test,num_classes=n_classes)\n",
    "    \n",
    "    print('Training Set shape is:\\n',x_train.shape)\n",
    "    print('Training Labels shape is:\\n',y_train.shape)\n",
    "    print('Validation Set shape is:\\n',x_val.shape)\n",
    "    print('Validation Labels shape is:\\n',y_val.shape)\n",
    "    print('Testing Set shape is:\\n',x_test.shape)\n",
    "    print('Testing Labels shape is:\\n',y_test.shape)\n",
    "    \n",
    "    return x_train,y_train,x_val,y_val,x_test,y_test"
   ]
  },
  {
   "cell_type": "code",
   "execution_count": 15,
   "metadata": {},
   "outputs": [
    {
     "data": {
      "image/png": "[encoded data removed]",
      "text/plain": [
       "<Figure size 432x288 with 1 Axes>"
      ]
     },
     "metadata": {
      "needs_background": "light"
     },
     "output_type": "display_data"
    },
    {
     "name": "stdout",
     "output_type": "stream",
     "text": [
      "Training Set shape is:\n",
      " (60000, 28, 28, 1)\n",
      "Training Labels shape is:\n",
      " (60000, 10)\n",
      "Validation Set shape is:\n",
      " (7000, 28, 28, 1)\n",
      "Validation Labels shape is:\n",
      " (7000, 10)\n",
      "Testing Set shape is:\n",
      " (3000, 28, 28, 1)\n",
      "Testing Labels shape is:\n",
      " (3000, 10)\n"
     ]
    }
   ],
   "source": [
    "x_train,y_train,x_val,y_val,x_test,y_test = loadDataset(10,0.3)"
   ]
  },
  {
   "cell_type": "markdown",
   "metadata": {},
   "source": [
    "## Keras of LeNet-5\n",
    "\n",
    "下面开始使用Keras构造LeNet-5\n",
    "\n",
    "网络构成为:\n",
    "\n",
    "INPUT(batch,32,32,1)-->CONV1(batch,28,28,6)-->Relu1-->Average Pool1(batch,14,14,6)-->CONV2(batch,10,10,16)-->ReLu2-->Average Pool2(5,5,16)-->FC3(batch,120)-->FC4(batch,84)-->FC5(batch,10)."
   ]
  },
  {
   "cell_type": "code",
   "execution_count": 19,
   "metadata": {},
   "outputs": [],
   "source": [
    "def LeNet_5Model(data,labels,val_data,val_labels,test_data,test_labels,epochs,lr,BATCH_SIZE):\n",
    "    \"\"\"\n",
    "    Implemention LeNet-5 Module.\n",
    "    \n",
    "    Arguments:\n",
    "    ---------\n",
    "        data: training data set, the shape is (m,n_h,n_w,n_c).\n",
    "        labels: training labels, the shape is (m,n_classes).\n",
    "        val_data: validation data set, the shape is (m,n_h,n_w,n_c).\n",
    "        val_labels: validation labels, the shape is (m,n_classes).\n",
    "        test_data: testing data set, the shape is (m,n_h,n_w,n_c).\n",
    "        test_labels: tesing labels, the shape is (m,n_classes).\n",
    "        epochs: number of iterate. \n",
    "        lr: learning rate to use in RMSProp optimizer.\n",
    "        BATCH_SIZE: epoch size.\n",
    "    \n",
    "    \"\"\"\n",
    "    # create Sequential model\n",
    "    model = Sequential()\n",
    "    \n",
    "    # CNN layers\n",
    "    model.add(ZeroPadding2D(padding=((2,2),(2,2))))\n",
    "    model.add(Conv2D(filters=6,kernel_size=(5,5),strides=(1,1),input_shape=data.shape[1:]))\n",
    "    model.add(Activation('relu'))\n",
    "    model.add(AveragePooling2D(pool_size=(2,2),strides=(2,2)))\n",
    "    model.add(Conv2D(filters=16,kernel_size=(5,5),strides=(1,1)))\n",
    "    model.add(Activation('relu'))\n",
    "    model.add(AveragePooling2D(pool_size=(2,2),strides=(2,2)))\n",
    "    model.add(Flatten())\n",
    "    model.add(Dense(units=120,activation='relu'))\n",
    "    model.add(Dense(units=84,activation='relu'))\n",
    "    model.add(Dense(units=10,activation='softmax'))\n",
    "    # end of CNN layers\n",
    "    \n",
    "    # choose categorical crossentropy loss\n",
    "    loss = keras.losses.categorical_crossentropy\n",
    "    # choose RMSprop optimizer\n",
    "    optimizer = keras.optimizers.RMSprop(lr=lr)\n",
    "    # compile model\n",
    "    model.compile(loss=loss,optimizer=optimizer,metrics=['accuracy'])\n",
    "    # Starting Fitting\n",
    "    model.fit(data,labels,BATCH_SIZE,epochs,validation_data=(val_data,val_labels),shuffle=True)\n",
    "    \n",
    "    # Start Testing\n",
    "    loss,Accuracy = model.evaluate(test_data,test_labels,batch_size=BATCH_SIZE)\n",
    "    \n",
    "    print('\\033[0;35m The Testing Set Loss:{:.4f} Accuracy:{:.4f}\\033[0m'.format(loss,Accuracy))\n",
    "    \n",
    "    return model\n",
    "    "
   ]
  },
  {
   "cell_type": "code",
   "execution_count": 20,
   "metadata": {},
   "outputs": [
    {
     "name": "stdout",
     "output_type": "stream",
     "text": [
      "Train on 60000 samples, validate on 7000 samples\n",
      "Epoch 1/10\n",
      "60000/60000 [==============================] - 22s 363us/step - loss: 1.0981 - acc: 0.7266 - val_loss: 0.4052 - val_acc: 0.8857\n",
      "Epoch 2/10\n",
      "60000/60000 [==============================] - 23s 376us/step - loss: 0.3536 - acc: 0.8973 - val_loss: 0.2754 - val_acc: 0.9179\n",
      "Epoch 3/10\n",
      "60000/60000 [==============================] - 27s 455us/step - loss: 0.2640 - acc: 0.9219 - val_loss: 0.2127 - val_acc: 0.9373\n",
      "Epoch 4/10\n",
      "60000/60000 [==============================] - 30s 504us/step - loss: 0.2082 - acc: 0.9384 - val_loss: 0.1730 - val_acc: 0.9477\n",
      "Epoch 5/10\n",
      "60000/60000 [==============================] - 23s 387us/step - loss: 0.1703 - acc: 0.9505 - val_loss: 0.1395 - val_acc: 0.9591\n",
      "Epoch 6/10\n",
      "60000/60000 [==============================] - 24s 403us/step - loss: 0.1434 - acc: 0.9582 - val_loss: 0.1248 - val_acc: 0.9634\n",
      "Epoch 7/10\n",
      "60000/60000 [==============================] - 23s 389us/step - loss: 0.1251 - acc: 0.9632 - val_loss: 0.1049 - val_acc: 0.9706\n",
      "Epoch 8/10\n",
      "60000/60000 [==============================] - 23s 387us/step - loss: 0.1113 - acc: 0.9671 - val_loss: 0.0928 - val_acc: 0.9710\n",
      "Epoch 9/10\n",
      "60000/60000 [==============================] - 23s 385us/step - loss: 0.1013 - acc: 0.9701 - val_loss: 0.0835 - val_acc: 0.9747\n",
      "Epoch 10/10\n",
      "60000/60000 [==============================] - 24s 398us/step - loss: 0.0938 - acc: 0.9720 - val_loss: 0.0789 - val_acc: 0.9754\n",
      "3000/3000 [==============================] - 1s 186us/step\n",
      "\u001b[0;35m The Testing Set Loss:0.0848 Accuracy:0.9743\u001b[0m\n"
     ]
    }
   ],
   "source": [
    "model = LeNet_5Model(x_train,y_train,x_val,y_val,x_test,y_test,epochs=10,lr=1e-4,BATCH_SIZE=100)"
   ]
  }
 ],
 "metadata": {
  "kernelspec": {
   "display_name": "Python 3",
   "language": "python",
   "name": "python3"
  },
  "language_info": {
   "codemirror_mode": {
    "name": "ipython",
    "version": 3
   },
   "file_extension": ".py",
   "mimetype": "text/x-python",
   "name": "python",
   "nbconvert_exporter": "python",
   "pygments_lexer": "ipython3",
   "version": "3.7.3"
  }
 },
 "nbformat": 4,
 "nbformat_minor": 2
}
