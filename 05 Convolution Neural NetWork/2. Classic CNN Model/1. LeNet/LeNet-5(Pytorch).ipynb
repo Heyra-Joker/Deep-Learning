{
 "cells": [
  {
   "cell_type": "markdown",
   "metadata": {},
   "source": [
    "# LeNet-5(Pytorch)"
   ]
  },
  {
   "cell_type": "markdown",
   "metadata": {},
   "source": [
    "![](../../../picture/177.png)\n",
    "该模型是原文模型,在C3层以及最后的Gaussian Connections是比较难实现的.我们目前而言对该模型做一些调整:\n",
    "\n",
    "- 原文sigmoid激活函数,更改为ReLu函数\n",
    "\n",
    "- C3层依然使用普通采样\n",
    "\n",
    "- 由于输入为$(32,32)$,Minis数据集为$(28,28)$,所以我们输入层需要padding.\n",
    "\n",
    "- 输出层我们不再采用Gaussian connection,转而使用softmax."
   ]
  },
  {
   "cell_type": "code",
   "execution_count": 1,
   "metadata": {},
   "outputs": [
    {
     "name": "stderr",
     "output_type": "stream",
     "text": [
      "Using TensorFlow backend.\n"
     ]
    }
   ],
   "source": [
    "import numpy as np\n",
    "import torch\n",
    "import torch.nn as nn\n",
    "import torch.utils.data as Data\n",
    "from torch.autograd import Variable\n",
    "from keras.datasets import mnist\n",
    "import matplotlib.pyplot as plt\n",
    "from sklearn.model_selection import train_test_split"
   ]
  },
  {
   "cell_type": "markdown",
   "metadata": {},
   "source": [
    "## Load Dataset\n",
    "\n",
    "这里使用Keras数据集中的Minist数据集,train set 60K,test set 10K.\n",
    "\n",
    "这里将样本拆分为: train set 60K,validation set 7K, test set 3K.同时将样本reshape为$(1,28,28)$."
   ]
  },
  {
   "cell_type": "code",
   "execution_count": 2,
   "metadata": {},
   "outputs": [],
   "source": [
    "def loadDataset(index,split_rate):\n",
    "    \"\"\"\n",
    "    Load data set.\n",
    "    \n",
    "    Arguments:\n",
    "    ---------\n",
    "        index: show index images.\n",
    "        split_rate: validation set and test set split rate.\n",
    "    \n",
    "    Returns:\n",
    "    -------\n",
    "        x_train: training set shape is (m,n_c,n_h,n_w)\n",
    "        y_train: training labels shape is (m,)\n",
    "        x_val: validation set shape is (m,n_c,n_h,n_w)\n",
    "        y_val: validation labels shape is (m,)\n",
    "        x_test: testing set shape is (m,n_c,n_h,n_w)\n",
    "        y_test: testing labels shape is (m,)\n",
    "    \"\"\"\n",
    "    (x_train,y_train),(X,Y) = mnist.load_data()\n",
    "\n",
    "    \n",
    "    plt.imshow(x_train[index],cmap='gray')\n",
    "    plt.show()\n",
    "    \n",
    "    x_train,X = x_train / 255,X/255\n",
    "    x_val, x_test, y_val, y_test = train_test_split(X, Y, test_size=split_rate)\n",
    "    \n",
    "    x_train = x_train.reshape((-1,1,28,28))\n",
    "    x_val = x_val.reshape((-1,1,28,28))\n",
    "    x_test = x_test.reshape((-1,1,28,28))\n",
    "    \n",
    "    print('Training Set shape is:\\n',x_train.shape)\n",
    "    print('Training Labels shape is:\\n',y_train.shape)\n",
    "    print('Validation Set shape is:\\n',x_val.shape)\n",
    "    print('Validation Labels shape is:\\n',y_val.shape)\n",
    "    print('Testing Set shape is:\\n',x_test.shape)\n",
    "    print('Testing Labels shape is:\\n',y_test.shape)\n",
    "    \n",
    "    return x_train,y_train,x_val,y_val,x_test,y_test"
   ]
  },
  {
   "cell_type": "code",
   "execution_count": 3,
   "metadata": {},
   "outputs": [
    {
     "data": {
      "image/png": "[encoded data removed]",
      "text/plain": [
       "<Figure size 432x288 with 1 Axes>"
      ]
     },
     "metadata": {
      "needs_background": "light"
     },
     "output_type": "display_data"
    },
    {
     "name": "stdout",
     "output_type": "stream",
     "text": [
      "Training Set shape is:\n",
      " (60000, 1, 28, 28)\n",
      "Training Labels shape is:\n",
      " (60000,)\n",
      "Validation Set shape is:\n",
      " (7000, 1, 28, 28)\n",
      "Validation Labels shape is:\n",
      " (7000,)\n",
      "Testing Set shape is:\n",
      " (3000, 1, 28, 28)\n",
      "Testing Labels shape is:\n",
      " (3000,)\n"
     ]
    }
   ],
   "source": [
    "x_train,y_train,x_val,y_val,x_test,y_test = loadDataset(10,0.3)"
   ]
  },
  {
   "cell_type": "markdown",
   "metadata": {},
   "source": [
    "## Forward\n",
    "\n",
    "接下去我们来构建Forward.网络结构为:\n",
    "\n",
    "INPUT(batch,1,32,32)-->CONV1(batch,6,28,28)-->Relu1-->Average Pool1(batch,6,14,14)-->CONV2(batch,16,10,10)-->ReLu2-->Average Pool2(16,5,5)-->FC3(batch,120)-->FC4(batch,84)-->FC5(batch,10)"
   ]
  },
  {
   "cell_type": "code",
   "execution_count": 4,
   "metadata": {},
   "outputs": [],
   "source": [
    "class Module(nn.Module):\n",
    "    \"\"\"\n",
    "    Build Forward Class Model.\n",
    "    \"\"\"\n",
    "    def __init__(self):\n",
    "        \"\"\"\n",
    "        Initialization Class Module.\n",
    "        \"\"\"\n",
    "        nn.Module.__init__(self)\n",
    "        # CONV layers\n",
    "        self.CONV = nn.ModuleList([\n",
    "            nn.Conv2d(1,6,kernel_size=(5,5),stride=(1,1)),\n",
    "            nn.ReLU(),\n",
    "            nn.AvgPool2d(kernel_size=(2,2),stride=(2,2)),\n",
    "            nn.ReLU(),\n",
    "            nn.Conv2d(6,16,kernel_size=(5,5),stride=(1,1)),\n",
    "            nn.ReLU(),\n",
    "            nn.AvgPool2d(kernel_size=(2,2),stride=(2,2)),\n",
    "        ])\n",
    "        # Fully Connect layers.\n",
    "        self.FULLY_CONNECT = nn.ModuleList([\n",
    "            nn.Linear(400,120),\n",
    "            nn.ReLU(),\n",
    "            nn.Linear(120,84),\n",
    "            nn.ReLU(),\n",
    "            nn.Linear(84,10)\n",
    "        ])\n",
    "        # Change initialize weight in CONV and FC.\n",
    "        [nn.init.xavier_normal_(m.weight) for m in self.CONV if m.__class__.__name__ != \"ReLU\" and m.__class__.__name__ != \"AvgPool2d\"]\n",
    "        [nn.init.xavier_normal_(m.weight) for m in self.FULLY_CONNECT if m.__class__.__name__ != \"ReLU\"]\n",
    "        \n",
    "    def forward(self,X):\n",
    "        \"\"\"\n",
    "        Forward propagation.\n",
    "        \n",
    "        Arguments:\n",
    "        ---------\n",
    "            X: training data set.\n",
    "        Return:\n",
    "        ------\n",
    "            X: output layer value, the shape is (batch,n_classes).\n",
    "        Notic:\n",
    "        ------\n",
    "            1.The output layers must be not use any activation function ! We use nn.CrossEntropyLoss() loss func.\n",
    "            2.The papaer Input shape is (32,32),so we need pad=2 data.\n",
    "            \n",
    "        \"\"\"\n",
    "        X = nn.functional.pad(X,pad=(2,2,2,2)) # padding_left,padding_right,padding_top,padding_bottom\n",
    "        for layer_c in self.CONV:\n",
    "            X = layer_c(X)\n",
    "        \n",
    "        m,_,_,_ = X.size()\n",
    "        X = torch.reshape(X,(m,-1)) # flatten data,shape is (batch,-1)\n",
    "        \n",
    "        for layer_f in self.FULLY_CONNECT:\n",
    "            X = layer_f(X)\n",
    "        return X"
   ]
  },
  {
   "cell_type": "code",
   "execution_count": 5,
   "metadata": {},
   "outputs": [
    {
     "data": {
      "text/plain": [
       "torch.Size([60000, 10])"
      ]
     },
     "execution_count": 5,
     "metadata": {},
     "output_type": "execute_result"
    }
   ],
   "source": [
    "with torch.no_grad():\n",
    "    X_test = Variable(torch.FloatTensor(x_train))\n",
    "model = Module()\n",
    "out = model.forward(X_test)\n",
    "out.size()"
   ]
  },
  {
   "cell_type": "markdown",
   "metadata": {},
   "source": [
    "可以看到Forward能够完整运行,并输出正确的shape."
   ]
  },
  {
   "cell_type": "markdown",
   "metadata": {},
   "source": [
    "## Score\n",
    "\n",
    "创建评分函数,用于在一定的epoch内评分数据集"
   ]
  },
  {
   "cell_type": "code",
   "execution_count": 6,
   "metadata": {},
   "outputs": [],
   "source": [
    "def Score(model,cost,data,labels,is_loss=False):\n",
    "    \"\"\"\n",
    "    Socre function.\n",
    "    \n",
    "    Arguments:\n",
    "    ---------\n",
    "       cost: cost function to caculate loss value.\n",
    "       data: score data, the shape is (m,n_c,n_h,n_w).\n",
    "       labels: score data labes. The shape is (m,)\n",
    "       is_loss: caculate loss value,if is equal True.\n",
    "    Returns:\n",
    "    -------\n",
    "        accuracy: correct rate in current epoch.\n",
    "        loss: loss value in currcet epoch,if is euqal True.\n",
    "    \"\"\"\n",
    "    model.eval() # set module is testing !\n",
    "    \n",
    "    out = model.forward(data)\n",
    "    \n",
    "    predict = torch.argmax(nn.functional.softmax(out,dim=-1),dim=1)\n",
    "    correct = torch.eq(predict,labels).type(torch.FloatTensor)\n",
    "    accuracy = torch.mean(correct)\n",
    "    \n",
    "    if is_loss:\n",
    "        loss = cost(out,labels)\n",
    "        return accuracy,loss\n",
    "    else:\n",
    "        return accuracy"
   ]
  },
  {
   "cell_type": "markdown",
   "metadata": {},
   "source": [
    "## Pytorch of LeNet-5 Model"
   ]
  },
  {
   "cell_type": "code",
   "execution_count": 7,
   "metadata": {},
   "outputs": [],
   "source": [
    "def LeNet_5Model(data,labels,val_data,val_labes,test_data,test_labels,epochs,lr,BATCH_SIZE):\n",
    "    \"\"\"\n",
    "    Implemention LeNet-5 Model.\n",
    "    \n",
    "    Arguments:\n",
    "    ---------\n",
    "        \n",
    "     Arguments:\n",
    "    ---------\n",
    "        data: training data set, the shape is (m,n_c,n_h,n_w).\n",
    "        labels: training labels, the shape is (m,).\n",
    "        val_data: validation data set, the shape is (m,n_c,n_h,b_w).\n",
    "        val_labels: validation labels, the shape is (m,).\n",
    "        test_data: testing data set, the shape is (m,n_c,n_h,n_w).\n",
    "        test_labels: tesing labels, the shape is (m).\n",
    "        epochs: number of iterate. \n",
    "        lr: learning rate to use in RMSProp optimizer.\n",
    "        BATCH_SIZE: epoch size.\n",
    "    \n",
    "    \"\"\"\n",
    "    \n",
    "    # set score func data.\n",
    "    with torch.no_grad():\n",
    "        data_tensor = Variable(torch.FloatTensor(data))\n",
    "        labels_tensor = Variable(torch.LongTensor(labels))\n",
    "        val_data_tensor = Variable(torch.FloatTensor(val_data))\n",
    "        val_labels_tensor = Variable(torch.LongTensor(val_labes))\n",
    "        test_data_tensor = Variable(torch.FloatTensor(test_data))\n",
    "        test_labels_tensor = Variable(torch.LongTensor(test_labels))\n",
    "    \n",
    "    # create model \n",
    "    model = Module()\n",
    "    cost = nn.CrossEntropyLoss()\n",
    "    optimizer = torch.optim.RMSprop(model.parameters(),lr=lr)\n",
    "    \n",
    "    # create mini-batchs data.\n",
    "    X = Variable(torch.FloatTensor(data))\n",
    "    y = Variable(torch.LongTensor(labels))\n",
    "    data_set = Data.TensorDataset(X,y)\n",
    "    loder = Data.DataLoader(dataset=data_set,batch_size=BATCH_SIZE,shuffle=True,num_workers=2)\n",
    "    \n",
    "    # start training\n",
    "    for epoch in range(epochs):\n",
    "        model.train()\n",
    "        for mini_x,mini_y in loder:\n",
    "            out = model.forward(mini_x) # forward\n",
    "            loss = cost(out,mini_y) # caculate loss\n",
    "            optimizer.zero_grad() # clear grad\n",
    "            loss.backward() # backward\n",
    "            optimizer.step() # update\n",
    "        # score\n",
    "        if epoch % 1 == 0:\n",
    "            acc_train,loss_train = Score(model,cost,data_tensor,labels_tensor,is_loss=True)\n",
    "            acc_val,loss_val = Score(model,cost,val_data_tensor,val_labels_tensor,is_loss=True)\n",
    "            print('[{}/{}] train loss:{:.4f} train acc:{:.4f} val loss:{:.4f} val acc:{:.4f}'.format(epoch+1,\n",
    "                                                                                                    epochs,\n",
    "                                                                                                    loss_train,\n",
    "                                                                                                    acc_train,\n",
    "                                                                                                    loss_val,\n",
    "                                                                                                    acc_val))\n",
    "    print('Start Testing...')\n",
    "    acc_train,loss_train = Score(model,cost,test_data_tensor,test_labels_tensor,is_loss=True)\n",
    "    print('\\033[0;35m The Testing Set Loss:{:.4f} Accuracy:{:.4f}\\033[0m'.format(loss_train,acc_train))\n",
    "    \n",
    "    "
   ]
  },
  {
   "cell_type": "code",
   "execution_count": 8,
   "metadata": {},
   "outputs": [
    {
     "name": "stdout",
     "output_type": "stream",
     "text": [
      "[1/10] train loss:0.4080 train acc:0.8767 val loss:0.3843 val acc:0.8849\n",
      "[2/10] train loss:0.3032 train acc:0.9074 val loss:0.2838 val acc:0.9130\n",
      "[3/10] train loss:0.2432 train acc:0.9273 val loss:0.2280 val acc:0.9291\n",
      "[4/10] train loss:0.2028 train acc:0.9388 val loss:0.1922 val acc:0.9409\n",
      "[5/10] train loss:0.1673 train acc:0.9518 val loss:0.1568 val acc:0.9537\n",
      "[6/10] train loss:0.1397 train acc:0.9588 val loss:0.1297 val acc:0.9611\n",
      "[7/10] train loss:0.1211 train acc:0.9641 val loss:0.1131 val acc:0.9670\n",
      "[8/10] train loss:0.1147 train acc:0.9655 val loss:0.1096 val acc:0.9671\n",
      "[9/10] train loss:0.1050 train acc:0.9686 val loss:0.0965 val acc:0.9694\n",
      "[10/10] train loss:0.0940 train acc:0.9710 val loss:0.0876 val acc:0.9703\n",
      "Start Testing...\n",
      "\u001b[0;35m The Testing Set Loss:0.0883 Accuracy:0.9723\u001b[0m\n"
     ]
    }
   ],
   "source": [
    "LeNet_5Model(x_train,y_train,x_val,y_val,x_test,y_test,epochs=10,lr=1e-4,BATCH_SIZE=100)"
   ]
  }
 ],
 "metadata": {
  "kernelspec": {
   "display_name": "Python 3",
   "language": "python",
   "name": "python3"
  },
  "language_info": {
   "codemirror_mode": {
    "name": "ipython",
    "version": 3
   },
   "file_extension": ".py",
   "mimetype": "text/x-python",
   "name": "python",
   "nbconvert_exporter": "python",
   "pygments_lexer": "ipython3",
   "version": "3.7.3"
  }
 },
 "nbformat": 4,
 "nbformat_minor": 2
}
