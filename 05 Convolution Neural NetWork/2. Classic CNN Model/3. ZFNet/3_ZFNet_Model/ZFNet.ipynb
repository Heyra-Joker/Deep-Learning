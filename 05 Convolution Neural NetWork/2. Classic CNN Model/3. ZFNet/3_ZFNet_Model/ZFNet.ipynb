{
 "cells": [
  {
   "cell_type": "markdown",
   "metadata": {},
   "source": [
    "# ZFNet\n",
    "\n",
    "![](../../../../picture/220.png)\n",
    "\n",
    "ZFNet是在AlexNet基础上的微调,这里就不在多说ZFNet了,详细代码附在本本文件夹.\n",
    "\n",
    "这里贴上训练的结果"
   ]
  },
  {
   "cell_type": "markdown",
   "metadata": {},
   "source": [
    "### Tensorflow\n",
    "\n",
    "![](tensorflow.png)"
   ]
  },
  {
   "cell_type": "markdown",
   "metadata": {},
   "source": [
    "可以看到ZFNet在```epoch=6```的时候即可以达到```AlexNet```在```epoch=8```时的准确率,说明ZFNet的微调确实起到了效果."
   ]
  },
  {
   "cell_type": "markdown",
   "metadata": {},
   "source": [
    "### Keras\n",
    "\n",
    "![](keras.png)"
   ]
  },
  {
   "cell_type": "markdown",
   "metadata": {},
   "source": [
    "可以看到Keras也是得到类似的结果."
   ]
  },
  {
   "cell_type": "markdown",
   "metadata": {},
   "source": [
    "### Pytorch\n",
    "\n",
    "![](pytorch.png)"
   ]
  },
  {
   "cell_type": "markdown",
   "metadata": {},
   "source": [
    "也许是由于Pytorch自身的原因,无论是AlexNet还是ZFNet收敛速度都会极慢于上面两个框架,我找过类似的AlexNet网络,效率是一样的.\n",
    "\n",
    "![](pytorch2.png)"
   ]
  },
  {
   "cell_type": "markdown",
   "metadata": {},
   "source": [
    "可以看到在```epoch=20```的时候模型的训练样本正确率才较高,而且和我的一样,模型处于过拟合的状态."
   ]
  }
 ],
 "metadata": {
  "kernelspec": {
   "display_name": "Python 3",
   "language": "python",
   "name": "python3"
  },
  "language_info": {
   "codemirror_mode": {
    "name": "ipython",
    "version": 3
   },
   "file_extension": ".py",
   "mimetype": "text/x-python",
   "name": "python",
   "nbconvert_exporter": "python",
   "pygments_lexer": "ipython3",
   "version": "3.7.3"
  }
 },
 "nbformat": 4,
 "nbformat_minor": 2
}
