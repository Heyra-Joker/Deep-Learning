{
 "cells": [
  {
   "cell_type": "code",
   "execution_count": 1,
   "metadata": {},
   "outputs": [],
   "source": [
    "import tensorflow as tf\n",
    "import numpy as np\n",
    "tf.reset_default_graph()"
   ]
  },
  {
   "cell_type": "code",
   "execution_count": 2,
   "metadata": {},
   "outputs": [
    {
     "name": "stdout",
     "output_type": "stream",
     "text": [
      "Tensor(\"random_uniform:0\", shape=(2, 221, 221, 3), dtype=float32)\n"
     ]
    }
   ],
   "source": [
    "data = tf.random.uniform((2,221,221,3),seed=1)\n",
    "print(data)"
   ]
  },
  {
   "cell_type": "code",
   "execution_count": 3,
   "metadata": {},
   "outputs": [],
   "source": [
    "W1 = tf.random.uniform((7,7,3,96))\n",
    "b1 = tf.random.uniform((1,1,96))\n",
    "W2 = tf.random.uniform((7,7,96,256))\n",
    "b2 = tf.random.uniform((1,1,256))\n",
    "W3 = tf.random.uniform((3,3,256,512))\n",
    "b3 = tf.random.uniform((1,1,512))\n",
    "W4 = tf.random.uniform((3,3,512,512))\n",
    "b4 = tf.random.uniform((1,1,512))\n",
    "W5 = tf.random.uniform((3,3,512,1024))\n",
    "b5 = tf.random.uniform((1,1,1024))\n",
    "W6 = tf.random.uniform((3,3,1024,1024))\n",
    "b6 = tf.random.uniform((1,1,1024))\n",
    "W7 = tf.random.uniform((5,5,1024,4096))\n",
    "b7 = tf.random.uniform((1,1,4096))\n",
    "W8 = tf.random.uniform((1,1,4096,4096))\n",
    "b8 = tf.random.uniform((1,1,4096))\n",
    "W9 = tf.random.uniform((1,1,4096,1000))\n",
    "b9 = tf.random.uniform((1,1,1000))"
   ]
  },
  {
   "cell_type": "code",
   "execution_count": 4,
   "metadata": {
    "scrolled": true
   },
   "outputs": [
    {
     "name": "stdout",
     "output_type": "stream",
     "text": [
      "Tensor(\"Conv2D_5:0\", shape=(2, 15, 15, 1024), dtype=float32)\n"
     ]
    },
    {
     "data": {
      "text/plain": [
       "<tf.Tensor 'Conv2D_8:0' shape=(2, 1, 1, 1000) dtype=float32>"
      ]
     },
     "execution_count": 4,
     "metadata": {},
     "output_type": "execute_result"
    }
   ],
   "source": [
    "#Conv1\n",
    "conv1 = tf.nn.conv2d(data,W1,strides=(1,2,2,1),padding='VALID') + b1\n",
    "#  relu....\n",
    "pool1 = tf.nn.max_pool(conv1,ksize=(1,3,3,1),strides=(1,3,3,1),padding='VALID')\n",
    "\n",
    "#Conv2\n",
    "conv2 = tf.nn.conv2d(pool1,W2,strides=(1,1,1,1),padding=\"VALID\")\n",
    "pool2 = tf.nn.max_pool(conv2,ksize=(1,2,2,1),strides=(1,2,2,1),padding=\"VALID\")\n",
    "\n",
    "#Conv3\n",
    "conv3 = tf.nn.conv2d(pool2,W3,strides=(1,1,1,1),padding=\"SAME\")\n",
    "\n",
    "#Conv4\n",
    "conv4 = tf.nn.conv2d(conv3,W4,strides=(1,1,1,1),padding=\"SAME\")\n",
    "\n",
    "#Conv5\n",
    "conv5 = tf.nn.conv2d(conv4,W5,strides=(1,1,1,1),padding=\"SAME\")\n",
    "\n",
    "\n",
    "#Conv6\n",
    "conv6 = tf.nn.conv2d(conv5,W6,strides=(1,1,1,1),padding=\"SAME\")\n",
    "print(conv6)\n",
    "pool6 = tf.nn.max_pool(conv6,ksize=(1,3,3,1),strides=(1,3,3,1),padding=\"VALID\")\n",
    "\n",
    "#Connv7\n",
    "conv7 = tf.nn.conv2d(pool6,W7,strides=(1,1,1,1),padding=\"VALID\")\n",
    "\n",
    "#conv8 \n",
    "conv8 = tf.nn.conv2d(conv7,W8,strides=(1,1,1,1),padding=\"VALID\")\n",
    "\n",
    "#conv9\n",
    "conv9 = tf.nn.conv2d(conv8,W9,strides=(1,1,1,1),padding=\"VALID\")\n",
    "conv9"
   ]
  },
  {
   "cell_type": "code",
   "execution_count": 5,
   "metadata": {},
   "outputs": [],
   "source": [
    "sess = tf.Session()"
   ]
  },
  {
   "cell_type": "code",
   "execution_count": 56,
   "metadata": {},
   "outputs": [],
   "source": [
    "def offset(conv,W,sess):\n",
    "    a = []\n",
    "    for w in range(3):\n",
    "        for h in range(3):\n",
    "            print(h,w)\n",
    "            conv_ = conv[:,h:,w:,:]\n",
    "            pool_ = tf.nn.max_pool(conv,ksize=(1,3,3,1),strides=(1,3,3,1),padding=\"VALID\")\n",
    "\n",
    "            conv7 = tf.nn.conv2d(pool_,W7,strides=(1,1,1,1),padding=\"VALID\")\n",
    "\n",
    "            conv8 = tf.nn.conv2d(conv7,W8,strides=(1,1,1,1),padding=\"VALID\")\n",
    "            out = tf.nn.conv2d(conv8,W9,strides=(1,1,1,1),padding=\"VALID\")\n",
    "            out = tf.squeeze(out)\n",
    "            out_ = sess.run(out)\n",
    "            a.append(out_)\n",
    "    \n",
    "    \n",
    "    a = np.array(a)\n",
    "    maps,h,w,c = a.shape\n",
    "    a = a.reshape((3*h,3*w,c))\n",
    "    \n",
    "    return a"
   ]
  },
  {
   "cell_type": "code",
   "execution_count": 57,
   "metadata": {},
   "outputs": [
    {
     "name": "stdout",
     "output_type": "stream",
     "text": [
      "Tensor(\"Conv2D_689:0\", shape=(1, 20, 23, 1024), dtype=float32)\n",
      "0 0\n",
      "1 0\n",
      "2 0\n",
      "0 1\n",
      "1 1\n",
      "2 1\n",
      "0 2\n",
      "1 2\n",
      "2 2\n",
      "(6, 9, 1000)\n"
     ]
    }
   ],
   "source": [
    "test1 = tf.random.uniform((1,281,317,3),seed=1)\n",
    "#Conv1\n",
    "conv1 = tf.nn.conv2d(test1,W1,strides=(1,2,2,1),padding='VALID') + b1\n",
    "#  relu....\n",
    "pool1 = tf.nn.max_pool(conv1,ksize=(1,3,3,1),strides=(1,3,3,1),padding='VALID')\n",
    "\n",
    "#Conv2\n",
    "conv2 = tf.nn.conv2d(pool1,W2,strides=(1,1,1,1),padding=\"VALID\")\n",
    "pool2 = tf.nn.max_pool(conv2,ksize=(1,2,2,1),strides=(1,2,2,1),padding=\"VALID\")\n",
    "\n",
    "#Conv3\n",
    "conv3 = tf.nn.conv2d(pool2,W3,strides=(1,1,1,1),padding=\"SAME\")\n",
    "\n",
    "#Conv4\n",
    "conv4 = tf.nn.conv2d(conv3,W4,strides=(1,1,1,1),padding=\"SAME\")\n",
    "\n",
    "#Conv5\n",
    "conv5 = tf.nn.conv2d(conv4,W5,strides=(1,1,1,1),padding=\"SAME\")\n",
    "print(conv5)\n",
    "out = offset(conv5,W7,sess)\n",
    "print(out.shape)"
   ]
  },
  {
   "cell_type": "code",
   "execution_count": 62,
   "metadata": {},
   "outputs": [],
   "source": [
    "from scipy import stats\n",
    "def predict(out):\n",
    "    out = out.reshape((-1,1000))\n",
    "    argmax = np.argmax(out,axis=1)\n",
    "    print(argmax)\n",
    "    print(argmax.shape)\n",
    "    res = stats.mode(argmax)[0][0]\n",
    "    print(res)"
   ]
  },
  {
   "cell_type": "code",
   "execution_count": 63,
   "metadata": {},
   "outputs": [
    {
     "name": "stdout",
     "output_type": "stream",
     "text": [
      "[473 473 473 473 473 473 848 848 848 848 848 848 528 528 528 528 528 528\n",
      "  66  66  66  66  66  66  50  50  50  50  50  50 798 798 798 798 798 798\n",
      " 585 585 585 585 585 585 678 678 678 678 678 678 457 457 457 457 457 457]\n",
      "(54,)\n",
      "50\n"
     ]
    }
   ],
   "source": [
    "predict(out)"
   ]
  },
  {
   "cell_type": "code",
   "execution_count": 64,
   "metadata": {},
   "outputs": [
    {
     "data": {
      "text/plain": [
       "1"
      ]
     },
     "execution_count": 64,
     "metadata": {},
     "output_type": "execute_result"
    }
   ],
   "source": [
    "res = stats.mode([1,1,2,3,4])[0][0]\n",
    "res"
   ]
  },
  {
   "cell_type": "code",
   "execution_count": null,
   "metadata": {},
   "outputs": [],
   "source": []
  }
 ],
 "metadata": {
  "kernelspec": {
   "display_name": "Python 3",
   "language": "python",
   "name": "python3"
  },
  "language_info": {
   "codemirror_mode": {
    "name": "ipython",
    "version": 3
   },
   "file_extension": ".py",
   "mimetype": "text/x-python",
   "name": "python",
   "nbconvert_exporter": "python",
   "pygments_lexer": "ipython3",
   "version": "3.7.3"
  }
 },
 "nbformat": 4,
 "nbformat_minor": 2
}
